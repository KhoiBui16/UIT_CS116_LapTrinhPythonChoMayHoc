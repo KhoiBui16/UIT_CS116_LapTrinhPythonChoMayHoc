{
 "cells": [
  {
   "cell_type": "markdown",
   "metadata": {},
   "source": [
    "# Tutorial Data Preprocessing"
   ]
  },
  {
   "cell_type": "markdown",
   "metadata": {},
   "source": [
    "## Tao đặc trưng mới - Feature extraction - (Feature extration 1 phần của Feature engineering)"
   ]
  },
  {
   "cell_type": "markdown",
   "metadata": {},
   "source": [
    "- Dựa trên 1 số kinh nghiệm trên lĩnh vực của miền dữ liệu đang làm --> đặc trưng mới --> dự đoán giá trị ouput tốt hơn\n",
    "- Dữ liệu dạng bảng --> bước quan trọng --> mô hình tăng độ accuracy lên (đây là sự khác biệt)"
   ]
  },
  {
   "cell_type": "markdown",
   "metadata": {},
   "source": [
    "- ***Feature engineering***: bao gồm feature extraction, feature transformation, feature selection"
   ]
  },
  {
   "cell_type": "markdown",
   "metadata": {},
   "source": [
    "## 1. Biến đổi toán học"
   ]
  },
  {
   "cell_type": "code",
   "execution_count": 6,
   "metadata": {},
   "outputs": [
    {
     "data": {
      "application/vnd.microsoft.datawrangler.viewer.v0+json": {
       "columns": [
        {
         "name": "index",
         "rawType": "int64",
         "type": "integer"
        },
        {
         "name": "velocity",
         "rawType": "int64",
         "type": "integer"
        },
        {
         "name": "time",
         "rawType": "int64",
         "type": "integer"
        }
       ],
       "conversionMethod": "pd.DataFrame",
       "ref": "7a0cc4f3-bfd2-4172-8273-ee7c9fc48538",
       "rows": [
        [
         "0",
         "7",
         "8"
        ],
        [
         "1",
         "9",
         "10"
        ],
        [
         "2",
         "11",
         "6"
        ],
        [
         "3",
         "20",
         "4"
        ],
        [
         "4",
         "10",
         "3"
        ],
        [
         "5",
         "15",
         "9"
        ]
       ],
       "shape": {
        "columns": 2,
        "rows": 6
       }
      },
      "text/html": [
       "<div>\n",
       "<style scoped>\n",
       "    .dataframe tbody tr th:only-of-type {\n",
       "        vertical-align: middle;\n",
       "    }\n",
       "\n",
       "    .dataframe tbody tr th {\n",
       "        vertical-align: top;\n",
       "    }\n",
       "\n",
       "    .dataframe thead th {\n",
       "        text-align: right;\n",
       "    }\n",
       "</style>\n",
       "<table border=\"1\" class=\"dataframe\">\n",
       "  <thead>\n",
       "    <tr style=\"text-align: right;\">\n",
       "      <th></th>\n",
       "      <th>velocity</th>\n",
       "      <th>time</th>\n",
       "    </tr>\n",
       "  </thead>\n",
       "  <tbody>\n",
       "    <tr>\n",
       "      <th>0</th>\n",
       "      <td>7</td>\n",
       "      <td>8</td>\n",
       "    </tr>\n",
       "    <tr>\n",
       "      <th>1</th>\n",
       "      <td>9</td>\n",
       "      <td>10</td>\n",
       "    </tr>\n",
       "    <tr>\n",
       "      <th>2</th>\n",
       "      <td>11</td>\n",
       "      <td>6</td>\n",
       "    </tr>\n",
       "    <tr>\n",
       "      <th>3</th>\n",
       "      <td>20</td>\n",
       "      <td>4</td>\n",
       "    </tr>\n",
       "    <tr>\n",
       "      <th>4</th>\n",
       "      <td>10</td>\n",
       "      <td>3</td>\n",
       "    </tr>\n",
       "    <tr>\n",
       "      <th>5</th>\n",
       "      <td>15</td>\n",
       "      <td>9</td>\n",
       "    </tr>\n",
       "  </tbody>\n",
       "</table>\n",
       "</div>"
      ],
      "text/plain": [
       "   velocity  time\n",
       "0         7     8\n",
       "1         9    10\n",
       "2        11     6\n",
       "3        20     4\n",
       "4        10     3\n",
       "5        15     9"
      ]
     },
     "execution_count": 6,
     "metadata": {},
     "output_type": "execute_result"
    }
   ],
   "source": [
    "import pandas as pd\n",
    "\n",
    "df = pd.DataFrame({\n",
    "    'velocity' : [7, 9, 11, 20, 10, 15],\n",
    "    'time' : [8, 10, 6, 4, 3, 9]\n",
    "})\n",
    "df\n"
   ]
  },
  {
   "cell_type": "code",
   "execution_count": 9,
   "metadata": {},
   "outputs": [
    {
     "data": {
      "application/vnd.microsoft.datawrangler.viewer.v0+json": {
       "columns": [
        {
         "name": "index",
         "rawType": "int64",
         "type": "integer"
        },
        {
         "name": "velocity",
         "rawType": "int64",
         "type": "integer"
        },
        {
         "name": "time",
         "rawType": "int64",
         "type": "integer"
        },
        {
         "name": "distance",
         "rawType": "int64",
         "type": "integer"
        }
       ],
       "conversionMethod": "pd.DataFrame",
       "ref": "15ac3d4d-23a2-4d6e-8152-3b100a166865",
       "rows": [
        [
         "0",
         "7",
         "8",
         "56"
        ],
        [
         "1",
         "9",
         "10",
         "90"
        ],
        [
         "2",
         "11",
         "6",
         "66"
        ],
        [
         "3",
         "20",
         "4",
         "80"
        ],
        [
         "4",
         "10",
         "3",
         "30"
        ],
        [
         "5",
         "15",
         "9",
         "135"
        ]
       ],
       "shape": {
        "columns": 3,
        "rows": 6
       }
      },
      "text/html": [
       "<div>\n",
       "<style scoped>\n",
       "    .dataframe tbody tr th:only-of-type {\n",
       "        vertical-align: middle;\n",
       "    }\n",
       "\n",
       "    .dataframe tbody tr th {\n",
       "        vertical-align: top;\n",
       "    }\n",
       "\n",
       "    .dataframe thead th {\n",
       "        text-align: right;\n",
       "    }\n",
       "</style>\n",
       "<table border=\"1\" class=\"dataframe\">\n",
       "  <thead>\n",
       "    <tr style=\"text-align: right;\">\n",
       "      <th></th>\n",
       "      <th>velocity</th>\n",
       "      <th>time</th>\n",
       "      <th>distance</th>\n",
       "    </tr>\n",
       "  </thead>\n",
       "  <tbody>\n",
       "    <tr>\n",
       "      <th>0</th>\n",
       "      <td>7</td>\n",
       "      <td>8</td>\n",
       "      <td>56</td>\n",
       "    </tr>\n",
       "    <tr>\n",
       "      <th>1</th>\n",
       "      <td>9</td>\n",
       "      <td>10</td>\n",
       "      <td>90</td>\n",
       "    </tr>\n",
       "    <tr>\n",
       "      <th>2</th>\n",
       "      <td>11</td>\n",
       "      <td>6</td>\n",
       "      <td>66</td>\n",
       "    </tr>\n",
       "    <tr>\n",
       "      <th>3</th>\n",
       "      <td>20</td>\n",
       "      <td>4</td>\n",
       "      <td>80</td>\n",
       "    </tr>\n",
       "    <tr>\n",
       "      <th>4</th>\n",
       "      <td>10</td>\n",
       "      <td>3</td>\n",
       "      <td>30</td>\n",
       "    </tr>\n",
       "    <tr>\n",
       "      <th>5</th>\n",
       "      <td>15</td>\n",
       "      <td>9</td>\n",
       "      <td>135</td>\n",
       "    </tr>\n",
       "  </tbody>\n",
       "</table>\n",
       "</div>"
      ],
      "text/plain": [
       "   velocity  time  distance\n",
       "0         7     8        56\n",
       "1         9    10        90\n",
       "2        11     6        66\n",
       "3        20     4        80\n",
       "4        10     3        30\n",
       "5        15     9       135"
      ]
     },
     "execution_count": 9,
     "metadata": {},
     "output_type": "execute_result"
    }
   ],
   "source": [
    "# Tạo thêm 1 đặc trưng bằng công thức toán học: v = s * t  | ở đây là phép nhân từng phần tử\n",
    "df['distance'] = df['velocity'] * df['time']\n",
    "df\n"
   ]
  },
  {
   "cell_type": "markdown",
   "metadata": {},
   "source": [
    "## 2. Đếm số lần, tần số xuất hiện"
   ]
  },
  {
   "cell_type": "code",
   "execution_count": 11,
   "metadata": {},
   "outputs": [
    {
     "data": {
      "application/vnd.microsoft.datawrangler.viewer.v0+json": {
       "columns": [
        {
         "name": "index",
         "rawType": "int64",
         "type": "integer"
        },
        {
         "name": "value",
         "rawType": "int64",
         "type": "integer"
        },
        {
         "name": "Color",
         "rawType": "object",
         "type": "string"
        }
       ],
       "conversionMethod": "pd.DataFrame",
       "ref": "4a6490fe-f012-43cf-b122-167d33906707",
       "rows": [
        [
         "0",
         "100",
         "Red"
        ],
        [
         "1",
         "150",
         "Red"
        ],
        [
         "2",
         "50",
         "Blue"
        ],
        [
         "3",
         "200",
         "Red"
        ],
        [
         "4",
         "100",
         "Green"
        ],
        [
         "5",
         "100",
         "Blue"
        ]
       ],
       "shape": {
        "columns": 2,
        "rows": 6
       }
      },
      "text/html": [
       "<div>\n",
       "<style scoped>\n",
       "    .dataframe tbody tr th:only-of-type {\n",
       "        vertical-align: middle;\n",
       "    }\n",
       "\n",
       "    .dataframe tbody tr th {\n",
       "        vertical-align: top;\n",
       "    }\n",
       "\n",
       "    .dataframe thead th {\n",
       "        text-align: right;\n",
       "    }\n",
       "</style>\n",
       "<table border=\"1\" class=\"dataframe\">\n",
       "  <thead>\n",
       "    <tr style=\"text-align: right;\">\n",
       "      <th></th>\n",
       "      <th>value</th>\n",
       "      <th>Color</th>\n",
       "    </tr>\n",
       "  </thead>\n",
       "  <tbody>\n",
       "    <tr>\n",
       "      <th>0</th>\n",
       "      <td>100</td>\n",
       "      <td>Red</td>\n",
       "    </tr>\n",
       "    <tr>\n",
       "      <th>1</th>\n",
       "      <td>150</td>\n",
       "      <td>Red</td>\n",
       "    </tr>\n",
       "    <tr>\n",
       "      <th>2</th>\n",
       "      <td>50</td>\n",
       "      <td>Blue</td>\n",
       "    </tr>\n",
       "    <tr>\n",
       "      <th>3</th>\n",
       "      <td>200</td>\n",
       "      <td>Red</td>\n",
       "    </tr>\n",
       "    <tr>\n",
       "      <th>4</th>\n",
       "      <td>100</td>\n",
       "      <td>Green</td>\n",
       "    </tr>\n",
       "    <tr>\n",
       "      <th>5</th>\n",
       "      <td>100</td>\n",
       "      <td>Blue</td>\n",
       "    </tr>\n",
       "  </tbody>\n",
       "</table>\n",
       "</div>"
      ],
      "text/plain": [
       "   value  Color\n",
       "0    100    Red\n",
       "1    150    Red\n",
       "2     50   Blue\n",
       "3    200    Red\n",
       "4    100  Green\n",
       "5    100   Blue"
      ]
     },
     "execution_count": 11,
     "metadata": {},
     "output_type": "execute_result"
    }
   ],
   "source": [
    "# Đếm tần số xuất hiện\n",
    "import pandas as pd\n",
    "\n",
    "df = pd.DataFrame({\n",
    "    'value' : [100, 150, 50, 200, 100, 100],\n",
    "    'Color' : 'Red Red Blue Red Green Blue'.split()\n",
    "    })\n",
    "df\n"
   ]
  },
  {
   "cell_type": "code",
   "execution_count": 12,
   "metadata": {},
   "outputs": [
    {
     "data": {
      "text/plain": [
       "{'Red': 3, 'Blue': 2, 'Green': 1}"
      ]
     },
     "execution_count": 12,
     "metadata": {},
     "output_type": "execute_result"
    }
   ],
   "source": [
    "# đếm tần sốt xuất hiện --> tạo ra thêm 1 cột color_count --> đếm cột val trong dict\n",
    "vc = df['Color'].value_counts().to_dict()\n",
    "vc\n"
   ]
  },
  {
   "cell_type": "code",
   "execution_count": 14,
   "metadata": {},
   "outputs": [
    {
     "data": {
      "application/vnd.microsoft.datawrangler.viewer.v0+json": {
       "columns": [
        {
         "name": "index",
         "rawType": "int64",
         "type": "integer"
        },
        {
         "name": "value",
         "rawType": "int64",
         "type": "integer"
        },
        {
         "name": "Color",
         "rawType": "object",
         "type": "string"
        },
        {
         "name": "Colo_count",
         "rawType": "int64",
         "type": "integer"
        }
       ],
       "conversionMethod": "pd.DataFrame",
       "ref": "e9bc2a8e-e256-4879-986a-ed4c736e8ce6",
       "rows": [
        [
         "0",
         "100",
         "Red",
         "3"
        ],
        [
         "1",
         "150",
         "Red",
         "3"
        ],
        [
         "2",
         "50",
         "Blue",
         "2"
        ],
        [
         "3",
         "200",
         "Red",
         "3"
        ],
        [
         "4",
         "100",
         "Green",
         "1"
        ],
        [
         "5",
         "100",
         "Blue",
         "2"
        ]
       ],
       "shape": {
        "columns": 3,
        "rows": 6
       }
      },
      "text/html": [
       "<div>\n",
       "<style scoped>\n",
       "    .dataframe tbody tr th:only-of-type {\n",
       "        vertical-align: middle;\n",
       "    }\n",
       "\n",
       "    .dataframe tbody tr th {\n",
       "        vertical-align: top;\n",
       "    }\n",
       "\n",
       "    .dataframe thead th {\n",
       "        text-align: right;\n",
       "    }\n",
       "</style>\n",
       "<table border=\"1\" class=\"dataframe\">\n",
       "  <thead>\n",
       "    <tr style=\"text-align: right;\">\n",
       "      <th></th>\n",
       "      <th>value</th>\n",
       "      <th>Color</th>\n",
       "      <th>Colo_count</th>\n",
       "    </tr>\n",
       "  </thead>\n",
       "  <tbody>\n",
       "    <tr>\n",
       "      <th>0</th>\n",
       "      <td>100</td>\n",
       "      <td>Red</td>\n",
       "      <td>3</td>\n",
       "    </tr>\n",
       "    <tr>\n",
       "      <th>1</th>\n",
       "      <td>150</td>\n",
       "      <td>Red</td>\n",
       "      <td>3</td>\n",
       "    </tr>\n",
       "    <tr>\n",
       "      <th>2</th>\n",
       "      <td>50</td>\n",
       "      <td>Blue</td>\n",
       "      <td>2</td>\n",
       "    </tr>\n",
       "    <tr>\n",
       "      <th>3</th>\n",
       "      <td>200</td>\n",
       "      <td>Red</td>\n",
       "      <td>3</td>\n",
       "    </tr>\n",
       "    <tr>\n",
       "      <th>4</th>\n",
       "      <td>100</td>\n",
       "      <td>Green</td>\n",
       "      <td>1</td>\n",
       "    </tr>\n",
       "    <tr>\n",
       "      <th>5</th>\n",
       "      <td>100</td>\n",
       "      <td>Blue</td>\n",
       "      <td>2</td>\n",
       "    </tr>\n",
       "  </tbody>\n",
       "</table>\n",
       "</div>"
      ],
      "text/plain": [
       "   value  Color  Colo_count\n",
       "0    100    Red           3\n",
       "1    150    Red           3\n",
       "2     50   Blue           2\n",
       "3    200    Red           3\n",
       "4    100  Green           1\n",
       "5    100   Blue           2"
      ]
     },
     "execution_count": 14,
     "metadata": {},
     "output_type": "execute_result"
    }
   ],
   "source": [
    "# Thêm cột mới tần số color_count \n",
    "df['Colo_count'] = df['Color'].map(vc) # map dùng để color count tra trong bảng tương ứng là bao nhiêu --> điềm cho Color_count\n",
    "df\n"
   ]
  },
  {
   "cell_type": "markdown",
   "metadata": {},
   "source": [
    "## 3. Đếm số lương theo nhiều côt"
   ]
  },
  {
   "cell_type": "code",
   "execution_count": 15,
   "metadata": {},
   "outputs": [
    {
     "data": {
      "application/vnd.microsoft.datawrangler.viewer.v0+json": {
       "columns": [
        {
         "name": "index",
         "rawType": "int64",
         "type": "integer"
        },
        {
         "name": "Bus",
         "rawType": "int64",
         "type": "integer"
        },
        {
         "name": "Car",
         "rawType": "int64",
         "type": "integer"
        },
        {
         "name": "Motobike",
         "rawType": "int64",
         "type": "integer"
        }
       ],
       "conversionMethod": "pd.DataFrame",
       "ref": "5e979358-30ce-4788-87dd-1fc2b3713895",
       "rows": [
        [
         "0",
         "0",
         "0",
         "0"
        ],
        [
         "1",
         "0",
         "0",
         "1"
        ],
        [
         "2",
         "0",
         "0",
         "0"
        ],
        [
         "3",
         "1",
         "0",
         "0"
        ],
        [
         "4",
         "0",
         "1",
         "1"
        ]
       ],
       "shape": {
        "columns": 3,
        "rows": 5
       }
      },
      "text/html": [
       "<div>\n",
       "<style scoped>\n",
       "    .dataframe tbody tr th:only-of-type {\n",
       "        vertical-align: middle;\n",
       "    }\n",
       "\n",
       "    .dataframe tbody tr th {\n",
       "        vertical-align: top;\n",
       "    }\n",
       "\n",
       "    .dataframe thead th {\n",
       "        text-align: right;\n",
       "    }\n",
       "</style>\n",
       "<table border=\"1\" class=\"dataframe\">\n",
       "  <thead>\n",
       "    <tr style=\"text-align: right;\">\n",
       "      <th></th>\n",
       "      <th>Bus</th>\n",
       "      <th>Car</th>\n",
       "      <th>Motobike</th>\n",
       "    </tr>\n",
       "  </thead>\n",
       "  <tbody>\n",
       "    <tr>\n",
       "      <th>0</th>\n",
       "      <td>0</td>\n",
       "      <td>0</td>\n",
       "      <td>0</td>\n",
       "    </tr>\n",
       "    <tr>\n",
       "      <th>1</th>\n",
       "      <td>0</td>\n",
       "      <td>0</td>\n",
       "      <td>1</td>\n",
       "    </tr>\n",
       "    <tr>\n",
       "      <th>2</th>\n",
       "      <td>0</td>\n",
       "      <td>0</td>\n",
       "      <td>0</td>\n",
       "    </tr>\n",
       "    <tr>\n",
       "      <th>3</th>\n",
       "      <td>1</td>\n",
       "      <td>0</td>\n",
       "      <td>0</td>\n",
       "    </tr>\n",
       "    <tr>\n",
       "      <th>4</th>\n",
       "      <td>0</td>\n",
       "      <td>1</td>\n",
       "      <td>1</td>\n",
       "    </tr>\n",
       "  </tbody>\n",
       "</table>\n",
       "</div>"
      ],
      "text/plain": [
       "   Bus  Car  Motobike\n",
       "0    0    0         0\n",
       "1    0    0         1\n",
       "2    0    0         0\n",
       "3    1    0         0\n",
       "4    0    1         1"
      ]
     },
     "execution_count": 15,
     "metadata": {},
     "output_type": "execute_result"
    }
   ],
   "source": [
    "df = pd.DataFrame({\n",
    "    'Bus' : [0, 0, 0, 1, 0],\n",
    "    'Car' : [0, 0, 0, 0, 1],\n",
    "    'Motobike' : [0, 1, 0, 0, 1]\n",
    "    })\n",
    "df\n"
   ]
  },
  {
   "cell_type": "code",
   "execution_count": null,
   "metadata": {},
   "outputs": [
    {
     "data": {
      "application/vnd.microsoft.datawrangler.viewer.v0+json": {
       "columns": [
        {
         "name": "index",
         "rawType": "int64",
         "type": "integer"
        },
        {
         "name": "Bus",
         "rawType": "int64",
         "type": "integer"
        },
        {
         "name": "Car",
         "rawType": "int64",
         "type": "integer"
        },
        {
         "name": "Motobike",
         "rawType": "int64",
         "type": "integer"
        },
        {
         "name": "use_vehicle",
         "rawType": "int64",
         "type": "integer"
        }
       ],
       "conversionMethod": "pd.DataFrame",
       "ref": "350c40d2-69b9-4c08-ac79-230cb3ddaf28",
       "rows": [
        [
         "0",
         "0",
         "0",
         "0",
         "0"
        ],
        [
         "1",
         "0",
         "0",
         "1",
         "1"
        ],
        [
         "2",
         "0",
         "0",
         "0",
         "0"
        ],
        [
         "3",
         "1",
         "0",
         "0",
         "1"
        ],
        [
         "4",
         "0",
         "1",
         "1",
         "1"
        ]
       ],
       "shape": {
        "columns": 4,
        "rows": 5
       }
      },
      "text/html": [
       "<div>\n",
       "<style scoped>\n",
       "    .dataframe tbody tr th:only-of-type {\n",
       "        vertical-align: middle;\n",
       "    }\n",
       "\n",
       "    .dataframe tbody tr th {\n",
       "        vertical-align: top;\n",
       "    }\n",
       "\n",
       "    .dataframe thead th {\n",
       "        text-align: right;\n",
       "    }\n",
       "</style>\n",
       "<table border=\"1\" class=\"dataframe\">\n",
       "  <thead>\n",
       "    <tr style=\"text-align: right;\">\n",
       "      <th></th>\n",
       "      <th>Bus</th>\n",
       "      <th>Car</th>\n",
       "      <th>Motobike</th>\n",
       "      <th>use_vehicle</th>\n",
       "    </tr>\n",
       "  </thead>\n",
       "  <tbody>\n",
       "    <tr>\n",
       "      <th>0</th>\n",
       "      <td>0</td>\n",
       "      <td>0</td>\n",
       "      <td>0</td>\n",
       "      <td>0</td>\n",
       "    </tr>\n",
       "    <tr>\n",
       "      <th>1</th>\n",
       "      <td>0</td>\n",
       "      <td>0</td>\n",
       "      <td>1</td>\n",
       "      <td>1</td>\n",
       "    </tr>\n",
       "    <tr>\n",
       "      <th>2</th>\n",
       "      <td>0</td>\n",
       "      <td>0</td>\n",
       "      <td>0</td>\n",
       "      <td>0</td>\n",
       "    </tr>\n",
       "    <tr>\n",
       "      <th>3</th>\n",
       "      <td>1</td>\n",
       "      <td>0</td>\n",
       "      <td>0</td>\n",
       "      <td>1</td>\n",
       "    </tr>\n",
       "    <tr>\n",
       "      <th>4</th>\n",
       "      <td>0</td>\n",
       "      <td>1</td>\n",
       "      <td>1</td>\n",
       "      <td>1</td>\n",
       "    </tr>\n",
       "  </tbody>\n",
       "</table>\n",
       "</div>"
      ],
      "text/plain": [
       "   Bus  Car  Motobike  use_vehicle\n",
       "0    0    0         0            0\n",
       "1    0    0         1            1\n",
       "2    0    0         0            0\n",
       "3    1    0         0            1\n",
       "4    0    1         1            1"
      ]
     },
     "execution_count": 16,
     "metadata": {},
     "output_type": "execute_result"
    }
   ],
   "source": [
    "# Kiểm tra có dùng vehicle ko\n",
    "vehicles = ['Car', 'Motobike', 'Bus']\n",
    "df['use_vehicle'] = df[vehicles].max(axis=1)\n",
    "df\n"
   ]
  },
  {
   "cell_type": "markdown",
   "metadata": {},
   "source": [
    "## 4. Phân rã đặc trưng từ chuỗi có cấu trúc"
   ]
  },
  {
   "cell_type": "markdown",
   "metadata": {},
   "source": [
    "- Dữ liệu dataframe đuượ format theo dạng nhất dạng"
   ]
  },
  {
   "cell_type": "code",
   "execution_count": 20,
   "metadata": {},
   "outputs": [
    {
     "data": {
      "application/vnd.microsoft.datawrangler.viewer.v0+json": {
       "columns": [
        {
         "name": "index",
         "rawType": "int64",
         "type": "integer"
        },
        {
         "name": "OSInfo",
         "rawType": "object",
         "type": "string"
        }
       ],
       "conversionMethod": "pd.DataFrame",
       "ref": "a114b1c0-604f-4a8b-802d-439e6f276433",
       "rows": [
        [
         "0",
         "Apple MacOS X 10.0"
        ],
        [
         "1",
         "Microsoft Windows 11"
        ],
        [
         "2",
         "Microsoft Window XP"
        ],
        [
         "3",
         "Apple MacOS X 10.5"
        ],
        [
         "4",
         "Apple iOS 11.5"
        ],
        [
         "5",
         "Microsoft Windows Vista"
        ]
       ],
       "shape": {
        "columns": 1,
        "rows": 6
       }
      },
      "text/html": [
       "<div>\n",
       "<style scoped>\n",
       "    .dataframe tbody tr th:only-of-type {\n",
       "        vertical-align: middle;\n",
       "    }\n",
       "\n",
       "    .dataframe tbody tr th {\n",
       "        vertical-align: top;\n",
       "    }\n",
       "\n",
       "    .dataframe thead th {\n",
       "        text-align: right;\n",
       "    }\n",
       "</style>\n",
       "<table border=\"1\" class=\"dataframe\">\n",
       "  <thead>\n",
       "    <tr style=\"text-align: right;\">\n",
       "      <th></th>\n",
       "      <th>OSInfo</th>\n",
       "    </tr>\n",
       "  </thead>\n",
       "  <tbody>\n",
       "    <tr>\n",
       "      <th>0</th>\n",
       "      <td>Apple MacOS X 10.0</td>\n",
       "    </tr>\n",
       "    <tr>\n",
       "      <th>1</th>\n",
       "      <td>Microsoft Windows 11</td>\n",
       "    </tr>\n",
       "    <tr>\n",
       "      <th>2</th>\n",
       "      <td>Microsoft Window XP</td>\n",
       "    </tr>\n",
       "    <tr>\n",
       "      <th>3</th>\n",
       "      <td>Apple MacOS X 10.5</td>\n",
       "    </tr>\n",
       "    <tr>\n",
       "      <th>4</th>\n",
       "      <td>Apple iOS 11.5</td>\n",
       "    </tr>\n",
       "    <tr>\n",
       "      <th>5</th>\n",
       "      <td>Microsoft Windows Vista</td>\n",
       "    </tr>\n",
       "  </tbody>\n",
       "</table>\n",
       "</div>"
      ],
      "text/plain": [
       "                    OSInfo\n",
       "0       Apple MacOS X 10.0\n",
       "1     Microsoft Windows 11\n",
       "2      Microsoft Window XP\n",
       "3       Apple MacOS X 10.5\n",
       "4           Apple iOS 11.5\n",
       "5  Microsoft Windows Vista"
      ]
     },
     "execution_count": 20,
     "metadata": {},
     "output_type": "execute_result"
    }
   ],
   "source": [
    "df = pd.DataFrame({\n",
    "    'OSInfo' : [\n",
    "            'Apple MacOS X 10.0', 'Microsoft Windows 11', \n",
    "            'Microsoft Window XP', 'Apple MacOS X 10.5', \n",
    "            'Apple iOS 11.5', 'Microsoft Windows Vista'\n",
    "        ]\n",
    "})\n",
    "df\n"
   ]
  },
  {
   "cell_type": "code",
   "execution_count": null,
   "metadata": {},
   "outputs": [
    {
     "data": {
      "application/vnd.microsoft.datawrangler.viewer.v0+json": {
       "columns": [
        {
         "name": "index",
         "rawType": "int64",
         "type": "integer"
        },
        {
         "name": "0",
         "rawType": "object",
         "type": "string"
        },
        {
         "name": "1",
         "rawType": "object",
         "type": "string"
        }
       ],
       "conversionMethod": "pd.DataFrame",
       "ref": "093d613f-a168-476b-a9c3-bc7661462120",
       "rows": [
        [
         "0",
         "Apple",
         "MacOS X 10.0"
        ],
        [
         "1",
         "Microsoft",
         "Windows 11"
        ],
        [
         "2",
         "Microsoft",
         "Window XP"
        ],
        [
         "3",
         "Apple",
         "MacOS X 10.5"
        ],
        [
         "4",
         "Apple",
         "iOS 11.5"
        ],
        [
         "5",
         "Microsoft",
         "Windows Vista"
        ]
       ],
       "shape": {
        "columns": 2,
        "rows": 6
       }
      },
      "text/html": [
       "<div>\n",
       "<style scoped>\n",
       "    .dataframe tbody tr th:only-of-type {\n",
       "        vertical-align: middle;\n",
       "    }\n",
       "\n",
       "    .dataframe tbody tr th {\n",
       "        vertical-align: top;\n",
       "    }\n",
       "\n",
       "    .dataframe thead th {\n",
       "        text-align: right;\n",
       "    }\n",
       "</style>\n",
       "<table border=\"1\" class=\"dataframe\">\n",
       "  <thead>\n",
       "    <tr style=\"text-align: right;\">\n",
       "      <th></th>\n",
       "      <th>0</th>\n",
       "      <th>1</th>\n",
       "    </tr>\n",
       "  </thead>\n",
       "  <tbody>\n",
       "    <tr>\n",
       "      <th>0</th>\n",
       "      <td>Apple</td>\n",
       "      <td>MacOS X 10.0</td>\n",
       "    </tr>\n",
       "    <tr>\n",
       "      <th>1</th>\n",
       "      <td>Microsoft</td>\n",
       "      <td>Windows 11</td>\n",
       "    </tr>\n",
       "    <tr>\n",
       "      <th>2</th>\n",
       "      <td>Microsoft</td>\n",
       "      <td>Window XP</td>\n",
       "    </tr>\n",
       "    <tr>\n",
       "      <th>3</th>\n",
       "      <td>Apple</td>\n",
       "      <td>MacOS X 10.5</td>\n",
       "    </tr>\n",
       "    <tr>\n",
       "      <th>4</th>\n",
       "      <td>Apple</td>\n",
       "      <td>iOS 11.5</td>\n",
       "    </tr>\n",
       "    <tr>\n",
       "      <th>5</th>\n",
       "      <td>Microsoft</td>\n",
       "      <td>Windows Vista</td>\n",
       "    </tr>\n",
       "  </tbody>\n",
       "</table>\n",
       "</div>"
      ],
      "text/plain": [
       "           0              1\n",
       "0      Apple   MacOS X 10.0\n",
       "1  Microsoft     Windows 11\n",
       "2  Microsoft      Window XP\n",
       "3      Apple   MacOS X 10.5\n",
       "4      Apple       iOS 11.5\n",
       "5  Microsoft  Windows Vista"
      ]
     },
     "execution_count": 25,
     "metadata": {},
     "output_type": "execute_result"
    }
   ],
   "source": [
    "# tách theo hãng hẹ điều hành - phiên bản\n",
    "df['OSInfo'].str.split(' ', n=1, expand=True) # n: số cột tách thêm theo từ\n",
    "\n"
   ]
  },
  {
   "cell_type": "code",
   "execution_count": 26,
   "metadata": {},
   "outputs": [
    {
     "data": {
      "application/vnd.microsoft.datawrangler.viewer.v0+json": {
       "columns": [
        {
         "name": "index",
         "rawType": "int64",
         "type": "integer"
        },
        {
         "name": "company",
         "rawType": "object",
         "type": "string"
        },
        {
         "name": "OS",
         "rawType": "object",
         "type": "string"
        }
       ],
       "conversionMethod": "pd.DataFrame",
       "ref": "a43c0af5-edbb-4f89-be1a-0596583801ad",
       "rows": [
        [
         "0",
         "Apple",
         "MacOS X 10.0"
        ],
        [
         "1",
         "Microsoft",
         "Windows 11"
        ],
        [
         "2",
         "Microsoft",
         "Window XP"
        ],
        [
         "3",
         "Apple",
         "MacOS X 10.5"
        ],
        [
         "4",
         "Apple",
         "iOS 11.5"
        ],
        [
         "5",
         "Microsoft",
         "Windows Vista"
        ]
       ],
       "shape": {
        "columns": 2,
        "rows": 6
       }
      },
      "text/html": [
       "<div>\n",
       "<style scoped>\n",
       "    .dataframe tbody tr th:only-of-type {\n",
       "        vertical-align: middle;\n",
       "    }\n",
       "\n",
       "    .dataframe tbody tr th {\n",
       "        vertical-align: top;\n",
       "    }\n",
       "\n",
       "    .dataframe thead th {\n",
       "        text-align: right;\n",
       "    }\n",
       "</style>\n",
       "<table border=\"1\" class=\"dataframe\">\n",
       "  <thead>\n",
       "    <tr style=\"text-align: right;\">\n",
       "      <th></th>\n",
       "      <th>company</th>\n",
       "      <th>OS</th>\n",
       "    </tr>\n",
       "  </thead>\n",
       "  <tbody>\n",
       "    <tr>\n",
       "      <th>0</th>\n",
       "      <td>Apple</td>\n",
       "      <td>MacOS X 10.0</td>\n",
       "    </tr>\n",
       "    <tr>\n",
       "      <th>1</th>\n",
       "      <td>Microsoft</td>\n",
       "      <td>Windows 11</td>\n",
       "    </tr>\n",
       "    <tr>\n",
       "      <th>2</th>\n",
       "      <td>Microsoft</td>\n",
       "      <td>Window XP</td>\n",
       "    </tr>\n",
       "    <tr>\n",
       "      <th>3</th>\n",
       "      <td>Apple</td>\n",
       "      <td>MacOS X 10.5</td>\n",
       "    </tr>\n",
       "    <tr>\n",
       "      <th>4</th>\n",
       "      <td>Apple</td>\n",
       "      <td>iOS 11.5</td>\n",
       "    </tr>\n",
       "    <tr>\n",
       "      <th>5</th>\n",
       "      <td>Microsoft</td>\n",
       "      <td>Windows Vista</td>\n",
       "    </tr>\n",
       "  </tbody>\n",
       "</table>\n",
       "</div>"
      ],
      "text/plain": [
       "     company             OS\n",
       "0      Apple   MacOS X 10.0\n",
       "1  Microsoft     Windows 11\n",
       "2  Microsoft      Window XP\n",
       "3      Apple   MacOS X 10.5\n",
       "4      Apple       iOS 11.5\n",
       "5  Microsoft  Windows Vista"
      ]
     },
     "execution_count": 26,
     "metadata": {},
     "output_type": "execute_result"
    }
   ],
   "source": [
    "# Sao khi tách dữ liệu --> thay đổi tên bảng\n",
    "df['OSInfo'].str.split(' ', n=1, expand=True).rename(columns={0:'company', 1:'OS'})\n"
   ]
  },
  {
   "cell_type": "code",
   "execution_count": null,
   "metadata": {},
   "outputs": [
    {
     "data": {
      "application/vnd.microsoft.datawrangler.viewer.v0+json": {
       "columns": [
        {
         "name": "index",
         "rawType": "int64",
         "type": "integer"
        },
        {
         "name": "OSInfo",
         "rawType": "object",
         "type": "string"
        },
        {
         "name": "Company",
         "rawType": "object",
         "type": "string"
        },
        {
         "name": "OS",
         "rawType": "object",
         "type": "string"
        }
       ],
       "conversionMethod": "pd.DataFrame",
       "ref": "8b459859-a4c8-4ef7-bc7d-6aeb33a69af7",
       "rows": [
        [
         "0",
         "Apple MacOS X 10.0",
         "Apple",
         "MacOS X 10.0"
        ],
        [
         "1",
         "Microsoft Windows 11",
         "Microsoft",
         "Windows 11"
        ],
        [
         "2",
         "Microsoft Window XP",
         "Microsoft",
         "Window XP"
        ],
        [
         "3",
         "Apple MacOS X 10.5",
         "Apple",
         "MacOS X 10.5"
        ],
        [
         "4",
         "Apple iOS 11.5",
         "Apple",
         "iOS 11.5"
        ],
        [
         "5",
         "Microsoft Windows Vista",
         "Microsoft",
         "Windows Vista"
        ]
       ],
       "shape": {
        "columns": 3,
        "rows": 6
       }
      },
      "text/html": [
       "<div>\n",
       "<style scoped>\n",
       "    .dataframe tbody tr th:only-of-type {\n",
       "        vertical-align: middle;\n",
       "    }\n",
       "\n",
       "    .dataframe tbody tr th {\n",
       "        vertical-align: top;\n",
       "    }\n",
       "\n",
       "    .dataframe thead th {\n",
       "        text-align: right;\n",
       "    }\n",
       "</style>\n",
       "<table border=\"1\" class=\"dataframe\">\n",
       "  <thead>\n",
       "    <tr style=\"text-align: right;\">\n",
       "      <th></th>\n",
       "      <th>OSInfo</th>\n",
       "      <th>Company</th>\n",
       "      <th>OS</th>\n",
       "    </tr>\n",
       "  </thead>\n",
       "  <tbody>\n",
       "    <tr>\n",
       "      <th>0</th>\n",
       "      <td>Apple MacOS X 10.0</td>\n",
       "      <td>Apple</td>\n",
       "      <td>MacOS X 10.0</td>\n",
       "    </tr>\n",
       "    <tr>\n",
       "      <th>1</th>\n",
       "      <td>Microsoft Windows 11</td>\n",
       "      <td>Microsoft</td>\n",
       "      <td>Windows 11</td>\n",
       "    </tr>\n",
       "    <tr>\n",
       "      <th>2</th>\n",
       "      <td>Microsoft Window XP</td>\n",
       "      <td>Microsoft</td>\n",
       "      <td>Window XP</td>\n",
       "    </tr>\n",
       "    <tr>\n",
       "      <th>3</th>\n",
       "      <td>Apple MacOS X 10.5</td>\n",
       "      <td>Apple</td>\n",
       "      <td>MacOS X 10.5</td>\n",
       "    </tr>\n",
       "    <tr>\n",
       "      <th>4</th>\n",
       "      <td>Apple iOS 11.5</td>\n",
       "      <td>Apple</td>\n",
       "      <td>iOS 11.5</td>\n",
       "    </tr>\n",
       "    <tr>\n",
       "      <th>5</th>\n",
       "      <td>Microsoft Windows Vista</td>\n",
       "      <td>Microsoft</td>\n",
       "      <td>Windows Vista</td>\n",
       "    </tr>\n",
       "  </tbody>\n",
       "</table>\n",
       "</div>"
      ],
      "text/plain": [
       "                    OSInfo    Company             OS\n",
       "0       Apple MacOS X 10.0      Apple   MacOS X 10.0\n",
       "1     Microsoft Windows 11  Microsoft     Windows 11\n",
       "2      Microsoft Window XP  Microsoft      Window XP\n",
       "3       Apple MacOS X 10.5      Apple   MacOS X 10.5\n",
       "4           Apple iOS 11.5      Apple       iOS 11.5\n",
       "5  Microsoft Windows Vista  Microsoft  Windows Vista"
      ]
     },
     "execution_count": 29,
     "metadata": {},
     "output_type": "execute_result"
    }
   ],
   "source": [
    "# Sao đó merge lại dataFrame cũ và DataFrame mới các cột mới tách ra theo các đặc trưng mới = 'join'\n",
    "df.join(df['OSInfo'].str.split(' ', n=1, expand=True).rename(columns={0:'Company', 1:'OS'}))\n"
   ]
  },
  {
   "cell_type": "markdown",
   "metadata": {},
   "source": [
    "## 5. Tổng hợp đặc trưng"
   ]
  },
  {
   "cell_type": "markdown",
   "metadata": {},
   "source": [
    "- Phần nguợc lại của phân rã đặc trưng ==> tư 2 chuỗi trộn lại thành 2 đặc trưng"
   ]
  },
  {
   "cell_type": "code",
   "execution_count": null,
   "metadata": {},
   "outputs": [
    {
     "data": {
      "application/vnd.microsoft.datawrangler.viewer.v0+json": {
       "columns": [
        {
         "name": "index",
         "rawType": "int64",
         "type": "integer"
        },
        {
         "name": "Make",
         "rawType": "object",
         "type": "string"
        },
        {
         "name": "Type",
         "rawType": "object",
         "type": "string"
        }
       ],
       "conversionMethod": "pd.DataFrame",
       "ref": "c1a7866d-25c7-4ca9-895a-b3ef91a6e13c",
       "rows": [
        [
         "0",
         "Toyota",
         "Sedan"
        ],
        [
         "1",
         "Audi",
         "Sedan"
        ],
        [
         "2",
         "Honda",
         "Crossover"
        ],
        [
         "3",
         "Honda",
         "Hatchback"
        ],
        [
         "4",
         "Toyota",
         "SUV"
        ],
        [
         "5",
         "Mercesdes",
         "Sedan"
        ]
       ],
       "shape": {
        "columns": 2,
        "rows": 6
       }
      },
      "text/html": [
       "<div>\n",
       "<style scoped>\n",
       "    .dataframe tbody tr th:only-of-type {\n",
       "        vertical-align: middle;\n",
       "    }\n",
       "\n",
       "    .dataframe tbody tr th {\n",
       "        vertical-align: top;\n",
       "    }\n",
       "\n",
       "    .dataframe thead th {\n",
       "        text-align: right;\n",
       "    }\n",
       "</style>\n",
       "<table border=\"1\" class=\"dataframe\">\n",
       "  <thead>\n",
       "    <tr style=\"text-align: right;\">\n",
       "      <th></th>\n",
       "      <th>Make</th>\n",
       "      <th>Type</th>\n",
       "    </tr>\n",
       "  </thead>\n",
       "  <tbody>\n",
       "    <tr>\n",
       "      <th>0</th>\n",
       "      <td>Toyota</td>\n",
       "      <td>Sedan</td>\n",
       "    </tr>\n",
       "    <tr>\n",
       "      <th>1</th>\n",
       "      <td>Audi</td>\n",
       "      <td>Sedan</td>\n",
       "    </tr>\n",
       "    <tr>\n",
       "      <th>2</th>\n",
       "      <td>Honda</td>\n",
       "      <td>Crossover</td>\n",
       "    </tr>\n",
       "    <tr>\n",
       "      <th>3</th>\n",
       "      <td>Honda</td>\n",
       "      <td>Hatchback</td>\n",
       "    </tr>\n",
       "    <tr>\n",
       "      <th>4</th>\n",
       "      <td>Toyota</td>\n",
       "      <td>SUV</td>\n",
       "    </tr>\n",
       "    <tr>\n",
       "      <th>5</th>\n",
       "      <td>Mercesdes</td>\n",
       "      <td>Sedan</td>\n",
       "    </tr>\n",
       "  </tbody>\n",
       "</table>\n",
       "</div>"
      ],
      "text/plain": [
       "        Make       Type\n",
       "0     Toyota      Sedan\n",
       "1       Audi      Sedan\n",
       "2      Honda  Crossover\n",
       "3      Honda  Hatchback\n",
       "4     Toyota        SUV\n",
       "5  Mercesdes      Sedan"
      ]
     },
     "execution_count": 31,
     "metadata": {},
     "output_type": "execute_result"
    }
   ],
   "source": [
    "df = pd.DataFrame({\n",
    "    'Make' : ['Toyota', 'Audi', 'Honda', 'Honda', 'Toyota', 'Mercesdes'],\n",
    "    'Type' : ['Sedan', 'Sedan', 'Crossover', 'Hatchback', 'SUV', 'Sedan']\n",
    "})\n",
    "df\n"
   ]
  },
  {
   "cell_type": "code",
   "execution_count": 32,
   "metadata": {},
   "outputs": [
    {
     "data": {
      "application/vnd.microsoft.datawrangler.viewer.v0+json": {
       "columns": [
        {
         "name": "index",
         "rawType": "int64",
         "type": "integer"
        },
        {
         "name": "Make",
         "rawType": "object",
         "type": "string"
        },
        {
         "name": "Type",
         "rawType": "object",
         "type": "string"
        },
        {
         "name": "Make_type",
         "rawType": "object",
         "type": "string"
        }
       ],
       "conversionMethod": "pd.DataFrame",
       "ref": "8ec51d34-7d6c-43e5-9860-47102b4237cb",
       "rows": [
        [
         "0",
         "Toyota",
         "Sedan",
         "Toyota_Sedan"
        ],
        [
         "1",
         "Audi",
         "Sedan",
         "Audi_Sedan"
        ],
        [
         "2",
         "Honda",
         "Crossover",
         "Honda_Crossover"
        ],
        [
         "3",
         "Honda",
         "Hatchback",
         "Honda_Hatchback"
        ],
        [
         "4",
         "Toyota",
         "SUV",
         "Toyota_SUV"
        ],
        [
         "5",
         "Mercesdes",
         "Sedan",
         "Mercesdes_Sedan"
        ]
       ],
       "shape": {
        "columns": 3,
        "rows": 6
       }
      },
      "text/html": [
       "<div>\n",
       "<style scoped>\n",
       "    .dataframe tbody tr th:only-of-type {\n",
       "        vertical-align: middle;\n",
       "    }\n",
       "\n",
       "    .dataframe tbody tr th {\n",
       "        vertical-align: top;\n",
       "    }\n",
       "\n",
       "    .dataframe thead th {\n",
       "        text-align: right;\n",
       "    }\n",
       "</style>\n",
       "<table border=\"1\" class=\"dataframe\">\n",
       "  <thead>\n",
       "    <tr style=\"text-align: right;\">\n",
       "      <th></th>\n",
       "      <th>Make</th>\n",
       "      <th>Type</th>\n",
       "      <th>Make_type</th>\n",
       "    </tr>\n",
       "  </thead>\n",
       "  <tbody>\n",
       "    <tr>\n",
       "      <th>0</th>\n",
       "      <td>Toyota</td>\n",
       "      <td>Sedan</td>\n",
       "      <td>Toyota_Sedan</td>\n",
       "    </tr>\n",
       "    <tr>\n",
       "      <th>1</th>\n",
       "      <td>Audi</td>\n",
       "      <td>Sedan</td>\n",
       "      <td>Audi_Sedan</td>\n",
       "    </tr>\n",
       "    <tr>\n",
       "      <th>2</th>\n",
       "      <td>Honda</td>\n",
       "      <td>Crossover</td>\n",
       "      <td>Honda_Crossover</td>\n",
       "    </tr>\n",
       "    <tr>\n",
       "      <th>3</th>\n",
       "      <td>Honda</td>\n",
       "      <td>Hatchback</td>\n",
       "      <td>Honda_Hatchback</td>\n",
       "    </tr>\n",
       "    <tr>\n",
       "      <th>4</th>\n",
       "      <td>Toyota</td>\n",
       "      <td>SUV</td>\n",
       "      <td>Toyota_SUV</td>\n",
       "    </tr>\n",
       "    <tr>\n",
       "      <th>5</th>\n",
       "      <td>Mercesdes</td>\n",
       "      <td>Sedan</td>\n",
       "      <td>Mercesdes_Sedan</td>\n",
       "    </tr>\n",
       "  </tbody>\n",
       "</table>\n",
       "</div>"
      ],
      "text/plain": [
       "        Make       Type        Make_type\n",
       "0     Toyota      Sedan     Toyota_Sedan\n",
       "1       Audi      Sedan       Audi_Sedan\n",
       "2      Honda  Crossover  Honda_Crossover\n",
       "3      Honda  Hatchback  Honda_Hatchback\n",
       "4     Toyota        SUV       Toyota_SUV\n",
       "5  Mercesdes      Sedan  Mercesdes_Sedan"
      ]
     },
     "execution_count": 32,
     "metadata": {},
     "output_type": "execute_result"
    }
   ],
   "source": [
    "df['Make_type'] = df['Make'] + \"_\" + df['Type']\n",
    "df\n"
   ]
  },
  {
   "cell_type": "markdown",
   "metadata": {},
   "source": [
    "## 6. Tổng hợp đặc trưng theo nhóm"
   ]
  },
  {
   "cell_type": "markdown",
   "metadata": {},
   "source": [
    "- thưc hiện trên 1 đặc trưng của dữ liệu\n"
   ]
  },
  {
   "cell_type": "code",
   "execution_count": 34,
   "metadata": {},
   "outputs": [
    {
     "data": {
      "application/vnd.microsoft.datawrangler.viewer.v0+json": {
       "columns": [
        {
         "name": "index",
         "rawType": "int64",
         "type": "integer"
        },
        {
         "name": "City",
         "rawType": "object",
         "type": "string"
        },
        {
         "name": "Salary",
         "rawType": "int64",
         "type": "integer"
        }
       ],
       "conversionMethod": "pd.DataFrame",
       "ref": "f2decd48-19d3-4e41-abc8-b40b22a0f223",
       "rows": [
        [
         "0",
         "Danang",
         "10"
        ],
        [
         "1",
         "HCM",
         "20"
        ],
        [
         "2",
         "Hanoi",
         "15"
        ],
        [
         "3",
         "HCM",
         "8"
        ],
        [
         "4",
         "HCM",
         "12"
        ],
        [
         "5",
         "Hanoi",
         "15"
        ],
        [
         "6",
         "Danang",
         "14"
        ]
       ],
       "shape": {
        "columns": 2,
        "rows": 7
       }
      },
      "text/html": [
       "<div>\n",
       "<style scoped>\n",
       "    .dataframe tbody tr th:only-of-type {\n",
       "        vertical-align: middle;\n",
       "    }\n",
       "\n",
       "    .dataframe tbody tr th {\n",
       "        vertical-align: top;\n",
       "    }\n",
       "\n",
       "    .dataframe thead th {\n",
       "        text-align: right;\n",
       "    }\n",
       "</style>\n",
       "<table border=\"1\" class=\"dataframe\">\n",
       "  <thead>\n",
       "    <tr style=\"text-align: right;\">\n",
       "      <th></th>\n",
       "      <th>City</th>\n",
       "      <th>Salary</th>\n",
       "    </tr>\n",
       "  </thead>\n",
       "  <tbody>\n",
       "    <tr>\n",
       "      <th>0</th>\n",
       "      <td>Danang</td>\n",
       "      <td>10</td>\n",
       "    </tr>\n",
       "    <tr>\n",
       "      <th>1</th>\n",
       "      <td>HCM</td>\n",
       "      <td>20</td>\n",
       "    </tr>\n",
       "    <tr>\n",
       "      <th>2</th>\n",
       "      <td>Hanoi</td>\n",
       "      <td>15</td>\n",
       "    </tr>\n",
       "    <tr>\n",
       "      <th>3</th>\n",
       "      <td>HCM</td>\n",
       "      <td>8</td>\n",
       "    </tr>\n",
       "    <tr>\n",
       "      <th>4</th>\n",
       "      <td>HCM</td>\n",
       "      <td>12</td>\n",
       "    </tr>\n",
       "    <tr>\n",
       "      <th>5</th>\n",
       "      <td>Hanoi</td>\n",
       "      <td>15</td>\n",
       "    </tr>\n",
       "    <tr>\n",
       "      <th>6</th>\n",
       "      <td>Danang</td>\n",
       "      <td>14</td>\n",
       "    </tr>\n",
       "  </tbody>\n",
       "</table>\n",
       "</div>"
      ],
      "text/plain": [
       "     City  Salary\n",
       "0  Danang      10\n",
       "1     HCM      20\n",
       "2   Hanoi      15\n",
       "3     HCM       8\n",
       "4     HCM      12\n",
       "5   Hanoi      15\n",
       "6  Danang      14"
      ]
     },
     "execution_count": 34,
     "metadata": {},
     "output_type": "execute_result"
    }
   ],
   "source": [
    "df = pd.DataFrame({\n",
    "    'City' : ['Danang', 'HCM', 'Hanoi', 'HCM', 'HCM', 'Hanoi', 'Danang'],\n",
    "    'Salary' : [10, 20, 15, 8, 12, 15, 14]\n",
    "})\n",
    "\n",
    "df\n"
   ]
  },
  {
   "cell_type": "markdown",
   "metadata": {},
   "source": [
    "- Gôm nhóm theo tưng giá trị, sau đó thực hiện thao tác thống kê"
   ]
  },
  {
   "cell_type": "code",
   "execution_count": null,
   "metadata": {},
   "outputs": [
    {
     "data": {
      "text/plain": [
       "City\n",
       "Danang    12.000000\n",
       "HCM       13.333333\n",
       "Hanoi     15.000000\n",
       "Name: Salary, dtype: float64"
      ]
     },
     "execution_count": 36,
     "metadata": {},
     "output_type": "execute_result"
    }
   ],
   "source": [
    "# Gôm nhóm thành mức lương trung bình: ví dụ DN có cột lương và muốn tạo thêm 1 cột lương trung bình ==> dùng lệnh '.agg'\n",
    "# b1: phải groupby cột key ==> lấy ra val xong dùng phương thức agg\n",
    "# Cách 1\n",
    "df.groupby('City')['Salary'].agg('mean')\n"
   ]
  },
  {
   "cell_type": "code",
   "execution_count": 38,
   "metadata": {},
   "outputs": [
    {
     "data": {
      "text/plain": [
       "0    12.000000\n",
       "1    13.333333\n",
       "2    15.000000\n",
       "3    13.333333\n",
       "4    13.333333\n",
       "5    15.000000\n",
       "6    12.000000\n",
       "Name: Salary, dtype: float64"
      ]
     },
     "execution_count": 38,
     "metadata": {},
     "output_type": "execute_result"
    }
   ],
   "source": [
    "# Cách 2: dùng lệnh transform\n",
    "df.groupby('City')['Salary'].transform('mean')\n"
   ]
  },
  {
   "cell_type": "markdown",
   "metadata": {},
   "source": [
    "- lệnh transform này sao khi tính trung bình và sẽ gán lương trung bình lại tương ứng từng tp, còn agg thì thể hiện các tp ko trùng + lương trung bình\n",
    "- Lệnh agg thì ko thể nối vào bảng DataFrame cũ đuợc vì chênh lệch số lượng"
   ]
  },
  {
   "cell_type": "code",
   "execution_count": null,
   "metadata": {},
   "outputs": [
    {
     "data": {
      "application/vnd.microsoft.datawrangler.viewer.v0+json": {
       "columns": [
        {
         "name": "index",
         "rawType": "int64",
         "type": "integer"
        },
        {
         "name": "City",
         "rawType": "object",
         "type": "string"
        },
        {
         "name": "Salary",
         "rawType": "int64",
         "type": "integer"
        },
        {
         "name": "AvgSalary",
         "rawType": "float64",
         "type": "float"
        }
       ],
       "conversionMethod": "pd.DataFrame",
       "ref": "22fa9c61-9f22-4549-9780-643a363c34de",
       "rows": [
        [
         "0",
         "Danang",
         "10",
         "12.0"
        ],
        [
         "1",
         "HCM",
         "20",
         "13.333333333333334"
        ],
        [
         "2",
         "Hanoi",
         "15",
         "15.0"
        ],
        [
         "3",
         "HCM",
         "8",
         "13.333333333333334"
        ],
        [
         "4",
         "HCM",
         "12",
         "13.333333333333334"
        ],
        [
         "5",
         "Hanoi",
         "15",
         "15.0"
        ],
        [
         "6",
         "Danang",
         "14",
         "12.0"
        ]
       ],
       "shape": {
        "columns": 3,
        "rows": 7
       }
      },
      "text/html": [
       "<div>\n",
       "<style scoped>\n",
       "    .dataframe tbody tr th:only-of-type {\n",
       "        vertical-align: middle;\n",
       "    }\n",
       "\n",
       "    .dataframe tbody tr th {\n",
       "        vertical-align: top;\n",
       "    }\n",
       "\n",
       "    .dataframe thead th {\n",
       "        text-align: right;\n",
       "    }\n",
       "</style>\n",
       "<table border=\"1\" class=\"dataframe\">\n",
       "  <thead>\n",
       "    <tr style=\"text-align: right;\">\n",
       "      <th></th>\n",
       "      <th>City</th>\n",
       "      <th>Salary</th>\n",
       "      <th>AvgSalary</th>\n",
       "    </tr>\n",
       "  </thead>\n",
       "  <tbody>\n",
       "    <tr>\n",
       "      <th>0</th>\n",
       "      <td>Danang</td>\n",
       "      <td>10</td>\n",
       "      <td>12.000000</td>\n",
       "    </tr>\n",
       "    <tr>\n",
       "      <th>1</th>\n",
       "      <td>HCM</td>\n",
       "      <td>20</td>\n",
       "      <td>13.333333</td>\n",
       "    </tr>\n",
       "    <tr>\n",
       "      <th>2</th>\n",
       "      <td>Hanoi</td>\n",
       "      <td>15</td>\n",
       "      <td>15.000000</td>\n",
       "    </tr>\n",
       "    <tr>\n",
       "      <th>3</th>\n",
       "      <td>HCM</td>\n",
       "      <td>8</td>\n",
       "      <td>13.333333</td>\n",
       "    </tr>\n",
       "    <tr>\n",
       "      <th>4</th>\n",
       "      <td>HCM</td>\n",
       "      <td>12</td>\n",
       "      <td>13.333333</td>\n",
       "    </tr>\n",
       "    <tr>\n",
       "      <th>5</th>\n",
       "      <td>Hanoi</td>\n",
       "      <td>15</td>\n",
       "      <td>15.000000</td>\n",
       "    </tr>\n",
       "    <tr>\n",
       "      <th>6</th>\n",
       "      <td>Danang</td>\n",
       "      <td>14</td>\n",
       "      <td>12.000000</td>\n",
       "    </tr>\n",
       "  </tbody>\n",
       "</table>\n",
       "</div>"
      ],
      "text/plain": [
       "     City  Salary  AvgSalary\n",
       "0  Danang      10  12.000000\n",
       "1     HCM      20  13.333333\n",
       "2   Hanoi      15  15.000000\n",
       "3     HCM       8  13.333333\n",
       "4     HCM      12  13.333333\n",
       "5   Hanoi      15  15.000000\n",
       "6  Danang      14  12.000000"
      ]
     },
     "execution_count": 40,
     "metadata": {},
     "output_type": "execute_result"
    }
   ],
   "source": [
    "# Tạo thêm 1 cột mới tính lương trung bình\n",
    "df['AvgSalary'] = df.groupby('City')['Salary'].transform('mean')\n",
    "df\n"
   ]
  },
  {
   "cell_type": "markdown",
   "metadata": {},
   "source": [
    "## 7. Đặc trưng cụm (***Phân khúc***)"
   ]
  },
  {
   "cell_type": "code",
   "execution_count": 43,
   "metadata": {},
   "outputs": [
    {
     "data": {
      "application/vnd.microsoft.datawrangler.viewer.v0+json": {
       "columns": [
        {
         "name": "index",
         "rawType": "int64",
         "type": "integer"
        },
        {
         "name": "City",
         "rawType": "object",
         "type": "string"
        },
        {
         "name": "Salary",
         "rawType": "int64",
         "type": "integer"
        }
       ],
       "conversionMethod": "pd.DataFrame",
       "ref": "64f13a41-e6e7-4b12-87d5-15ead43a2a98",
       "rows": [
        [
         "0",
         "Danang",
         "10"
        ],
        [
         "1",
         "HCM",
         "20"
        ],
        [
         "2",
         "Hanoi",
         "15"
        ],
        [
         "3",
         "HCM",
         "8"
        ],
        [
         "4",
         "HCM",
         "12"
        ],
        [
         "5",
         "Hanoi",
         "15"
        ],
        [
         "6",
         "Danang",
         "14"
        ],
        [
         "7",
         "Danang",
         "35"
        ],
        [
         "8",
         "Hanoi",
         "30"
        ],
        [
         "9",
         "HCM",
         "5"
        ]
       ],
       "shape": {
        "columns": 2,
        "rows": 10
       }
      },
      "text/html": [
       "<div>\n",
       "<style scoped>\n",
       "    .dataframe tbody tr th:only-of-type {\n",
       "        vertical-align: middle;\n",
       "    }\n",
       "\n",
       "    .dataframe tbody tr th {\n",
       "        vertical-align: top;\n",
       "    }\n",
       "\n",
       "    .dataframe thead th {\n",
       "        text-align: right;\n",
       "    }\n",
       "</style>\n",
       "<table border=\"1\" class=\"dataframe\">\n",
       "  <thead>\n",
       "    <tr style=\"text-align: right;\">\n",
       "      <th></th>\n",
       "      <th>City</th>\n",
       "      <th>Salary</th>\n",
       "    </tr>\n",
       "  </thead>\n",
       "  <tbody>\n",
       "    <tr>\n",
       "      <th>0</th>\n",
       "      <td>Danang</td>\n",
       "      <td>10</td>\n",
       "    </tr>\n",
       "    <tr>\n",
       "      <th>1</th>\n",
       "      <td>HCM</td>\n",
       "      <td>20</td>\n",
       "    </tr>\n",
       "    <tr>\n",
       "      <th>2</th>\n",
       "      <td>Hanoi</td>\n",
       "      <td>15</td>\n",
       "    </tr>\n",
       "    <tr>\n",
       "      <th>3</th>\n",
       "      <td>HCM</td>\n",
       "      <td>8</td>\n",
       "    </tr>\n",
       "    <tr>\n",
       "      <th>4</th>\n",
       "      <td>HCM</td>\n",
       "      <td>12</td>\n",
       "    </tr>\n",
       "    <tr>\n",
       "      <th>5</th>\n",
       "      <td>Hanoi</td>\n",
       "      <td>15</td>\n",
       "    </tr>\n",
       "    <tr>\n",
       "      <th>6</th>\n",
       "      <td>Danang</td>\n",
       "      <td>14</td>\n",
       "    </tr>\n",
       "    <tr>\n",
       "      <th>7</th>\n",
       "      <td>Danang</td>\n",
       "      <td>35</td>\n",
       "    </tr>\n",
       "    <tr>\n",
       "      <th>8</th>\n",
       "      <td>Hanoi</td>\n",
       "      <td>30</td>\n",
       "    </tr>\n",
       "    <tr>\n",
       "      <th>9</th>\n",
       "      <td>HCM</td>\n",
       "      <td>5</td>\n",
       "    </tr>\n",
       "  </tbody>\n",
       "</table>\n",
       "</div>"
      ],
      "text/plain": [
       "     City  Salary\n",
       "0  Danang      10\n",
       "1     HCM      20\n",
       "2   Hanoi      15\n",
       "3     HCM       8\n",
       "4     HCM      12\n",
       "5   Hanoi      15\n",
       "6  Danang      14\n",
       "7  Danang      35\n",
       "8   Hanoi      30\n",
       "9     HCM       5"
      ]
     },
     "execution_count": 43,
     "metadata": {},
     "output_type": "execute_result"
    }
   ],
   "source": [
    "df = pd.DataFrame({\n",
    "    'City' : ['Danang', 'HCM', 'Hanoi', 'HCM', 'HCM', 'Hanoi', 'Danang', 'Danang', 'Hanoi', 'HCM'],\n",
    "    'Salary' : [10, 20, 15, 8, 12, 15, 14, 35, 30, 5]\n",
    "})\n",
    "\n",
    "df\n"
   ]
  },
  {
   "cell_type": "markdown",
   "metadata": {},
   "source": [
    "- Gôm nhóm dựa trên chính giá trị để phân thành các phân khúc khác nhau ==> xem trưc tiếp tren giá trị \n",
    "- Xét 10 vói các dữ liệu lương bằng kỹ thuật gôm nhóm bằng kỹ thuật **unsupervised learning** - `K Means`"
   ]
  },
  {
   "cell_type": "code",
   "execution_count": 48,
   "metadata": {},
   "outputs": [
    {
     "data": {
      "application/vnd.microsoft.datawrangler.viewer.v0+json": {
       "columns": [
        {
         "name": "index",
         "rawType": "int64",
         "type": "integer"
        },
        {
         "name": "City",
         "rawType": "object",
         "type": "string"
        },
        {
         "name": "Salary",
         "rawType": "int64",
         "type": "integer"
        },
        {
         "name": "SalCluster",
         "rawType": "category",
         "type": "unknown"
        }
       ],
       "conversionMethod": "pd.DataFrame",
       "ref": "bd373ed1-3bd5-41c8-bf81-a35e4dc478f2",
       "rows": [
        [
         "0",
         "Danang",
         "10",
         "2"
        ],
        [
         "1",
         "HCM",
         "20",
         "1"
        ],
        [
         "2",
         "Hanoi",
         "15",
         "1"
        ],
        [
         "3",
         "HCM",
         "8",
         "2"
        ],
        [
         "4",
         "HCM",
         "12",
         "1"
        ],
        [
         "5",
         "Hanoi",
         "15",
         "1"
        ],
        [
         "6",
         "Danang",
         "14",
         "1"
        ],
        [
         "7",
         "Danang",
         "35",
         "0"
        ],
        [
         "8",
         "Hanoi",
         "30",
         "0"
        ],
        [
         "9",
         "HCM",
         "5",
         "2"
        ]
       ],
       "shape": {
        "columns": 3,
        "rows": 10
       }
      },
      "text/html": [
       "<div>\n",
       "<style scoped>\n",
       "    .dataframe tbody tr th:only-of-type {\n",
       "        vertical-align: middle;\n",
       "    }\n",
       "\n",
       "    .dataframe tbody tr th {\n",
       "        vertical-align: top;\n",
       "    }\n",
       "\n",
       "    .dataframe thead th {\n",
       "        text-align: right;\n",
       "    }\n",
       "</style>\n",
       "<table border=\"1\" class=\"dataframe\">\n",
       "  <thead>\n",
       "    <tr style=\"text-align: right;\">\n",
       "      <th></th>\n",
       "      <th>City</th>\n",
       "      <th>Salary</th>\n",
       "      <th>SalCluster</th>\n",
       "    </tr>\n",
       "  </thead>\n",
       "  <tbody>\n",
       "    <tr>\n",
       "      <th>0</th>\n",
       "      <td>Danang</td>\n",
       "      <td>10</td>\n",
       "      <td>2</td>\n",
       "    </tr>\n",
       "    <tr>\n",
       "      <th>1</th>\n",
       "      <td>HCM</td>\n",
       "      <td>20</td>\n",
       "      <td>1</td>\n",
       "    </tr>\n",
       "    <tr>\n",
       "      <th>2</th>\n",
       "      <td>Hanoi</td>\n",
       "      <td>15</td>\n",
       "      <td>1</td>\n",
       "    </tr>\n",
       "    <tr>\n",
       "      <th>3</th>\n",
       "      <td>HCM</td>\n",
       "      <td>8</td>\n",
       "      <td>2</td>\n",
       "    </tr>\n",
       "    <tr>\n",
       "      <th>4</th>\n",
       "      <td>HCM</td>\n",
       "      <td>12</td>\n",
       "      <td>1</td>\n",
       "    </tr>\n",
       "    <tr>\n",
       "      <th>5</th>\n",
       "      <td>Hanoi</td>\n",
       "      <td>15</td>\n",
       "      <td>1</td>\n",
       "    </tr>\n",
       "    <tr>\n",
       "      <th>6</th>\n",
       "      <td>Danang</td>\n",
       "      <td>14</td>\n",
       "      <td>1</td>\n",
       "    </tr>\n",
       "    <tr>\n",
       "      <th>7</th>\n",
       "      <td>Danang</td>\n",
       "      <td>35</td>\n",
       "      <td>0</td>\n",
       "    </tr>\n",
       "    <tr>\n",
       "      <th>8</th>\n",
       "      <td>Hanoi</td>\n",
       "      <td>30</td>\n",
       "      <td>0</td>\n",
       "    </tr>\n",
       "    <tr>\n",
       "      <th>9</th>\n",
       "      <td>HCM</td>\n",
       "      <td>5</td>\n",
       "      <td>2</td>\n",
       "    </tr>\n",
       "  </tbody>\n",
       "</table>\n",
       "</div>"
      ],
      "text/plain": [
       "     City  Salary SalCluster\n",
       "0  Danang      10          2\n",
       "1     HCM      20          1\n",
       "2   Hanoi      15          1\n",
       "3     HCM       8          2\n",
       "4     HCM      12          1\n",
       "5   Hanoi      15          1\n",
       "6  Danang      14          1\n",
       "7  Danang      35          0\n",
       "8   Hanoi      30          0\n",
       "9     HCM       5          2"
      ]
     },
     "execution_count": 48,
     "metadata": {},
     "output_type": "execute_result"
    }
   ],
   "source": [
    "from sklearn.cluster import KMeans\n",
    "import numpy as np\n",
    "\n",
    "kmeans = KMeans(n_clusters=3, n_init='auto')\n",
    "df['SalCluster'] = kmeans.fit_predict(np.array(df['Salary']).reshape(-1, 1))\n",
    "df['SalCluster'] = df['SalCluster'].astype('category')\n",
    "df\n",
    "\n",
    "# Các giá trị cluster ở đây không mang giá trị so sánh --> chi mang tính chất đại diện \n"
   ]
  },
  {
   "cell_type": "markdown",
   "metadata": {},
   "source": [
    "## 8. Sự dụng đặc trung giảm chiều (PCA - **Unsupervised learning**)"
   ]
  },
  {
   "cell_type": "code",
   "execution_count": 49,
   "metadata": {},
   "outputs": [],
   "source": [
    "import numpy as np\n",
    "import matplotlib.pyplot as plt \n",
    "from sklearn import datasets\n",
    "from sklearn.decomposition import PCA \n",
    "import pandas as pd \n",
    "from sklearn.preprocessing import StandardScaler\n"
   ]
  },
  {
   "cell_type": "code",
   "execution_count": 56,
   "metadata": {},
   "outputs": [
    {
     "data": {
      "application/vnd.microsoft.datawrangler.viewer.v0+json": {
       "columns": [
        {
         "name": "index",
         "rawType": "int64",
         "type": "integer"
        },
        {
         "name": "sepal length (cm)",
         "rawType": "float64",
         "type": "float"
        },
        {
         "name": "sepal width (cm)",
         "rawType": "float64",
         "type": "float"
        },
        {
         "name": "petal length (cm)",
         "rawType": "float64",
         "type": "float"
        },
        {
         "name": "petal width (cm)",
         "rawType": "float64",
         "type": "float"
        }
       ],
       "conversionMethod": "pd.DataFrame",
       "ref": "77779ebf-beed-459e-b124-9bdfd444444a",
       "rows": [
        [
         "0",
         "5.1",
         "3.5",
         "1.4",
         "0.2"
        ],
        [
         "1",
         "4.9",
         "3.0",
         "1.4",
         "0.2"
        ],
        [
         "2",
         "4.7",
         "3.2",
         "1.3",
         "0.2"
        ],
        [
         "3",
         "4.6",
         "3.1",
         "1.5",
         "0.2"
        ],
        [
         "4",
         "5.0",
         "3.6",
         "1.4",
         "0.2"
        ],
        [
         "5",
         "5.4",
         "3.9",
         "1.7",
         "0.4"
        ],
        [
         "6",
         "4.6",
         "3.4",
         "1.4",
         "0.3"
        ],
        [
         "7",
         "5.0",
         "3.4",
         "1.5",
         "0.2"
        ],
        [
         "8",
         "4.4",
         "2.9",
         "1.4",
         "0.2"
        ],
        [
         "9",
         "4.9",
         "3.1",
         "1.5",
         "0.1"
        ],
        [
         "10",
         "5.4",
         "3.7",
         "1.5",
         "0.2"
        ],
        [
         "11",
         "4.8",
         "3.4",
         "1.6",
         "0.2"
        ],
        [
         "12",
         "4.8",
         "3.0",
         "1.4",
         "0.1"
        ],
        [
         "13",
         "4.3",
         "3.0",
         "1.1",
         "0.1"
        ],
        [
         "14",
         "5.8",
         "4.0",
         "1.2",
         "0.2"
        ],
        [
         "15",
         "5.7",
         "4.4",
         "1.5",
         "0.4"
        ],
        [
         "16",
         "5.4",
         "3.9",
         "1.3",
         "0.4"
        ],
        [
         "17",
         "5.1",
         "3.5",
         "1.4",
         "0.3"
        ],
        [
         "18",
         "5.7",
         "3.8",
         "1.7",
         "0.3"
        ],
        [
         "19",
         "5.1",
         "3.8",
         "1.5",
         "0.3"
        ],
        [
         "20",
         "5.4",
         "3.4",
         "1.7",
         "0.2"
        ],
        [
         "21",
         "5.1",
         "3.7",
         "1.5",
         "0.4"
        ],
        [
         "22",
         "4.6",
         "3.6",
         "1.0",
         "0.2"
        ],
        [
         "23",
         "5.1",
         "3.3",
         "1.7",
         "0.5"
        ],
        [
         "24",
         "4.8",
         "3.4",
         "1.9",
         "0.2"
        ],
        [
         "25",
         "5.0",
         "3.0",
         "1.6",
         "0.2"
        ],
        [
         "26",
         "5.0",
         "3.4",
         "1.6",
         "0.4"
        ],
        [
         "27",
         "5.2",
         "3.5",
         "1.5",
         "0.2"
        ],
        [
         "28",
         "5.2",
         "3.4",
         "1.4",
         "0.2"
        ],
        [
         "29",
         "4.7",
         "3.2",
         "1.6",
         "0.2"
        ],
        [
         "30",
         "4.8",
         "3.1",
         "1.6",
         "0.2"
        ],
        [
         "31",
         "5.4",
         "3.4",
         "1.5",
         "0.4"
        ],
        [
         "32",
         "5.2",
         "4.1",
         "1.5",
         "0.1"
        ],
        [
         "33",
         "5.5",
         "4.2",
         "1.4",
         "0.2"
        ],
        [
         "34",
         "4.9",
         "3.1",
         "1.5",
         "0.2"
        ],
        [
         "35",
         "5.0",
         "3.2",
         "1.2",
         "0.2"
        ],
        [
         "36",
         "5.5",
         "3.5",
         "1.3",
         "0.2"
        ],
        [
         "37",
         "4.9",
         "3.6",
         "1.4",
         "0.1"
        ],
        [
         "38",
         "4.4",
         "3.0",
         "1.3",
         "0.2"
        ],
        [
         "39",
         "5.1",
         "3.4",
         "1.5",
         "0.2"
        ],
        [
         "40",
         "5.0",
         "3.5",
         "1.3",
         "0.3"
        ],
        [
         "41",
         "4.5",
         "2.3",
         "1.3",
         "0.3"
        ],
        [
         "42",
         "4.4",
         "3.2",
         "1.3",
         "0.2"
        ],
        [
         "43",
         "5.0",
         "3.5",
         "1.6",
         "0.6"
        ],
        [
         "44",
         "5.1",
         "3.8",
         "1.9",
         "0.4"
        ],
        [
         "45",
         "4.8",
         "3.0",
         "1.4",
         "0.3"
        ],
        [
         "46",
         "5.1",
         "3.8",
         "1.6",
         "0.2"
        ],
        [
         "47",
         "4.6",
         "3.2",
         "1.4",
         "0.2"
        ],
        [
         "48",
         "5.3",
         "3.7",
         "1.5",
         "0.2"
        ],
        [
         "49",
         "5.0",
         "3.3",
         "1.4",
         "0.2"
        ]
       ],
       "shape": {
        "columns": 4,
        "rows": 150
       }
      },
      "text/html": [
       "<div>\n",
       "<style scoped>\n",
       "    .dataframe tbody tr th:only-of-type {\n",
       "        vertical-align: middle;\n",
       "    }\n",
       "\n",
       "    .dataframe tbody tr th {\n",
       "        vertical-align: top;\n",
       "    }\n",
       "\n",
       "    .dataframe thead th {\n",
       "        text-align: right;\n",
       "    }\n",
       "</style>\n",
       "<table border=\"1\" class=\"dataframe\">\n",
       "  <thead>\n",
       "    <tr style=\"text-align: right;\">\n",
       "      <th></th>\n",
       "      <th>sepal length (cm)</th>\n",
       "      <th>sepal width (cm)</th>\n",
       "      <th>petal length (cm)</th>\n",
       "      <th>petal width (cm)</th>\n",
       "    </tr>\n",
       "  </thead>\n",
       "  <tbody>\n",
       "    <tr>\n",
       "      <th>0</th>\n",
       "      <td>5.1</td>\n",
       "      <td>3.5</td>\n",
       "      <td>1.4</td>\n",
       "      <td>0.2</td>\n",
       "    </tr>\n",
       "    <tr>\n",
       "      <th>1</th>\n",
       "      <td>4.9</td>\n",
       "      <td>3.0</td>\n",
       "      <td>1.4</td>\n",
       "      <td>0.2</td>\n",
       "    </tr>\n",
       "    <tr>\n",
       "      <th>2</th>\n",
       "      <td>4.7</td>\n",
       "      <td>3.2</td>\n",
       "      <td>1.3</td>\n",
       "      <td>0.2</td>\n",
       "    </tr>\n",
       "    <tr>\n",
       "      <th>3</th>\n",
       "      <td>4.6</td>\n",
       "      <td>3.1</td>\n",
       "      <td>1.5</td>\n",
       "      <td>0.2</td>\n",
       "    </tr>\n",
       "    <tr>\n",
       "      <th>4</th>\n",
       "      <td>5.0</td>\n",
       "      <td>3.6</td>\n",
       "      <td>1.4</td>\n",
       "      <td>0.2</td>\n",
       "    </tr>\n",
       "    <tr>\n",
       "      <th>...</th>\n",
       "      <td>...</td>\n",
       "      <td>...</td>\n",
       "      <td>...</td>\n",
       "      <td>...</td>\n",
       "    </tr>\n",
       "    <tr>\n",
       "      <th>145</th>\n",
       "      <td>6.7</td>\n",
       "      <td>3.0</td>\n",
       "      <td>5.2</td>\n",
       "      <td>2.3</td>\n",
       "    </tr>\n",
       "    <tr>\n",
       "      <th>146</th>\n",
       "      <td>6.3</td>\n",
       "      <td>2.5</td>\n",
       "      <td>5.0</td>\n",
       "      <td>1.9</td>\n",
       "    </tr>\n",
       "    <tr>\n",
       "      <th>147</th>\n",
       "      <td>6.5</td>\n",
       "      <td>3.0</td>\n",
       "      <td>5.2</td>\n",
       "      <td>2.0</td>\n",
       "    </tr>\n",
       "    <tr>\n",
       "      <th>148</th>\n",
       "      <td>6.2</td>\n",
       "      <td>3.4</td>\n",
       "      <td>5.4</td>\n",
       "      <td>2.3</td>\n",
       "    </tr>\n",
       "    <tr>\n",
       "      <th>149</th>\n",
       "      <td>5.9</td>\n",
       "      <td>3.0</td>\n",
       "      <td>5.1</td>\n",
       "      <td>1.8</td>\n",
       "    </tr>\n",
       "  </tbody>\n",
       "</table>\n",
       "<p>150 rows × 4 columns</p>\n",
       "</div>"
      ],
      "text/plain": [
       "     sepal length (cm)  sepal width (cm)  petal length (cm)  petal width (cm)\n",
       "0                  5.1               3.5                1.4               0.2\n",
       "1                  4.9               3.0                1.4               0.2\n",
       "2                  4.7               3.2                1.3               0.2\n",
       "3                  4.6               3.1                1.5               0.2\n",
       "4                  5.0               3.6                1.4               0.2\n",
       "..                 ...               ...                ...               ...\n",
       "145                6.7               3.0                5.2               2.3\n",
       "146                6.3               2.5                5.0               1.9\n",
       "147                6.5               3.0                5.2               2.0\n",
       "148                6.2               3.4                5.4               2.3\n",
       "149                5.9               3.0                5.1               1.8\n",
       "\n",
       "[150 rows x 4 columns]"
      ]
     },
     "execution_count": 56,
     "metadata": {},
     "output_type": "execute_result"
    }
   ],
   "source": [
    "iris = datasets.load_iris()\n",
    "X = iris.data\n",
    "X = pd.DataFrame(data=X, columns=iris['feature_names'])\n",
    "X\n"
   ]
  },
  {
   "cell_type": "code",
   "execution_count": 57,
   "metadata": {},
   "outputs": [
    {
     "data": {
      "application/vnd.microsoft.datawrangler.viewer.v0+json": {
       "columns": [
        {
         "name": "index",
         "rawType": "int64",
         "type": "integer"
        },
        {
         "name": "sepal length (cm)",
         "rawType": "float64",
         "type": "float"
        },
        {
         "name": "sepal width (cm)",
         "rawType": "float64",
         "type": "float"
        },
        {
         "name": "petal length (cm)",
         "rawType": "float64",
         "type": "float"
        },
        {
         "name": "petal width (cm)",
         "rawType": "float64",
         "type": "float"
        },
        {
         "name": "pca_1",
         "rawType": "float64",
         "type": "float"
        },
        {
         "name": "pca_2",
         "rawType": "float64",
         "type": "float"
        }
       ],
       "conversionMethod": "pd.DataFrame",
       "ref": "ef803858-0ad8-4b86-b34b-79c045d5653e",
       "rows": [
        [
         "0",
         "-0.9006811702978099",
         "1.0190043519716065",
         "-1.3402265266227635",
         "-1.3154442950077407",
         "-2.2647028088075882",
         "0.4800265965209897"
        ],
        [
         "1",
         "-1.1430169111851116",
         "-0.1319794793216258",
         "-1.3402265266227635",
         "-1.3154442950077407",
         "-2.080961151965767",
         "-0.6741335566053527"
        ],
        [
         "2",
         "-1.3853526520724144",
         "0.3284140531956675",
         "-1.3970639535363667",
         "-1.3154442950077407",
         "-2.3642290538903006",
         "-0.34190802388467567"
        ],
        [
         "3",
         "-1.5065205225160663",
         "0.09821728693702086",
         "-1.2833890997091604",
         "-1.3154442950077407",
         "-2.2993842170427077",
         "-0.5973945076746752"
        ],
        [
         "4",
         "-1.0218490407414607",
         "1.2492011182302531",
         "-1.3402265266227635",
         "-1.3154442950077407",
         "-2.3898421663138447",
         "0.6468353829020275"
        ],
        [
         "5",
         "-0.5371775589668552",
         "1.939791417006192",
         "-1.169714245881954",
         "-1.052179926427139",
         "-2.075630948176512",
         "1.4891775233211673"
        ],
        [
         "6",
         "-1.5065205225160663",
         "0.7888075857129598",
         "-1.3402265266227635",
         "-1.18381211071744",
         "-2.444028835134152",
         "0.04764419763001485"
        ],
        [
         "7",
         "-1.0218490407414607",
         "0.7888075857129598",
         "-1.2833890997091604",
         "-1.3154442950077407",
         "-2.2328471588720147",
         "0.22314807268959216"
        ],
        [
         "8",
         "-1.748856263403368",
         "-0.36217624558027245",
         "-1.3402265266227635",
         "-1.3154442950077407",
         "-2.334640477907621",
         "-1.115327675461666"
        ],
        [
         "9",
         "-1.1430169111851116",
         "0.09821728693702086",
         "-1.2833890997091604",
         "-1.4470764792980415",
         "-2.1843281749339414",
         "-0.4690135614023754"
        ],
        [
         "10",
         "-0.5371775589668552",
         "1.4793978844888998",
         "-1.2833890997091604",
         "-1.3154442950077407",
         "-2.166310100701322",
         "1.04369065305386"
        ],
        [
         "11",
         "-1.2641847816287635",
         "0.7888075857129598",
         "-1.2265516727955572",
         "-1.3154442950077407",
         "-2.326130866442698",
         "0.1330783352392321"
        ],
        [
         "12",
         "-1.2641847816287635",
         "-0.1319794793216258",
         "-1.3402265266227635",
         "-1.4470764792980415",
         "-2.2184508988224088",
         "-0.7286761653165705"
        ],
        [
         "13",
         "-1.87002413384702",
         "-0.1319794793216258",
         "-1.5107388073635728",
         "-1.4470764792980415",
         "-2.633100695765228",
         "-0.9615067291701624"
        ],
        [
         "14",
         "-0.052506077192250644",
         "2.169988183264839",
         "-1.4539013804499696",
         "-1.3154442950077407",
         "-2.19874060326669",
         "1.8600571132939312"
        ],
        [
         "15",
         "-0.1736739476359015",
         "3.0907752482994253",
         "-1.2833890997091604",
         "-1.052179926427139",
         "-2.262214531601021",
         "2.6862844851105927"
        ],
        [
         "16",
         "-0.5371775589668552",
         "1.939791417006192",
         "-1.3970639535363667",
         "-1.052179926427139",
         "-2.207587695824592",
         "1.4836093631555731"
        ],
        [
         "17",
         "-0.9006811702978099",
         "1.0190043519716065",
         "-1.3402265266227635",
         "-1.18381211071744",
         "-2.1903495091922984",
         "0.4888383164863281"
        ],
        [
         "18",
         "-0.1736739476359015",
         "1.7095946507475455",
         "-1.169714245881954",
         "-1.18381211071744",
         "-1.8985719958028417",
         "1.4050187944665495"
        ],
        [
         "19",
         "-0.9006811702978099",
         "1.7095946507475455",
         "-1.2833890997091604",
         "-1.18381211071744",
         "-2.343369053074993",
         "1.1278493819084767"
        ],
        [
         "20",
         "-0.5371775589668552",
         "0.7888075857129598",
         "-1.169714245881954",
         "-1.3154442950077407",
         "-1.9143229960825674",
         "0.4088557077559064"
        ],
        [
         "21",
         "-0.9006811702978099",
         "1.4793978844888998",
         "-1.2833890997091604",
         "-1.052179926427139",
         "-2.207012843194798",
         "0.9241214267468989"
        ],
        [
         "22",
         "-1.5065205225160663",
         "1.2492011182302531",
         "-1.567576234277176",
         "-1.3154442950077407",
         "-2.7743447029273316",
         "0.4583436677529162"
        ],
        [
         "23",
         "-0.9006811702978099",
         "0.5586108194543131",
         "-1.169714245881954",
         "-0.9205477421368382",
         "-1.8186695286958487",
         "0.08555852628736646"
        ],
        [
         "24",
         "-1.2641847816287635",
         "0.7888075857129598",
         "-1.056039392054748",
         "-1.3154442950077407",
         "-2.2271633057066382",
         "0.13725445536342776"
        ],
        [
         "25",
         "-1.0218490407414607",
         "-0.1319794793216258",
         "-1.2265516727955572",
         "-1.3154442950077407",
         "-1.9518463309003757",
         "-0.6256185877766764"
        ],
        [
         "26",
         "-1.0218490407414607",
         "0.7888075857129598",
         "-1.2265516727955572",
         "-1.052179926427139",
         "-2.0511513727294153",
         "0.24216355266166753"
        ],
        [
         "27",
         "-0.779513299854158",
         "1.0190043519716065",
         "-1.2833890997091604",
         "-1.3154442950077407",
         "-2.168577174654216",
         "0.5271495253082678"
        ],
        [
         "28",
         "-0.779513299854158",
         "0.7888075857129598",
         "-1.3402265266227635",
         "-1.3154442950077407",
         "-2.1395634513013313",
         "0.31321781013995215"
        ],
        [
         "29",
         "-1.3853526520724144",
         "0.3284140531956675",
         "-1.2265516727955572",
         "-1.3154442950077407",
         "-2.2652614931542403",
         "-0.33773190376048"
        ],
        [
         "30",
         "-1.2641847816287635",
         "0.09821728693702086",
         "-1.2265516727955572",
         "-1.3154442950077407",
         "-2.140122135647984",
         "-0.504540690141518"
        ],
        [
         "31",
         "-0.5371775589668552",
         "0.7888075857129598",
         "-1.2833890997091604",
         "-1.052179926427139",
         "-1.8315947706760278",
         "0.4236950676037861"
        ],
        [
         "32",
         "-0.779513299854158",
         "2.400184949523484",
         "-1.2833890997091604",
         "-1.4470764792980415",
         "-2.6149479358589343",
         "1.793575856104429"
        ],
        [
         "33",
         "-0.4160096885232043",
         "2.630381715782132",
         "-1.3402265266227635",
         "-1.3154442950077407",
         "-2.446177391696515",
         "2.1507278773929253"
        ],
        [
         "34",
         "-1.1430169111851116",
         "0.09821728693702086",
         "-1.2833890997091604",
         "-1.3154442950077407",
         "-2.109974875318652",
         "-0.460201841437037"
        ],
        [
         "35",
         "-1.0218490407414607",
         "0.3284140531956675",
         "-1.4539013804499696",
         "-1.3154442950077407",
         "-2.2078088990782656",
         "-0.20610739768843658"
        ],
        [
         "36",
         "-0.4160096885232043",
         "1.0190043519716065",
         "-1.3970639535363667",
         "-1.3154442950077407",
         "-2.045146206754201",
         "0.6615581114631083"
        ],
        [
         "37",
         "-1.1430169111851116",
         "1.2492011182302531",
         "-1.3402265266227635",
         "-1.4470764792980415",
         "-2.5273319131704857",
         "0.59229277419081"
        ],
        [
         "38",
         "-1.748856263403368",
         "-0.1319794793216258",
         "-1.3970639535363667",
         "-1.3154442950077407",
         "-2.429632575084546",
         "-0.9041800403761474"
        ],
        [
         "39",
         "-0.9006811702978099",
         "0.7888075857129598",
         "-1.2833890997091604",
         "-1.3154442950077407",
         "-2.169710711630663",
         "0.26887896143547124"
        ],
        [
         "40",
         "-1.0218490407414607",
         "1.0190043519716065",
         "-1.3970639535363667",
         "-1.18381211071744",
         "-2.28647514334567",
         "0.4417153876990505"
        ],
        [
         "41",
         "-1.6276883929597172",
         "-1.7433568431321513",
         "-1.3970639535363667",
         "-1.18381211071744",
         "-1.8581224563735708",
         "-2.3374151575533477"
        ],
        [
         "42",
         "-1.748856263403368",
         "0.3284140531956675",
         "-1.3970639535363667",
         "-1.3154442950077407",
         "-2.5536383956143553",
         "-0.4791006901223134"
        ],
        [
         "43",
         "-1.0218490407414607",
         "1.0190043519716065",
         "-1.2265516727955572",
         "-0.7889155578465374",
         "-1.9644476837637406",
         "0.47232666771926135"
        ],
        [
         "44",
         "-0.9006811702978099",
         "1.7095946507475455",
         "-1.056039392054748",
         "-1.052179926427139",
         "-2.1370590058116226",
         "1.1422292620394092"
        ],
        [
         "45",
         "-1.2641847816287635",
         "-0.1319794793216258",
         "-1.3402265266227635",
         "-1.18381211071744",
         "-2.069744299591829",
         "-0.7110527253858937"
        ],
        [
         "46",
         "-0.9006811702978099",
         "1.7095946507475455",
         "-1.2265516727955572",
         "-1.3154442950077407",
         "-2.3847331657782624",
         "1.1204297019845366"
        ],
        [
         "47",
         "-1.5065205225160663",
         "0.3284140531956675",
         "-1.3402265266227635",
         "-1.3154442950077407",
         "-2.3943763142196324",
         "-0.3862468725891566"
        ],
        [
         "48",
         "-0.6583454294105071",
         "1.4793978844888998",
         "-1.2833890997091604",
         "-1.3154442950077407",
         "-2.229446547942674",
         "0.9979597643079805"
        ],
        [
         "49",
         "-1.0218490407414607",
         "0.5586108194543131",
         "-1.3402265266227635",
         "-1.3154442950077407",
         "-2.20383343551913",
         "0.009216357521276508"
        ]
       ],
       "shape": {
        "columns": 6,
        "rows": 150
       }
      },
      "text/html": [
       "<div>\n",
       "<style scoped>\n",
       "    .dataframe tbody tr th:only-of-type {\n",
       "        vertical-align: middle;\n",
       "    }\n",
       "\n",
       "    .dataframe tbody tr th {\n",
       "        vertical-align: top;\n",
       "    }\n",
       "\n",
       "    .dataframe thead th {\n",
       "        text-align: right;\n",
       "    }\n",
       "</style>\n",
       "<table border=\"1\" class=\"dataframe\">\n",
       "  <thead>\n",
       "    <tr style=\"text-align: right;\">\n",
       "      <th></th>\n",
       "      <th>sepal length (cm)</th>\n",
       "      <th>sepal width (cm)</th>\n",
       "      <th>petal length (cm)</th>\n",
       "      <th>petal width (cm)</th>\n",
       "      <th>pca_1</th>\n",
       "      <th>pca_2</th>\n",
       "    </tr>\n",
       "  </thead>\n",
       "  <tbody>\n",
       "    <tr>\n",
       "      <th>0</th>\n",
       "      <td>-0.900681</td>\n",
       "      <td>1.019004</td>\n",
       "      <td>-1.340227</td>\n",
       "      <td>-1.315444</td>\n",
       "      <td>-2.264703</td>\n",
       "      <td>0.480027</td>\n",
       "    </tr>\n",
       "    <tr>\n",
       "      <th>1</th>\n",
       "      <td>-1.143017</td>\n",
       "      <td>-0.131979</td>\n",
       "      <td>-1.340227</td>\n",
       "      <td>-1.315444</td>\n",
       "      <td>-2.080961</td>\n",
       "      <td>-0.674134</td>\n",
       "    </tr>\n",
       "    <tr>\n",
       "      <th>2</th>\n",
       "      <td>-1.385353</td>\n",
       "      <td>0.328414</td>\n",
       "      <td>-1.397064</td>\n",
       "      <td>-1.315444</td>\n",
       "      <td>-2.364229</td>\n",
       "      <td>-0.341908</td>\n",
       "    </tr>\n",
       "    <tr>\n",
       "      <th>3</th>\n",
       "      <td>-1.506521</td>\n",
       "      <td>0.098217</td>\n",
       "      <td>-1.283389</td>\n",
       "      <td>-1.315444</td>\n",
       "      <td>-2.299384</td>\n",
       "      <td>-0.597395</td>\n",
       "    </tr>\n",
       "    <tr>\n",
       "      <th>4</th>\n",
       "      <td>-1.021849</td>\n",
       "      <td>1.249201</td>\n",
       "      <td>-1.340227</td>\n",
       "      <td>-1.315444</td>\n",
       "      <td>-2.389842</td>\n",
       "      <td>0.646835</td>\n",
       "    </tr>\n",
       "    <tr>\n",
       "      <th>...</th>\n",
       "      <td>...</td>\n",
       "      <td>...</td>\n",
       "      <td>...</td>\n",
       "      <td>...</td>\n",
       "      <td>...</td>\n",
       "      <td>...</td>\n",
       "    </tr>\n",
       "    <tr>\n",
       "      <th>145</th>\n",
       "      <td>1.038005</td>\n",
       "      <td>-0.131979</td>\n",
       "      <td>0.819596</td>\n",
       "      <td>1.448832</td>\n",
       "      <td>1.870503</td>\n",
       "      <td>0.386966</td>\n",
       "    </tr>\n",
       "    <tr>\n",
       "      <th>146</th>\n",
       "      <td>0.553333</td>\n",
       "      <td>-1.282963</td>\n",
       "      <td>0.705921</td>\n",
       "      <td>0.922303</td>\n",
       "      <td>1.564580</td>\n",
       "      <td>-0.896687</td>\n",
       "    </tr>\n",
       "    <tr>\n",
       "      <th>147</th>\n",
       "      <td>0.795669</td>\n",
       "      <td>-0.131979</td>\n",
       "      <td>0.819596</td>\n",
       "      <td>1.053935</td>\n",
       "      <td>1.521170</td>\n",
       "      <td>0.269069</td>\n",
       "    </tr>\n",
       "    <tr>\n",
       "      <th>148</th>\n",
       "      <td>0.432165</td>\n",
       "      <td>0.788808</td>\n",
       "      <td>0.933271</td>\n",
       "      <td>1.448832</td>\n",
       "      <td>1.372788</td>\n",
       "      <td>1.011254</td>\n",
       "    </tr>\n",
       "    <tr>\n",
       "      <th>149</th>\n",
       "      <td>0.068662</td>\n",
       "      <td>-0.131979</td>\n",
       "      <td>0.762758</td>\n",
       "      <td>0.790671</td>\n",
       "      <td>0.960656</td>\n",
       "      <td>-0.024332</td>\n",
       "    </tr>\n",
       "  </tbody>\n",
       "</table>\n",
       "<p>150 rows × 6 columns</p>\n",
       "</div>"
      ],
      "text/plain": [
       "     sepal length (cm)  sepal width (cm)  petal length (cm)  petal width (cm)  \\\n",
       "0            -0.900681          1.019004          -1.340227         -1.315444   \n",
       "1            -1.143017         -0.131979          -1.340227         -1.315444   \n",
       "2            -1.385353          0.328414          -1.397064         -1.315444   \n",
       "3            -1.506521          0.098217          -1.283389         -1.315444   \n",
       "4            -1.021849          1.249201          -1.340227         -1.315444   \n",
       "..                 ...               ...                ...               ...   \n",
       "145           1.038005         -0.131979           0.819596          1.448832   \n",
       "146           0.553333         -1.282963           0.705921          0.922303   \n",
       "147           0.795669         -0.131979           0.819596          1.053935   \n",
       "148           0.432165          0.788808           0.933271          1.448832   \n",
       "149           0.068662         -0.131979           0.762758          0.790671   \n",
       "\n",
       "        pca_1     pca_2  \n",
       "0   -2.264703  0.480027  \n",
       "1   -2.080961 -0.674134  \n",
       "2   -2.364229 -0.341908  \n",
       "3   -2.299384 -0.597395  \n",
       "4   -2.389842  0.646835  \n",
       "..        ...       ...  \n",
       "145  1.870503  0.386966  \n",
       "146  1.564580 -0.896687  \n",
       "147  1.521170  0.269069  \n",
       "148  1.372788  1.011254  \n",
       "149  0.960656 -0.024332  \n",
       "\n",
       "[150 rows x 6 columns]"
      ]
     },
     "execution_count": 57,
     "metadata": {},
     "output_type": "execute_result"
    }
   ],
   "source": [
    "# scale dữ liệu để PCA học tốt hơn --> phân phối chuẩn\n",
    "scaler = StandardScaler()\n",
    "X = scaler.fit_transform(X)\n",
    "X = pd.DataFrame(data=X,  columns=iris['feature_names'])\n",
    "pca = PCA(n_components=2) # số lượng đặc trưng muốn giảm xuống\n",
    "x_new = pca.fit_transform(X)\n",
    "\n",
    "X.join(pd.DataFrame(data=x_new, columns=['pca_1', 'pca_2']))\n"
   ]
  },
  {
   "cell_type": "code",
   "execution_count": null,
   "metadata": {},
   "outputs": [],
   "source": []
  }
 ],
 "metadata": {
  "kernelspec": {
   "display_name": "ML_env",
   "language": "python",
   "name": "python3"
  },
  "language_info": {
   "codemirror_mode": {
    "name": "ipython",
    "version": 3
   },
   "file_extension": ".py",
   "mimetype": "text/x-python",
   "name": "python",
   "nbconvert_exporter": "python",
   "pygments_lexer": "ipython3",
   "version": "3.10.16"
  }
 },
 "nbformat": 4,
 "nbformat_minor": 2
}
