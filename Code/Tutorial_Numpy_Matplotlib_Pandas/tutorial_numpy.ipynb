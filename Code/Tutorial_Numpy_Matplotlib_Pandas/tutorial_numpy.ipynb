{
 "cells": [
  {
   "cell_type": "markdown",
   "metadata": {},
   "source": [
    "# 1. Numpy"
   ]
  },
  {
   "cell_type": "code",
   "execution_count": 2,
   "metadata": {},
   "outputs": [],
   "source": [
    "import numpy as np\n"
   ]
  },
  {
   "cell_type": "markdown",
   "metadata": {},
   "source": [
    "## 1.1 Array"
   ]
  },
  {
   "cell_type": "markdown",
   "metadata": {},
   "source": [
    "- Các phần tử trong array của numpy phải cùng dữ liệu"
   ]
  },
  {
   "cell_type": "code",
   "execution_count": 3,
   "metadata": {},
   "outputs": [
    {
     "name": "stdout",
     "output_type": "stream",
     "text": [
      "[1 2 3]\n"
     ]
    }
   ],
   "source": [
    "a = np.array([1, 2, 3])\n",
    "print(a)\n"
   ]
  },
  {
   "cell_type": "markdown",
   "metadata": {},
   "source": [
    "- Nếu đen xen các phần tử khác kiểu dữ liệu trong array của numpy --> ép kiểu các phần tử thành cùng kiểu `string`"
   ]
  },
  {
   "cell_type": "code",
   "execution_count": 4,
   "metadata": {},
   "outputs": [
    {
     "name": "stdout",
     "output_type": "stream",
     "text": [
      "['2.3' '2' '3']\n"
     ]
    }
   ],
   "source": [
    "b = np.array([2.3, '2', 3])\n",
    "print(b)\n"
   ]
  },
  {
   "cell_type": "code",
   "execution_count": 5,
   "metadata": {},
   "outputs": [
    {
     "name": "stdout",
     "output_type": "stream",
     "text": [
      "Kiểu dữ liệu của a: <class 'numpy.ndarray'>\n",
      "Kích thước theo từng chiều của a: (3,)\n",
      "a[1]: 2\n",
      "[1 2 3]\n",
      "a[2] lúc đầu: 3\n",
      "a[2] lúc sau: 5\n",
      "[1 2 5]\n"
     ]
    }
   ],
   "source": [
    "# 1. kiểm tra kiểu dữ liệu của array a\n",
    "print('Kiểu dữ liệu của a:',type(a))\n",
    "\n",
    "# 2. kiểm tra chiều của array a\n",
    "print('Kích thước theo từng chiều của a:',a.shape)\n",
    "\n",
    "# 3. truy xuất phần tử\n",
    "print('a[1]:',a[1])\n",
    "\n",
    "# 4. Thay đổi giá trị phần tử của a\n",
    "print(a)\n",
    "print('a[2] lúc đầu:',a[2])\n",
    "a[2] = 5\n",
    "print('a[2] lúc sau:',a[2])\n",
    "print(a)\n"
   ]
  },
  {
   "cell_type": "code",
   "execution_count": 6,
   "metadata": {},
   "outputs": [
    {
     "name": "stdout",
     "output_type": "stream",
     "text": [
      "Ma trận a:\n",
      "[[1 2]\n",
      " [3 4]]\n"
     ]
    }
   ],
   "source": [
    "# Tạo ra ma trận a\n",
    "a = np.array([[1, 2], [3, 4]])\n",
    "print('Ma trận a:',a, sep='\\n')\n"
   ]
  },
  {
   "cell_type": "code",
   "execution_count": 7,
   "metadata": {},
   "outputs": [
    {
     "name": "stdout",
     "output_type": "stream",
     "text": [
      "Số chiều của ma trận a: (2, 2)\n",
      "2 hàng và 2 cột của ma trận a\n"
     ]
    }
   ],
   "source": [
    "print('Số chiều của ma trận a:', a.shape)\n",
    "print('2 hàng và 2 cột của ma trận a')\n"
   ]
  },
  {
   "cell_type": "code",
   "execution_count": 8,
   "metadata": {},
   "outputs": [
    {
     "name": "stdout",
     "output_type": "stream",
     "text": [
      "tensor a:\n",
      "[[[1 2]\n",
      "  [3 4]]\n",
      "\n",
      " [[5 7]\n",
      "  [7 8]]]\n"
     ]
    }
   ],
   "source": [
    "# Tạo ra 1 tensor --> nối 2 ma trận thành 3 chiều\n",
    "a = np.array([[[1,2] , [3, 4]],\n",
    "              [[5, 7], [7, 8]] ])\n",
    "print('tensor a:', a, sep='\\n')\n"
   ]
  },
  {
   "cell_type": "code",
   "execution_count": 9,
   "metadata": {},
   "outputs": [
    {
     "name": "stdout",
     "output_type": "stream",
     "text": [
      "Số chiều của tensor a: (2, 2, 2)\n",
      "2 hàng, 2 cột, 2 chiều\n"
     ]
    }
   ],
   "source": [
    "print('Số chiều của tensor a:', a.shape)\n",
    "print('2 hàng, 2 cột, 2 chiều')\n"
   ]
  },
  {
   "cell_type": "markdown",
   "metadata": {},
   "source": [
    "# 2. Khởi tạo mảng cho trước có các hàm ones(), zeros(), random.random()"
   ]
  },
  {
   "cell_type": "markdown",
   "metadata": {},
   "source": [
    "- Muốn khởi tạo array nhiều chiều ==> khổi tạo bằng tuple"
   ]
  },
  {
   "cell_type": "code",
   "execution_count": 10,
   "metadata": {},
   "outputs": [
    {
     "name": "stdout",
     "output_type": "stream",
     "text": [
      "[[0. 0.]\n",
      " [0. 0.]]\n"
     ]
    }
   ],
   "source": [
    "a = np.zeros((2, 2)) # tạo ra array 2 chiều toàn 0\n",
    "print(a)\n"
   ]
  },
  {
   "cell_type": "code",
   "execution_count": 11,
   "metadata": {},
   "outputs": [
    {
     "name": "stdout",
     "output_type": "stream",
     "text": [
      "[[1. 1.]]\n"
     ]
    }
   ],
   "source": [
    "b = np.ones((1, 2)) # tạo ra array 2 chiều toàn 1\n",
    "print(b)\n"
   ]
  },
  {
   "cell_type": "code",
   "execution_count": 12,
   "metadata": {},
   "outputs": [
    {
     "name": "stdout",
     "output_type": "stream",
     "text": [
      "[[7 7]\n",
      " [7 7]]\n"
     ]
    }
   ],
   "source": [
    "# tạo ma trận có kích thước (2, 2) toàn bằng 1 hàng số ==> dùng hàm full()\n",
    "c = np.full((2, 2), 7)\n",
    "print(c)\n"
   ]
  },
  {
   "cell_type": "code",
   "execution_count": 13,
   "metadata": {},
   "outputs": [
    {
     "name": "stdout",
     "output_type": "stream",
     "text": [
      "[[7. 7.]\n",
      " [7. 7.]]\n"
     ]
    }
   ],
   "source": [
    "# 1 cách tương tự như hàm full\n",
    "c = np.ones((2, 2)) * 7\n",
    "print(c)\n"
   ]
  },
  {
   "cell_type": "code",
   "execution_count": 14,
   "metadata": {},
   "outputs": [
    {
     "name": "stdout",
     "output_type": "stream",
     "text": [
      "[[1. 0. 0. 0.]\n",
      " [0. 1. 0. 0.]\n",
      " [0. 0. 1. 0.]\n",
      " [0. 0. 0. 1.]]\n"
     ]
    }
   ],
   "source": [
    "# Tạo ma trận đơn vị bằng hàm eye(kích thước n)\n",
    "d = np.eye(4)\n",
    "print(d)\n"
   ]
  },
  {
   "cell_type": "code",
   "execution_count": 15,
   "metadata": {},
   "outputs": [
    {
     "name": "stdout",
     "output_type": "stream",
     "text": [
      "[[0.48606336 0.98083192]\n",
      " [0.98852241 0.88151365]]\n"
     ]
    }
   ],
   "source": [
    "# tạo ma trận ngẫu nhiên bằng hàm random.random ==> và sẽ khởi tạo ngẫu nhiên từ 0 -> 1\n",
    "e = np.random.random((2, 2))\n",
    "print(e)\n"
   ]
  },
  {
   "cell_type": "markdown",
   "metadata": {},
   "source": [
    "# 3. Tạo ra mảng với các giá trị theo quy luật"
   ]
  },
  {
   "cell_type": "code",
   "execution_count": 16,
   "metadata": {},
   "outputs": [
    {
     "name": "stdout",
     "output_type": "stream",
     "text": [
      "[10 15 20 25 30 35 40 45]\n"
     ]
    }
   ],
   "source": [
    "f = np.arange(10, 50, 5)\n",
    "print(f)\n"
   ]
  },
  {
   "cell_type": "markdown",
   "metadata": {},
   "source": [
    "## Hàm linspace() --> tạo ra các giá trị chia đều"
   ]
  },
  {
   "cell_type": "code",
   "execution_count": 17,
   "metadata": {},
   "outputs": [
    {
     "name": "stdout",
     "output_type": "stream",
     "text": [
      "[0.  0.1 0.2 0.3 0.4 0.5 0.6 0.7 0.8 0.9 1. ]\n"
     ]
    }
   ],
   "source": [
    "g = np.linspace(0, 1, num=11)  # số đầu tiên: số bắt đầu, số thứ 2: số kết thúc, số thứ 3: số phần tử muốn lấy\n",
    "print(g)\n"
   ]
  },
  {
   "cell_type": "markdown",
   "metadata": {},
   "source": [
    "## 4. Muốn tạo array bằng cách chồng (`stack`) các array cho trước theo chiều `ngang\\dọc` thì ta sẽ dùng các phương thức sau:"
   ]
  },
  {
   "cell_type": "markdown",
   "metadata": {},
   "source": [
    "- `vstack() or row_stack()` cho (vertical - chiều dọc)\n",
    "- `hstack() or column_stack()` cho (horizotaln - chiều ngang)\n",
    "\n",
    "- Tham số truyền vào hàm phải là `tuple`"
   ]
  },
  {
   "cell_type": "code",
   "execution_count": 18,
   "metadata": {},
   "outputs": [
    {
     "name": "stdout",
     "output_type": "stream",
     "text": [
      "Array a: [1 2 3]\n",
      "Array b: [4 5 6]\n"
     ]
    }
   ],
   "source": [
    "a = np.array([1, 2, 3])\n",
    "b = np.array([4, 5, 6])\n",
    "print('Array a:',a)\n",
    "print('Array b:',b)\n"
   ]
  },
  {
   "cell_type": "code",
   "execution_count": 19,
   "metadata": {},
   "outputs": [
    {
     "name": "stdout",
     "output_type": "stream",
     "text": [
      "vertical:\n",
      " [[1 2 3]\n",
      " [4 5 6]]\n",
      "(2, 3)\n"
     ]
    }
   ],
   "source": [
    "vertical = np.vstack((a, b))\n",
    "print('vertical:\\n', vertical)\n",
    "print(vertical.shape)\n"
   ]
  },
  {
   "cell_type": "code",
   "execution_count": 20,
   "metadata": {},
   "outputs": [
    {
     "name": "stdout",
     "output_type": "stream",
     "text": [
      "Horizontal:\n",
      " [1 2 3 4 5 6]\n",
      "(6,)\n"
     ]
    }
   ],
   "source": [
    "horizontal = np.hstack((a, b))\n",
    "print('Horizontal:\\n', horizontal)\n",
    "print(horizontal.shape)\n"
   ]
  },
  {
   "cell_type": "markdown",
   "metadata": {},
   "source": [
    "- Viêc slice 1 biến trên ma trận --> tham chiếu đến ma trận con\n",
    "\n",
    "==> dẫn đến việc khi thay đổi giá trị của biến tham chiếu ==> thay đổi giá trị ma trân đó luôn"
   ]
  },
  {
   "cell_type": "code",
   "execution_count": 21,
   "metadata": {},
   "outputs": [
    {
     "name": "stdout",
     "output_type": "stream",
     "text": [
      "Ma trận a gốc ban đầu:\n",
      " [[ 1  2  3  4]\n",
      " [ 5  6  7  8]\n",
      " [ 9 10 11 12]\n",
      " [13 14 15 16]]\n",
      "(4, 4)\n"
     ]
    }
   ],
   "source": [
    "a = np.array([[1, 2, 3, 4], \n",
    "              [5, 6, 7, 8], \n",
    "              [9, 10, 11, 12], \n",
    "              [13, 14, 15, 16] ])\n",
    "print('Ma trận a gốc ban đầu:\\n',a)\n",
    "print(a.shape)\n"
   ]
  },
  {
   "cell_type": "code",
   "execution_count": 22,
   "metadata": {},
   "outputs": [
    {
     "name": "stdout",
     "output_type": "stream",
     "text": [
      "Giá trị tham chiếu của b sau khi slice:\n",
      " [[2 3]\n",
      " [6 7]]\n"
     ]
    }
   ],
   "source": [
    "# giá trị b tham chiếu\n",
    "b = a[:2, 1:3]\n",
    "print('Giá trị tham chiếu của b sau khi slice:\\n', b)\n"
   ]
  },
  {
   "cell_type": "code",
   "execution_count": 23,
   "metadata": {},
   "outputs": [
    {
     "name": "stdout",
     "output_type": "stream",
     "text": [
      "a[0, 1] ban đầu: 2\n",
      "b là:\n",
      " [[2 3]\n",
      " [6 7]]\n",
      "thay đổi biến tham chiếu b[0, 0]: 3\n",
      "a[0][1] ban đầu: 3\n"
     ]
    }
   ],
   "source": [
    "# Nhưng b làm thay chiếu ==> thay đổi biến tham chiếu ==> thay đổi đến ptu được tham chiếu\n",
    "print('a[0, 1] ban đầu:', a[0, 1])\n",
    "print('b là:\\n', b)\n",
    "b[0,0] = 3\n",
    "print('thay đổi biến tham chiếu b[0, 0]:', b[0,1])\n",
    "print('a[0][1] ban đầu:', a[0,1])\n"
   ]
  },
  {
   "cell_type": "code",
   "execution_count": 24,
   "metadata": {},
   "outputs": [
    {
     "name": "stdout",
     "output_type": "stream",
     "text": [
      "ma trận a sau khi thay đổi tham chiếu:\n",
      " [[ 1  3  3  4]\n",
      " [ 5  6  7  8]\n",
      " [ 9 10 11 12]\n",
      " [13 14 15 16]]\n"
     ]
    }
   ],
   "source": [
    "# a sau khi thay đổi\n",
    "print('ma trận a sau khi thay đổi tham chiếu:\\n', a)\n"
   ]
  },
  {
   "cell_type": "markdown",
   "metadata": {},
   "source": [
    "# 5. Giảm chiều array khi tạo lát cắt"
   ]
  },
  {
   "cell_type": "code",
   "execution_count": 32,
   "metadata": {},
   "outputs": [
    {
     "name": "stdout",
     "output_type": "stream",
     "text": [
      "[[ 1  2  3  4]\n",
      " [ 5  6  7  8]\n",
      " [ 9 10 11 12]]\n"
     ]
    }
   ],
   "source": [
    "# Tạo ma trận a (3, 4)\n",
    "a = np.array([[1, 2, 3, 4], [5, 6, 7, 8], [9, 10, 11, 12]])\n",
    "print(a)\n"
   ]
  },
  {
   "cell_type": "markdown",
   "metadata": {},
   "source": [
    "- Các cách thức lấy ra dòng sô 2"
   ]
  },
  {
   "cell_type": "markdown",
   "metadata": {},
   "source": [
    "- Khi sử dụng chỉ mục là số nguyên ==> chiều của slice sẽ bị giảm\n",
    "- Khi sử duụg chi muc là lát cắt ==> giữ nguyên chiều của slice so với dữ lieệ gốc"
   ]
  },
  {
   "cell_type": "code",
   "execution_count": 30,
   "metadata": {},
   "outputs": [
    {
     "name": "stdout",
     "output_type": "stream",
     "text": [
      "row_r1: [5 6 7 8] (4,)\n",
      "row_r2: [[5 6 7 8]] (1, 4)\n",
      "row_r3: [[5 6 7 8]] (1, 4)\n"
     ]
    }
   ],
   "source": [
    "# solution 1: take row 1 and all columns\n",
    "row_r1 = a[1, :]\n",
    "print(\"row_r1:\", row_r1, row_r1.shape)  # just one dimension\n",
    "\n",
    "\n",
    "# solution 2 to take the second row:\n",
    "row_r2 = a[1:2, :]\n",
    "print(\"row_r2:\", row_r2, row_r2.shape)  # just two demension\n",
    "\n",
    "# solution 3 to take the second row\n",
    "row_r3 = a[[1], :]\n",
    "print(\"row_r3:\", row_r3, row_r3.shape)\n"
   ]
  },
  {
   "cell_type": "code",
   "execution_count": 34,
   "metadata": {},
   "outputs": [
    {
     "name": "stdout",
     "output_type": "stream",
     "text": [
      "[ 2  6 10] (3,)\n",
      "\n",
      "[[ 2]\n",
      " [ 6]\n",
      " [10]] (3, 1)\n"
     ]
    }
   ],
   "source": [
    "# Khi thực hiện trên cột\n",
    "col_r1 = a[:, 1]\n",
    "col_r2 = a[:, 1:2]\n",
    "print(col_r1, col_r1.shape)\n",
    "print()\n",
    "print(col_r2, col_r2.shape)\n"
   ]
  },
  {
   "cell_type": "markdown",
   "metadata": {},
   "source": [
    "# 6. Cơ chế đánh chỉ mục"
   ]
  },
  {
   "cell_type": "markdown",
   "metadata": {},
   "source": [
    "- Chỉ mục là mảng số nguyen (`Integer array indexing`) ==> Tao ra array tư phân tư bat ky trong array gốc thay vì dùng slice\n",
    "\n",
    "# Đây là điêm khac biet cua numpy so voi list"
   ]
  },
  {
   "cell_type": "code",
   "execution_count": 43,
   "metadata": {},
   "outputs": [
    {
     "name": "stdout",
     "output_type": "stream",
     "text": [
      "a Gốc:\n",
      "[[1 2]\n",
      " [3 4]\n",
      " [5 6]]\n",
      "\n",
      "[1 4 5]\n",
      "[1 4 5]\n"
     ]
    }
   ],
   "source": [
    "a = np.array([[1, 2], [3, 4], [5, 6]])\n",
    "print('a Gốc:')\n",
    "print(a)\n",
    "print()\n",
    "\n",
    "# VD chỉ mục dạng số nguyên\n",
    "# Kết quả trả về là array 1 chiều với 3 phần tử shape(3,)\n",
    "\n",
    "print(a[[0, 1, 2],[0, 1, 0]]) # Ở đây sẽ tạo array với các phần tử tương ứng như vd dưới\n",
    "\n",
    "# Tương tự\n",
    "print(np.array([a[0,0], a[1, 1], a[2, 0]]))\n"
   ]
  },
  {
   "cell_type": "code",
   "execution_count": 54,
   "metadata": {},
   "outputs": [
    {
     "name": "stdout",
     "output_type": "stream",
     "text": [
      "[[ 1  2  3]\n",
      " [ 4  5  6]\n",
      " [ 7  8  9]\n",
      " [10 11 12]]\n"
     ]
    }
   ],
   "source": [
    "# Tạo array 2 chiều với kích thước (4, 3)\n",
    "a = np.array([[1, 2, 3], [4, 5, 6], [7, 8, 9], [10, 11, 12]])\n",
    "print(a)\n"
   ]
  },
  {
   "cell_type": "code",
   "execution_count": 55,
   "metadata": {},
   "outputs": [
    {
     "name": "stdout",
     "output_type": "stream",
     "text": [
      "[ 1  6  7 11]\n"
     ]
    }
   ],
   "source": [
    "# Tạo array chỉ mục\n",
    "b = np.array([0, 2, 0, 1])\n",
    "\n",
    "# Mỗi dòng lấy 1 phần tử, tại các cột có chỉ mục b\n",
    "print(a[np.arange(4), b]) # [0 1 2 3],[0 2 0 1] ==> [a[0, 0], a[1, 2], a[2, 0], a[3, 1]]\n"
   ]
  },
  {
   "cell_type": "code",
   "execution_count": 58,
   "metadata": {},
   "outputs": [
    {
     "name": "stdout",
     "output_type": "stream",
     "text": [
      "[[11  2  3]\n",
      " [ 4  5 20]\n",
      " [17  8  9]\n",
      " [10 23 12]]\n"
     ]
    }
   ],
   "source": [
    "# Cùng tăng 10 đơn vị cho từng phần tử của mỗi dòng, tại các cột có chỉ mục b\n",
    "a[np.arange(4), b] += 10\n",
    "print(a)\n"
   ]
  },
  {
   "cell_type": "markdown",
   "metadata": {},
   "source": [
    "## 7. Chỉ muc là mảng boolean"
   ]
  },
  {
   "cell_type": "markdown",
   "metadata": {},
   "source": [
    "- chỉ muụ daạg boolean --> loc ra ptu thoa tinh chat nao do"
   ]
  },
  {
   "cell_type": "code",
   "execution_count": 67,
   "metadata": {},
   "outputs": [
    {
     "name": "stdout",
     "output_type": "stream",
     "text": [
      "[[1 2]\n",
      " [3 4]\n",
      " [5 6]]\n",
      "[[False False]\n",
      " [ True  True]\n",
      " [ True  True]] (3, 2)\n"
     ]
    },
    {
     "data": {
      "text/plain": [
       "array([[False, False],\n",
       "       [ True,  True],\n",
       "       [ True,  True]])"
      ]
     },
     "execution_count": 67,
     "metadata": {},
     "output_type": "execute_result"
    }
   ],
   "source": [
    "import numpy as np\n",
    "\n",
    "a = np.array([[1, 2], [3, 4], [5,6]])\n",
    "\n",
    "bool_idx = (a > 2)\n",
    "print(a)\n",
    "\n",
    "# mảng này trả về kích thước giống mảng a nhưng giá trị trả về là kiểm tra điều kiện\n",
    "print(bool_idx, bool_idx.shape)\n",
    "bool_idx\n"
   ]
  },
  {
   "cell_type": "code",
   "execution_count": 66,
   "metadata": {},
   "outputs": [
    {
     "name": "stdout",
     "output_type": "stream",
     "text": [
      "[3 4 5 6]\n",
      "[3 4 5 6]\n"
     ]
    }
   ],
   "source": [
    "# Lấy ra các giá trị > 2\n",
    "\n",
    "print(a[bool_idx])\n",
    "\"\"\"\n",
    "    Khi gọi a[bool_idx] ==> np trích xuất các phần tử tại vị trí có giá trị là True ==> trả về array 1 chiều    \n",
    "    - Có nghĩa là mảng a sẽ duyệt tuần tự qua có chỉ số là true mới in ra\n",
    "\"\"\"\n",
    "\n",
    "# viết gọn lại tương tự\n",
    "print(a[a > 2])\n"
   ]
  },
  {
   "cell_type": "markdown",
   "metadata": {},
   "source": [
    "# 8. Các haà laá ra chỉ muc"
   ]
  },
  {
   "cell_type": "markdown",
   "metadata": {},
   "source": [
    "- `argmax`: chi so max\n",
    "- `argmin`: chi so min\n",
    "- `argsort`: chi so cac phan tu da sap xep tang dan\n",
    "- `where`: chi so cac phan tu thoa dieu kien nao do"
   ]
  },
  {
   "cell_type": "code",
   "execution_count": 80,
   "metadata": {},
   "outputs": [
    {
     "name": "stdout",
     "output_type": "stream",
     "text": [
      "Chi so max 6\n",
      "Chi so min 3\n"
     ]
    }
   ],
   "source": [
    "a = np.array([1, 2, 0, -9, 4, 6, 9])\n",
    "\n",
    "# chỉ số max\n",
    "print('Chi so max',np.argmax(a))\n",
    "\n",
    "# chỉ số min\n",
    "print('Chi so min',np.argmin(a))\n",
    "\n"
   ]
  },
  {
   "cell_type": "code",
   "execution_count": 82,
   "metadata": {},
   "outputs": [
    {
     "name": "stdout",
     "output_type": "stream",
     "text": [
      "chi so cac phan tu sap xep tang dan [3 2 0 1 4 5 6]\n",
      "Mang sap xep tang dan the chi so:\n",
      "-9 0 1 2 4 6 9 \n",
      "Chi so theo thu tu nghich dao giam dan: [6 5 4 1 0 2 3]\n"
     ]
    }
   ],
   "source": [
    "# lay ra cac phan tu sap xep tang dan\n",
    "print('chi so cac phan tu sap xep tang dan', np.argsort(a))\n",
    "print('Mang sap xep tang dan the chi so:')\n",
    "for idx in np.argsort(a):\n",
    "    print(a[idx], end= ' ')\n",
    "print()\n",
    "# Lấy chỉ số cac phan tu sau kii sap xep giam dan theo gia tri\n",
    "# [::-1]: cac lay chi muc lat cach theo thu tu nghich dao\n",
    "print('Chi so theo thu tu nghich dao giam dan:',np.argsort(a)[::-1])\n"
   ]
  },
  {
   "cell_type": "code",
   "execution_count": 84,
   "metadata": {},
   "outputs": [
    {
     "name": "stdout",
     "output_type": "stream",
     "text": [
      "[5 6]\n",
      "[6]\n"
     ]
    }
   ],
   "source": [
    "# Lấy ra chỉ mục thỏa tính chất\n",
    "# Trả về tuple --> danh sach chỉ mục là phần tử đầu tiên\n",
    "# sử dụng [0] để lấy danh sách chỉ mục\n",
    "print(np.where(a > 5)[0])\n",
    "\n",
    "# Lấy chỉ mục các phần tử thỏa tính chất\n",
    "# Lấy chỉ mục tất cả phần tử lớn nhất trong mảng\n",
    "print(np.where(a >= a[np.argmax(a)])[0])\n"
   ]
  },
  {
   "cell_type": "markdown",
   "metadata": {},
   "source": [
    "# 9. KDL array"
   ]
  },
  {
   "cell_type": "code",
   "execution_count": 88,
   "metadata": {},
   "outputs": [
    {
     "name": "stdout",
     "output_type": "stream",
     "text": [
      "int64 float64 int64\n"
     ]
    }
   ],
   "source": [
    "# Để numpy tự chọn kiểu dữ liệu\n",
    "x = np.array([1, 2])\n",
    "y = np.array([1, 2.0, ])\n",
    "z = np.array([1, 2], dtype=np.int64) # chỉ định kiểu dữ liệu\n",
    "\n",
    "print(x.dtype, y.dtype, z.dtype)\n"
   ]
  },
  {
   "cell_type": "markdown",
   "metadata": {},
   "source": [
    "# 10. Hàm tính toán"
   ]
  },
  {
   "cell_type": "markdown",
   "metadata": {},
   "source": [
    "- Sử dung `%%time` để đo thơi gian thuc thi"
   ]
  },
  {
   "cell_type": "code",
   "execution_count": 96,
   "metadata": {},
   "outputs": [],
   "source": [
    "a = np.random.random(100000000)\n"
   ]
  },
  {
   "cell_type": "code",
   "execution_count": 97,
   "metadata": {},
   "outputs": [
    {
     "name": "stdout",
     "output_type": "stream",
     "text": [
      "CPU times: total: 125 ms\n",
      "Wall time: 137 ms\n"
     ]
    }
   ],
   "source": [
    "%%time\n",
    "x = np.sum(a)\n"
   ]
  },
  {
   "cell_type": "code",
   "execution_count": 98,
   "metadata": {},
   "outputs": [
    {
     "name": "stdout",
     "output_type": "stream",
     "text": [
      "CPU times: total: 12.5 s\n",
      "Wall time: 13.1 s\n"
     ]
    }
   ],
   "source": [
    "%%time\n",
    "x = 0\n",
    "for element in a:\n",
    "    x += element\n",
    "\n"
   ]
  },
  {
   "cell_type": "markdown",
   "metadata": {},
   "source": [
    "## Co gang su dung vector hoa bang ham `np.add()`"
   ]
  },
  {
   "cell_type": "code",
   "execution_count": 99,
   "metadata": {},
   "outputs": [],
   "source": [
    "x = np.array([[1,2], [3, 4]], dtype=np.float64)\n",
    "y = np.array([[5,6], [7, 8]], dtype=np.float64)\n",
    "\n"
   ]
  },
  {
   "cell_type": "markdown",
   "metadata": {},
   "source": [
    "# Tổng theo từng phần tử, thực hiện bằng 2 cách"
   ]
  },
  {
   "cell_type": "code",
   "execution_count": null,
   "metadata": {},
   "outputs": [
    {
     "name": "stdout",
     "output_type": "stream",
     "text": [
      "[[ 6.  8.]\n",
      " [10. 12.]]\n",
      "CPU times: total: 15.6 ms\n",
      "Wall time: 2 ms\n"
     ]
    }
   ],
   "source": [
    "%%time\n",
    "print(x + y)\n"
   ]
  },
  {
   "cell_type": "code",
   "execution_count": null,
   "metadata": {},
   "outputs": [
    {
     "name": "stdout",
     "output_type": "stream",
     "text": [
      "[[ 6.  8.]\n",
      " [10. 12.]]\n",
      "CPU times: total: 0 ns\n",
      "Wall time: 0 ns\n"
     ]
    }
   ],
   "source": [
    "%%time\n",
    "print(np.add(x, y))\n"
   ]
  },
  {
   "cell_type": "markdown",
   "metadata": {},
   "source": [
    "# phép trừ"
   ]
  },
  {
   "cell_type": "code",
   "execution_count": null,
   "metadata": {},
   "outputs": [
    {
     "name": "stdout",
     "output_type": "stream",
     "text": [
      "[[-4. -4.]\n",
      " [-4. -4.]]\n",
      "[[-4. -4.]\n",
      " [-4. -4.]]\n"
     ]
    }
   ],
   "source": [
    "print(x - y)\n",
    "print(np.subtract(x, y))\n"
   ]
  },
  {
   "cell_type": "markdown",
   "metadata": {},
   "source": [
    "# Phép nhân"
   ]
  },
  {
   "cell_type": "code",
   "execution_count": 104,
   "metadata": {},
   "outputs": [
    {
     "name": "stdout",
     "output_type": "stream",
     "text": [
      "[[ 5. 12.]\n",
      " [21. 32.]]\n",
      "[[ 5. 12.]\n",
      " [21. 32.]]\n"
     ]
    }
   ],
   "source": [
    "# Phép nhân: tích theo từng phần tử (`element wise product`)\n",
    "print(x * y)\n",
    "print(np.multiply(x, y))\n"
   ]
  },
  {
   "cell_type": "markdown",
   "metadata": {},
   "source": [
    "# Phép chia"
   ]
  },
  {
   "cell_type": "code",
   "execution_count": 105,
   "metadata": {},
   "outputs": [
    {
     "name": "stdout",
     "output_type": "stream",
     "text": [
      "[[0.2        0.33333333]\n",
      " [0.42857143 0.5       ]]\n",
      "[[0.2        0.33333333]\n",
      " [0.42857143 0.5       ]]\n"
     ]
    }
   ],
   "source": [
    "print(x / y)\n",
    "print(np.divide(x, y))\n"
   ]
  },
  {
   "cell_type": "markdown",
   "metadata": {},
   "source": [
    "# Laá can theo tung phan tu"
   ]
  },
  {
   "cell_type": "code",
   "execution_count": 106,
   "metadata": {},
   "outputs": [
    {
     "name": "stdout",
     "output_type": "stream",
     "text": [
      "[[1.         1.41421356]\n",
      " [1.73205081 2.        ]]\n"
     ]
    }
   ],
   "source": [
    "print(np.sqrt(x))\n"
   ]
  },
  {
   "cell_type": "markdown",
   "metadata": {},
   "source": [
    "- `*`: tích theo từng phần tử, `không phải nhân ma trận`\n",
    "\n",
    "==> dùng hàm `dot()`: để tính tích  `các vector`, `vector - ma trận`, `ma trận - ma trận`\n",
    "==> `dot()`: vừa hàm của numpy, vừa phương thức array"
   ]
  },
  {
   "cell_type": "code",
   "execution_count": 7,
   "metadata": {},
   "outputs": [
    {
     "name": "stdout",
     "output_type": "stream",
     "text": [
      "[[1 2]\n",
      " [3 4]] (2, 2)\n",
      "[[5 6]\n",
      " [7 8]] (2, 2)\n",
      "[ 9 10] (2,)\n",
      "[11 12] (2,)\n",
      "219\n",
      "219\n"
     ]
    }
   ],
   "source": [
    "x = np.array([[1,2], [3, 4]])\n",
    "y = np.array([[5,6], [7, 8]])\n",
    "\n",
    "v = np.array([9, 10])\n",
    "w = np.array([11, 12])\n",
    "\n",
    "print(x, x.shape)\n",
    "print(y, y.shape)\n",
    "print(v, v.shape)\n",
    "print(w, w.shape)\n",
    "\n",
    "# inner product of vector; both are the same result\n",
    "print(v.dot(w))\n",
    "print(np.dot(v,w))\n"
   ]
  },
  {
   "cell_type": "markdown",
   "metadata": {},
   "source": [
    "- Ta có thê dùng `@` thay cho toán tư dot"
   ]
  },
  {
   "cell_type": "code",
   "execution_count": null,
   "metadata": {},
   "outputs": [
    {
     "name": "stdout",
     "output_type": "stream",
     "text": [
      "219\n"
     ]
    }
   ],
   "source": [
    "print(v @ w)\n"
   ]
  },
  {
   "cell_type": "code",
   "execution_count": 6,
   "metadata": {},
   "outputs": [
    {
     "name": "stdout",
     "output_type": "stream",
     "text": [
      "[29 67]\n",
      "[29 67]\n",
      "[29 67]\n"
     ]
    }
   ],
   "source": [
    "# Cách nhân ma trận - vector\n",
    "print(x.dot(v))\n",
    "print(np.dot(x, v))\n",
    "print(x @ v)\n"
   ]
  },
  {
   "cell_type": "code",
   "execution_count": 8,
   "metadata": {},
   "outputs": [
    {
     "name": "stdout",
     "output_type": "stream",
     "text": [
      "[[19 22]\n",
      " [43 50]]\n",
      "[[19 22]\n",
      " [43 50]]\n",
      "[[19 22]\n",
      " [43 50]]\n"
     ]
    }
   ],
   "source": [
    "# Cách nhân ma trận - ma trận\n",
    "print(x.dot(y))\n",
    "print(np.dot(x, y))\n",
    "print(x @ y)\n"
   ]
  },
  {
   "cell_type": "markdown",
   "metadata": {},
   "source": [
    "- các hàm min, max, sum"
   ]
  },
  {
   "cell_type": "code",
   "execution_count": 10,
   "metadata": {},
   "outputs": [
    {
     "name": "stdout",
     "output_type": "stream",
     "text": [
      "6\n",
      "1\n",
      "21\n",
      "3.5\n"
     ]
    }
   ],
   "source": [
    "x = np.array([[1, 2], [3,4], [5,6]])\n",
    "print(np.max(x))\n",
    "print(np.min(x))\n",
    "print(np.sum(x))\n",
    "print(np.average(x))\n"
   ]
  },
  {
   "cell_type": "markdown",
   "metadata": {},
   "source": [
    "- tính toán theo từng cọộ || từng hàng theo `axis`"
   ]
  },
  {
   "cell_type": "code",
   "execution_count": null,
   "metadata": {},
   "outputs": [
    {
     "name": "stdout",
     "output_type": "stream",
     "text": [
      "x gốc: \n",
      "[[1 2]\n",
      " [3 4]\n",
      " [5 6]]\n",
      "\n",
      "[5 6]\n",
      "[2 4 6]\n"
     ]
    }
   ],
   "source": [
    "x = np.array([[1, 2], [3,4], [5,6]])\n",
    "print('x gốc: ',x, sep='\\n')\n",
    "print()\n",
    "# tìm max trên từng hàng ==> truyền vào axis\n",
    "print(np.max(x, axis=0)) # tính max trên mỗi cột\n",
    "print(np.max(x, axis=1)) # tính max trên mỗi hàng\n"
   ]
  },
  {
   "cell_type": "markdown",
   "metadata": {},
   "source": [
    "- chuyển đổi ma tran bằng `.T`"
   ]
  },
  {
   "cell_type": "code",
   "execution_count": 15,
   "metadata": {},
   "outputs": [
    {
     "name": "stdout",
     "output_type": "stream",
     "text": [
      "Ma trận x gốc:\n",
      "[[1 2]\n",
      " [3 4]\n",
      " [5 6]] (3, 2)\n",
      "Ma trận x sau khi chuyển vị:\n",
      "[[1 3 5]\n",
      " [2 4 6]] (2, 3)\n"
     ]
    }
   ],
   "source": [
    "x = np.array([[1, 2], \n",
    "              [3,4], \n",
    "              [5,6]])\n",
    "print('Ma trận x gốc:')\n",
    "print(x, x.shape)\n",
    "\n",
    "# chuyển đổi ma trận\n",
    "print('Ma trận x sau khi chuyển vị:')\n",
    "print(x.T, x.T.shape)\n"
   ]
  },
  {
   "cell_type": "markdown",
   "metadata": {},
   "source": [
    "- Cách đổi chiều của ma trận bằng hàm `reshape`"
   ]
  },
  {
   "cell_type": "code",
   "execution_count": 21,
   "metadata": {},
   "outputs": [
    {
     "name": "stdout",
     "output_type": "stream",
     "text": [
      "X gốc ban đầu:\n",
      "[1 2 3 4 5 6] (6,)\n",
      "x reshape to (2, 3):\n",
      "[[1 2 3]\n",
      " [4 5 6]] (2, 3)\n",
      "x reshape to (3, 2):\n",
      "[[1 2]\n",
      " [3 4]\n",
      " [5 6]] (3, 2)\n"
     ]
    }
   ],
   "source": [
    "x = np.array([1, 2, 3, 4, 5, 6])\n",
    "print('X gốc ban đầu:')\n",
    "print(x, x.shape)\n",
    "\n",
    "# reshape thành (2, 3)\n",
    "two_array = x.reshape(2, 3)\n",
    "print('x reshape to (2, 3):')\n",
    "print(two_array, two_array.shape)\n",
    "\n",
    "# reshape thành (3, 2)\n",
    "two_array_3 = x.reshape(3, 2)\n",
    "print('x reshape to (3, 2):')\n",
    "print(two_array_3, two_array_3.shape)\n"
   ]
  },
  {
   "cell_type": "markdown",
   "metadata": {},
   "source": [
    "- VD 2:"
   ]
  },
  {
   "cell_type": "code",
   "execution_count": 30,
   "metadata": {},
   "outputs": [
    {
     "name": "stdout",
     "output_type": "stream",
     "text": [
      "[[1]\n",
      " [2]\n",
      " [3]]\n"
     ]
    },
    {
     "data": {
      "text/plain": [
       "(3, 1)"
      ]
     },
     "execution_count": 30,
     "metadata": {},
     "output_type": "execute_result"
    }
   ],
   "source": [
    "x = np.array([[1], [2], [3]])\n",
    "print(x)\n",
    "x.shape\n"
   ]
  },
  {
   "cell_type": "code",
   "execution_count": 31,
   "metadata": {},
   "outputs": [
    {
     "name": "stdout",
     "output_type": "stream",
     "text": [
      "[1 2 3]\n"
     ]
    },
    {
     "data": {
      "text/plain": [
       "(3,)"
      ]
     },
     "execution_count": 31,
     "metadata": {},
     "output_type": "execute_result"
    }
   ],
   "source": [
    "# loại bỏ các tham số ko cần thiết để đưa về array 1 chiều với -1 \n",
    "# ==> từ động điều chỉnh kích thước từ ma trận sang array\n",
    "y = x.reshape(-1,)\n",
    "print(y)\n",
    "y.shape\n"
   ]
  },
  {
   "cell_type": "markdown",
   "metadata": {},
   "source": [
    "- TƯơng tự như hàm `squeeze()`"
   ]
  },
  {
   "cell_type": "code",
   "execution_count": null,
   "metadata": {},
   "outputs": [
    {
     "name": "stdout",
     "output_type": "stream",
     "text": [
      "[1 2 3]\n"
     ]
    },
    {
     "data": {
      "text/plain": [
       "(3,)"
      ]
     },
     "execution_count": 25,
     "metadata": {},
     "output_type": "execute_result"
    }
   ],
   "source": [
    "z = x.squeeze()\n",
    "print(z)\n",
    "z.shape\n"
   ]
  },
  {
   "cell_type": "markdown",
   "metadata": {},
   "source": [
    "- Để chuyển tư 1D ==> 2D thì thêm 1 vào ví trị tham số còn lại truyền vào `tuple`"
   ]
  },
  {
   "cell_type": "code",
   "execution_count": 36,
   "metadata": {},
   "outputs": [
    {
     "data": {
      "text/plain": [
       "array([[1],\n",
       "       [2],\n",
       "       [3]])"
      ]
     },
     "execution_count": 36,
     "metadata": {},
     "output_type": "execute_result"
    }
   ],
   "source": [
    "y.reshape((-1, 1))\n",
    "\n"
   ]
  },
  {
   "cell_type": "markdown",
   "metadata": {},
   "source": [
    "# Cơ chế `broadcasting`"
   ]
  },
  {
   "cell_type": "markdown",
   "metadata": {},
   "source": [
    "- khi 1 array vói 1 scale ==> scale tự mở rông chiều tương ưng với array\n",
    "- broadcasting có `2 quy tắc`:\n",
    "    1. Nếu 2 array khác số chiều ==> kích thúướ chiều `ít hơn` sẽ đuợc `chèn phía đầu bên trái`\n",
    "    2. Nếu shape 2 array `không khớp` ở chiều nào ==> array có `kích thước = 1` thì sẽ `kéo dài ở chiều đó`\n",
    "    3. không chiều nào bằng nhau & ko có chiều = 1 ==> `lỗi ValueError`"
   ]
  },
  {
   "cell_type": "code",
   "execution_count": null,
   "metadata": {},
   "outputs": [
    {
     "name": "stdout",
     "output_type": "stream",
     "text": [
      "[1 2 3] (3,)\n",
      "\n",
      "[[4]\n",
      " [5]\n",
      " [6]] (3, 1)\n",
      "\n",
      "[[5 6 7]\n",
      " [6 7 8]\n",
      " [7 8 9]]\n"
     ]
    },
    {
     "data": {
      "text/plain": [
       "(3, 3)"
      ]
     },
     "execution_count": 41,
     "metadata": {},
     "output_type": "execute_result"
    }
   ],
   "source": [
    "# VD cho quy tắc 1\n",
    "a = np.array([1, 2, 3]) # array 1 chiều: shape(3,) ==> sẽ nhằm mở rộng thêm 1 chiều bên trái: shape(1, 3)\n",
    "b = np.array([[4], [5], [6]]) # array 2 chiều: shape(3, 1)\n",
    "\n",
    "print(a, a.shape)\n",
    "print()\n",
    "print(b, b.shape)\n",
    "\n",
    "# broadcasting\n",
    "print()\n",
    "c = a + b # thêm quy tắc 2 nữa\n",
    "print(c)\n",
    "c.shape\n",
    "\n"
   ]
  },
  {
   "cell_type": "code",
   "execution_count": null,
   "metadata": {},
   "outputs": [
    {
     "name": "stdout",
     "output_type": "stream",
     "text": [
      "[[ 6  7]\n",
      " [ 9 10]\n",
      " [12 13]]\n"
     ]
    }
   ],
   "source": [
    "# vd quy tắc 2 lỗi nếu ko có chiều nào = 1 và không có chiều nào bằng nahu\n",
    "a = np.array([[1], [2], [3], [4]]) # shape(4, 1)\n",
    "b = np.array([[5, 6], [7, 8], [9, 10]]) # shape(3, 2)\n",
    "\n",
    "# khi broadcasting khi khác chiều ==> bị ValueError: operands could not be broadcast\n",
    "try:\n",
    "    c = a + b\n",
    "    print(c)\n",
    "except ValueError:\n",
    "    print('lỗi broadcast vì khác số chiều vi phạm quy tắc 2')\n",
    "\n"
   ]
  },
  {
   "cell_type": "code",
   "execution_count": null,
   "metadata": {},
   "outputs": [
    {
     "name": "stdout",
     "output_type": "stream",
     "text": [
      "a.shape(3, 1)\n",
      "b.shape(3, 2)\n",
      "c = a + b:\n",
      "[[ 6  7]\n",
      " [ 9 10]\n",
      " [12 13]]\n",
      "c.shape(3, 2)\n"
     ]
    }
   ],
   "source": [
    "# vd quy tắc 2\n",
    "a = np.array([[1], [2], [3]]) # shape(3, 1): # array có shape(1) ==> kéo dài ở chiều đó bằng chiều còn lại của array\n",
    "b = np.array([[5, 6], [7, 8], [9, 10]]) # shape(3, 2)\n",
    "\n",
    "print(f'a.shape{a.shape}')\n",
    "print(f'b.shape{b.shape}')\n",
    "\n",
    "# broadcasting theo quy tắc 2\n",
    "c = a + b # ==> a sẽ thành (3, 2)\n",
    "print('c = a + b:',c, sep='\\n')\n",
    "print(f'c.shape{c.shape}')\n"
   ]
  },
  {
   "cell_type": "code",
   "execution_count": null,
   "metadata": {},
   "outputs": [
    {
     "data": {
      "text/plain": [
       "array([[1, 1, 1],\n",
       "       [1, 1, 1]])"
      ]
     },
     "execution_count": 3,
     "metadata": {},
     "output_type": "execute_result"
    }
   ],
   "source": [
    "np.ones(shape=(2, 3), dtype='int')\n",
    "\n"
   ]
  },
  {
   "cell_type": "code",
   "execution_count": 4,
   "metadata": {},
   "outputs": [
    {
     "data": {
      "text/plain": [
       "array([2, 4, 6])"
      ]
     },
     "execution_count": 4,
     "metadata": {},
     "output_type": "execute_result"
    }
   ],
   "source": [
    "np.array([1, 2, 3]) + [1, 2, 3]\n"
   ]
  },
  {
   "cell_type": "code",
   "execution_count": 8,
   "metadata": {},
   "outputs": [
    {
     "name": "stdout",
     "output_type": "stream",
     "text": [
      "(3,)\n",
      "(1, 3)\n",
      "[[2 5 7]]\n",
      "(1, 3)\n"
     ]
    }
   ],
   "source": [
    "a = np.array([1, 2, 3]) + np.array([[1, 3, 4]])\n",
    "print(np.array([1, 2, 3]).shape)\n",
    "print(np.array([[1, 3, 4]]).shape)\n",
    "print(a)\n",
    "print(a.shape)\n"
   ]
  }
 ],
 "metadata": {
  "kernelspec": {
   "display_name": "CS116",
   "language": "python",
   "name": "python3"
  },
  "language_info": {
   "codemirror_mode": {
    "name": "ipython",
    "version": 3
   },
   "file_extension": ".py",
   "mimetype": "text/x-python",
   "name": "python",
   "nbconvert_exporter": "python",
   "pygments_lexer": "ipython3",
   "version": "3.10.16"
  }
 },
 "nbformat": 4,
 "nbformat_minor": 2
}
