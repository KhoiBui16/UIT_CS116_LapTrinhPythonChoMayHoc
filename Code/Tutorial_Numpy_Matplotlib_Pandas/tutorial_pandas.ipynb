{
 "cells": [
  {
   "cell_type": "markdown",
   "metadata": {},
   "source": [
    "# Tutorial Pandas"
   ]
  },
  {
   "cell_type": "markdown",
   "metadata": {},
   "source": [
    "## 1. `DataFrame`"
   ]
  },
  {
   "cell_type": "markdown",
   "metadata": {},
   "source": [
    "- `DataFrame`: cấu trúc bảng\n",
    "  - Moi hang la cac mẫu dữ liệu"
   ]
  },
  {
   "cell_type": "code",
   "execution_count": 6,
   "metadata": {},
   "outputs": [],
   "source": [
    "import pandas as pd\n"
   ]
  },
  {
   "cell_type": "code",
   "execution_count": 8,
   "metadata": {},
   "outputs": [
    {
     "data": {
      "application/vnd.microsoft.datawrangler.viewer.v0+json": {
       "columns": [
        {
         "name": "index",
         "rawType": "int64",
         "type": "integer"
        },
        {
         "name": "a",
         "rawType": "int64",
         "type": "integer"
        },
        {
         "name": "b",
         "rawType": "int64",
         "type": "integer"
        },
        {
         "name": "c",
         "rawType": "int64",
         "type": "integer"
        }
       ],
       "conversionMethod": "pd.DataFrame",
       "ref": "75ea8a4c-9b8a-474b-bd9f-11406c48688f",
       "rows": [
        [
         "1",
         "1",
         "4",
         "7"
        ],
        [
         "2",
         "2",
         "5",
         "8"
        ],
        [
         "3",
         "3",
         "6",
         "9"
        ]
       ],
       "shape": {
        "columns": 3,
        "rows": 3
       }
      },
      "text/html": [
       "<div>\n",
       "<style scoped>\n",
       "    .dataframe tbody tr th:only-of-type {\n",
       "        vertical-align: middle;\n",
       "    }\n",
       "\n",
       "    .dataframe tbody tr th {\n",
       "        vertical-align: top;\n",
       "    }\n",
       "\n",
       "    .dataframe thead th {\n",
       "        text-align: right;\n",
       "    }\n",
       "</style>\n",
       "<table border=\"1\" class=\"dataframe\">\n",
       "  <thead>\n",
       "    <tr style=\"text-align: right;\">\n",
       "      <th></th>\n",
       "      <th>a</th>\n",
       "      <th>b</th>\n",
       "      <th>c</th>\n",
       "    </tr>\n",
       "  </thead>\n",
       "  <tbody>\n",
       "    <tr>\n",
       "      <th>1</th>\n",
       "      <td>1</td>\n",
       "      <td>4</td>\n",
       "      <td>7</td>\n",
       "    </tr>\n",
       "    <tr>\n",
       "      <th>2</th>\n",
       "      <td>2</td>\n",
       "      <td>5</td>\n",
       "      <td>8</td>\n",
       "    </tr>\n",
       "    <tr>\n",
       "      <th>3</th>\n",
       "      <td>3</td>\n",
       "      <td>6</td>\n",
       "      <td>9</td>\n",
       "    </tr>\n",
       "  </tbody>\n",
       "</table>\n",
       "</div>"
      ],
      "text/plain": [
       "   a  b  c\n",
       "1  1  4  7\n",
       "2  2  5  8\n",
       "3  3  6  9"
      ]
     },
     "execution_count": 8,
     "metadata": {},
     "output_type": "execute_result"
    }
   ],
   "source": [
    "df = pd.DataFrame(\n",
    "    {\"a\" : [1, 2, 3],\n",
    "     \"b\" : [4, 5 ,6],\n",
    "     \"c\" : [7, 8, 9]},\n",
    "    index = [1, 2, 3]\n",
    ")\n",
    "df\n"
   ]
  },
  {
   "cell_type": "markdown",
   "metadata": {},
   "source": [
    "- Nếu các giá trị của các quan sát khác nhau ==> tự điền giá trị khác"
   ]
  },
  {
   "cell_type": "code",
   "execution_count": 10,
   "metadata": {},
   "outputs": [
    {
     "data": {
      "application/vnd.microsoft.datawrangler.viewer.v0+json": {
       "columns": [
        {
         "name": "index",
         "rawType": "int64",
         "type": "integer"
        },
        {
         "name": "a",
         "rawType": "int64",
         "type": "integer"
        },
        {
         "name": "b",
         "rawType": "int64",
         "type": "integer"
        },
        {
         "name": "c",
         "rawType": "int64",
         "type": "integer"
        }
       ],
       "conversionMethod": "pd.DataFrame",
       "ref": "e905ce5f-35d7-4acd-9c57-20cfe3cae82b",
       "rows": [
        [
         "1",
         "1",
         "4",
         "7"
        ],
        [
         "2",
         "2",
         "5",
         "8"
        ],
        [
         "3",
         "3",
         "6",
         "9"
        ]
       ],
       "shape": {
        "columns": 3,
        "rows": 3
       }
      },
      "text/html": [
       "<div>\n",
       "<style scoped>\n",
       "    .dataframe tbody tr th:only-of-type {\n",
       "        vertical-align: middle;\n",
       "    }\n",
       "\n",
       "    .dataframe tbody tr th {\n",
       "        vertical-align: top;\n",
       "    }\n",
       "\n",
       "    .dataframe thead th {\n",
       "        text-align: right;\n",
       "    }\n",
       "</style>\n",
       "<table border=\"1\" class=\"dataframe\">\n",
       "  <thead>\n",
       "    <tr style=\"text-align: right;\">\n",
       "      <th></th>\n",
       "      <th>a</th>\n",
       "      <th>b</th>\n",
       "      <th>c</th>\n",
       "    </tr>\n",
       "  </thead>\n",
       "  <tbody>\n",
       "    <tr>\n",
       "      <th>1</th>\n",
       "      <td>1</td>\n",
       "      <td>4</td>\n",
       "      <td>7</td>\n",
       "    </tr>\n",
       "    <tr>\n",
       "      <th>2</th>\n",
       "      <td>2</td>\n",
       "      <td>5</td>\n",
       "      <td>8</td>\n",
       "    </tr>\n",
       "    <tr>\n",
       "      <th>3</th>\n",
       "      <td>3</td>\n",
       "      <td>6</td>\n",
       "      <td>9</td>\n",
       "    </tr>\n",
       "  </tbody>\n",
       "</table>\n",
       "</div>"
      ],
      "text/plain": [
       "   a  b  c\n",
       "1  1  4  7\n",
       "2  2  5  8\n",
       "3  3  6  9"
      ]
     },
     "execution_count": 10,
     "metadata": {},
     "output_type": "execute_result"
    }
   ],
   "source": [
    "df = pd.DataFrame(\n",
    "    {\"a\" : [1, 2, 3],\n",
    "     \"b\" : [4, 5 ,6],\n",
    "     \"c\" : [7, 8, 9]},\n",
    "    index = [1, 2, 3],\n",
    "    columns=['a', 'b', 'c']\n",
    ")\n",
    "df\n"
   ]
  },
  {
   "cell_type": "markdown",
   "metadata": {},
   "source": [
    "## 2. `Reshaping data`"
   ]
  },
  {
   "cell_type": "markdown",
   "metadata": {},
   "source": [
    "- Thay dổi kích thước của bảng dữ liệu\n",
    "  - ### 2.1 Nối data frame bằng hàm `concat([df1, df2], axis=)`:\n",
    "    - Nếu axis = 0 (nói theo cột)\n",
    "      - Cùng sô luợng cột\n",
    "    - Nêu axis = 1 (nối theo ngang hàng) ==> điều kiên:\n",
    "      - Cùng số dòng || cùng số quan sát\n",
    "\n",
    "  - ### 2.2 `melt(df)`\n",
    "    - Chuyên đổi dữ liệt từ dạng cột --> dạng hàng\n",
    "\n",
    "  - ### 2.3 `pivot(column='var', values='val')`\n",
    "    - chuyển đổi dữ liệu từ dạng dòng --> dạng cột\n",
    "\n",
    "  - ### 2.4 `df.sort_values('mbg')` \n",
    "    - xắp xếp giá tri từ thấp --> cao\n",
    "\n",
    "  - ### 2.5 `dr.sort_values` ('mbg, ascentding = False)\n",
    "\n",
    "  - ### 2.6 `df.rename(columns = {y : year})`\n",
    "\n",
    "  - ### 2.7 `df.sort_index()`\n",
    "\n",
    "  - ### 2.8 `df.reset_index()`\n",
    "\n",
    "  - ### 2.9 `df.drop(columns=['val', 'set'])`"
   ]
  },
  {
   "cell_type": "markdown",
   "metadata": {},
   "source": [
    "# 3. `subset Observation - Rows`"
   ]
  },
  {
   "cell_type": "markdown",
   "metadata": {},
   "source": [
    "- truy vấn && lấy các hàng con trong DataFrame"
   ]
  },
  {
   "cell_type": "markdown",
   "metadata": {},
   "source": [
    "- 1. `df[df.lengt > 7]`\n",
    "  - Xet điều kiện xem ô nào thỏa đk naà --> lấy hết cac quan sat có truong length > 7\n",
    "- 2. `df.drop_duplicates()`: \n",
    "  - TH: các quan sát có giá trị trùng nhau ==> loại bỏ bớt 1 quan sát\n",
    "- 3. `df.sample(frac=0.5)`\n",
    "- 4. `df.head(n)`:\n",
    "  - Lấy ra n dòng đaầ tieê\n",
    "- 5. `df.tail(n)`:\n",
    "  - Lây ra n dòng cuối DataFrame"
   ]
  },
  {
   "cell_type": "markdown",
   "metadata": {},
   "source": [
    "# 4. Subset Observaton - Columns"
   ]
  },
  {
   "cell_type": "markdown",
   "metadata": {},
   "source": [
    "- Lấy ra các cột mong muốn\n",
    "  - `df[['name_col_1', 'name_col_2', 'name_col_3']]`\n",
    "- Lấy ra cột chỉ định bang 2 cách sau:\n",
    "  - `df['width'] `\n",
    "  - `df.width`"
   ]
  },
  {
   "cell_type": "markdown",
   "metadata": {},
   "source": [
    "# 5. Using Query"
   ]
  },
  {
   "cell_type": "markdown",
   "metadata": {},
   "source": [
    "- Dung các leê truy vấn\n",
    "  - `df.query('col_name condition')` === `df[df.col_name condition]`"
   ]
  },
  {
   "cell_type": "markdown",
   "metadata": {},
   "source": [
    "# 6. Subsets - Rows and Columns"
   ]
  },
  {
   "cell_type": "markdown",
   "metadata": {},
   "source": [
    "- ## 6.1 `Truy xuất các dòng và cột con:`\n",
    "  - `df.loc[]`\n",
    "  - `df.iloc[]`\n",
    "==> chọn ra chỉ cột, chỉ dòng, hoặc cả 2\n",
    "\n",
    "\n",
    "- VD1: chọn ra dòng 10-20\n",
    "  - `df.iloc[10:20]`\n",
    "\n",
    "- VD2: Lấy ra các côt chỉ định và laâ hết các dòng\n",
    "  - `df.iloc[:, [1, 2, 5]]`\n",
    "\n",
    "  \n",
    "- ## 6.2 `Truy cập vào chỉ số cuủ dòng và cột`:\n",
    "  - `df.iat[idx1, idx2]`: truy cập vào từng gia trị dựa vào index\n",
    "  - `df.at[idx1, 'label1']` : truy xuất vào từng giá trị dựa vào nhãn:"
   ]
  },
  {
   "cell_type": "markdown",
   "metadata": {},
   "source": [
    "# 7. Thao tác tổng hợp và xử lý dữ liệu (`Nhóm phuưng thức xử dụng nhiều trong pham vi mon học`)\n",
    "\n",
    "## Handling Missing Data & Make new Columns"
   ]
  },
  {
   "cell_type": "markdown",
   "metadata": {},
   "source": [
    "- ## 7.1 `Handling missing data`\n",
    "\n",
    "- `df.dropna()`: \n",
    "  - Nếu trong bảng có ô nào mang giá trị `NA || null` (Ko xác định) ==> loại bỏ đi dòng đó\n",
    "\n",
    "- `df.fullna(value)`:\n",
    "  - nếu trong bảng có ô nào mang giá trị `NA || null` (Ko xác định) ==> thay thế giá trị `NA || null` --> giá trị `value`  chỉ đinh\n",
    "\n",
    "\n",
    "- ## 7.2 'Make new columns'\n",
    "\n",
    "- Ví dụ như bước `feature engeering` --> tạo ra các `đặc trưng mới` ==> tạo thêm `cột mới`\n",
    "\n",
    "- `df['name_new_col]` = df.Lenght * df.Height * df.Depth"
   ]
  },
  {
   "cell_type": "markdown",
   "metadata": {},
   "source": []
  }
 ],
 "metadata": {
  "kernelspec": {
   "display_name": "CS116",
   "language": "python",
   "name": "python3"
  },
  "language_info": {
   "codemirror_mode": {
    "name": "ipython",
    "version": 3
   },
   "file_extension": ".py",
   "mimetype": "text/x-python",
   "name": "python",
   "nbconvert_exporter": "python",
   "pygments_lexer": "ipython3",
   "version": "3.10.16"
  }
 },
 "nbformat": 4,
 "nbformat_minor": 2
}
