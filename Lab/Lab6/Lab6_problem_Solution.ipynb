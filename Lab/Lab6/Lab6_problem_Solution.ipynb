{
 "cells": [
  {
   "cell_type": "markdown",
   "id": "d6ff02f3-f728-4345-b306-6e358589d5ea",
   "metadata": {},
   "source": [
    "<h1><b>Những mô hình hồi quy (regression) và phương pháp đánh giá (metrics)"
   ]
  },
  {
   "cell_type": "markdown",
   "id": "90576a24-7d8f-4bf5-8a58-90c72dea0455",
   "metadata": {},
   "source": [
    "Trong lĩnh vực machine learning, các mô hình máy học đóng vai trò cốt lõi nên việc xây dựng và sử dụng các mô hình máy học là một phần kiến thức quan trọng. Một trong những nhiệm vụ quan trọng của học máy là mô hình hóa các mối quan hệ tuyến tính trong dữ liệu. Trong bài tập này, chúng ta sẽ tập trung vào bài toán hồi quy, một phần quan trọng của machine learning, để dự đoán một biến mục tiêu dựa trên các biến khác.\n",
    "\n",
    "Trong bài tập này, chúng ta sẽ đào sâu vào các bước cơ bản của việc xây dựng và đánh giá mô hình. Chúng ta sẽ trải nghiệm chúng thông qua một bài tập với các nhiệm vụ chính như:\n",
    "\n",
    "* Xây dựng bộ dự liệu\n",
    "* Huấn luyện mô hình\n",
    "* Đánh giá mô hình\n",
    "\n",
    "Khi bạn hoàn thành bài tập này, bạn sẽ có hiểu biết thực tế về việc sử dụng Python và thư viện machine learning để giải quyết bài toán hồi quy. Kỹ năng này là quan trọng trong việc xây dựng các ứng dụng dự đoán và phân tích dữ liệu trong nhiều lĩnh vực khác nhau."
   ]
  },
  {
   "cell_type": "markdown",
   "id": "5652f218-8d3c-4425-b1ac-350011a3358f",
   "metadata": {},
   "source": [
    "Ta cần import những thư viện cần thiết"
   ]
  },
  {
   "cell_type": "code",
   "execution_count": 25,
   "id": "87c62548-5fc4-4946-a9f0-d17c2f62c540",
   "metadata": {},
   "outputs": [],
   "source": [
    "import numpy as np\n",
    "import pandas as pd\n",
    "\n",
    "from sklearn.linear_model import LinearRegression\n",
    "from sklearn.svm import SVR\n",
    "from sklearn.neighbors import KNeighborsRegressor\n",
    "from sklearn.tree import DecisionTreeRegressor\n",
    "\n",
    "from sklearn.preprocessing import MinMaxScaler\n",
    "\n",
    "from sklearn.metrics import mean_squared_error\n",
    "from sklearn.metrics import mean_absolute_error\n",
    "np.random.seed(0)\n"
   ]
  },
  {
   "cell_type": "markdown",
   "id": "a93a9f0e-220b-45de-b700-f6bbf71059e0",
   "metadata": {},
   "source": [
    "Ở đây ta sẽ tìm hiểu về những mô hình regression như: Linear Regression, Decision Tree Regressor, SVR, KNeighbors Regressor"
   ]
  },
  {
   "cell_type": "markdown",
   "id": "8a5411e7-c4d4-4649-b542-15d2ddb3e17e",
   "metadata": {},
   "source": [
    "### 1. Chuẩn bị dữ liệu dữ liệu"
   ]
  },
  {
   "cell_type": "markdown",
   "id": "1161dfd6-b9c8-4d63-9bdf-7a2c6f00c5cb",
   "metadata": {},
   "source": [
    "Đầu tiên ta cần đọc dữ liệu từ file csv `USA_Housing.csv` bằng `pandas` như những bài trước và gán vào biến `df`"
   ]
  },
  {
   "cell_type": "code",
   "execution_count": 26,
   "id": "5e376fcd-891c-407a-af71-e4f095515498",
   "metadata": {},
   "outputs": [],
   "source": [
    "df = pd.read_csv('./data/USA_Housing.csv')\n"
   ]
  },
  {
   "cell_type": "markdown",
   "id": "b90ebefd-e3aa-4729-86fb-a142b490391e",
   "metadata": {},
   "source": [
    "Kiểm tra một số giá trị của df"
   ]
  },
  {
   "cell_type": "code",
   "execution_count": 27,
   "id": "abaed0e6-477c-4b42-b948-4524e51e70d3",
   "metadata": {},
   "outputs": [
    {
     "data": {
      "application/vnd.microsoft.datawrangler.viewer.v0+json": {
       "columns": [
        {
         "name": "index",
         "rawType": "int64",
         "type": "integer"
        },
        {
         "name": "Avg. Area Income",
         "rawType": "float64",
         "type": "float"
        },
        {
         "name": "Avg. Area House Age",
         "rawType": "float64",
         "type": "float"
        },
        {
         "name": "Avg. Area Number of Rooms",
         "rawType": "float64",
         "type": "float"
        },
        {
         "name": "Avg. Area Number of Bedrooms",
         "rawType": "float64",
         "type": "float"
        },
        {
         "name": "Area Population",
         "rawType": "float64",
         "type": "float"
        },
        {
         "name": "Price",
         "rawType": "float64",
         "type": "float"
        },
        {
         "name": "Address",
         "rawType": "object",
         "type": "string"
        }
       ],
       "conversionMethod": "pd.DataFrame",
       "ref": "74d726c7-7536-4cb9-83fc-d530f5cbd17a",
       "rows": [
        [
         "0",
         "79545.45857431678",
         "5.682861321615587",
         "7.009188142792237",
         "4.09",
         "23086.800502686456",
         "1059033.5578701235",
         "208 Michael Ferry Apt. 674\nLaurabury, NE 37010-5101"
        ],
        [
         "1",
         "79248.64245482568",
         "6.0028998082752425",
         "6.730821019094919",
         "3.09",
         "40173.07217364482",
         "1505890.91484695",
         "188 Johnson Views Suite 079\nLake Kathleen, CA 48958"
        ],
        [
         "2",
         "61287.067178656784",
         "5.865889840310001",
         "8.512727430375099",
         "5.13",
         "36882.15939970458",
         "1058987.9878760849",
         "9127 Elizabeth Stravenue\nDanieltown, WI 06482-3489"
        ],
        [
         "3",
         "63345.24004622798",
         "7.1882360945186425",
         "5.586728664827653",
         "3.26",
         "34310.24283090706",
         "1260616.8066294468",
         "USS Barnett\nFPO AP 44820"
        ],
        [
         "4",
         "59982.197225708034",
         "5.040554523106283",
         "7.839387785120487",
         "4.23",
         "26354.109472103148",
         "630943.4893385402",
         "USNS Raymond\nFPO AE 09386"
        ]
       ],
       "shape": {
        "columns": 7,
        "rows": 5
       }
      },
      "text/html": [
       "<div>\n",
       "<style scoped>\n",
       "    .dataframe tbody tr th:only-of-type {\n",
       "        vertical-align: middle;\n",
       "    }\n",
       "\n",
       "    .dataframe tbody tr th {\n",
       "        vertical-align: top;\n",
       "    }\n",
       "\n",
       "    .dataframe thead th {\n",
       "        text-align: right;\n",
       "    }\n",
       "</style>\n",
       "<table border=\"1\" class=\"dataframe\">\n",
       "  <thead>\n",
       "    <tr style=\"text-align: right;\">\n",
       "      <th></th>\n",
       "      <th>Avg. Area Income</th>\n",
       "      <th>Avg. Area House Age</th>\n",
       "      <th>Avg. Area Number of Rooms</th>\n",
       "      <th>Avg. Area Number of Bedrooms</th>\n",
       "      <th>Area Population</th>\n",
       "      <th>Price</th>\n",
       "      <th>Address</th>\n",
       "    </tr>\n",
       "  </thead>\n",
       "  <tbody>\n",
       "    <tr>\n",
       "      <th>0</th>\n",
       "      <td>79545.458574</td>\n",
       "      <td>5.682861</td>\n",
       "      <td>7.009188</td>\n",
       "      <td>4.09</td>\n",
       "      <td>23086.800503</td>\n",
       "      <td>1.059034e+06</td>\n",
       "      <td>208 Michael Ferry Apt. 674\\nLaurabury, NE 3701...</td>\n",
       "    </tr>\n",
       "    <tr>\n",
       "      <th>1</th>\n",
       "      <td>79248.642455</td>\n",
       "      <td>6.002900</td>\n",
       "      <td>6.730821</td>\n",
       "      <td>3.09</td>\n",
       "      <td>40173.072174</td>\n",
       "      <td>1.505891e+06</td>\n",
       "      <td>188 Johnson Views Suite 079\\nLake Kathleen, CA...</td>\n",
       "    </tr>\n",
       "    <tr>\n",
       "      <th>2</th>\n",
       "      <td>61287.067179</td>\n",
       "      <td>5.865890</td>\n",
       "      <td>8.512727</td>\n",
       "      <td>5.13</td>\n",
       "      <td>36882.159400</td>\n",
       "      <td>1.058988e+06</td>\n",
       "      <td>9127 Elizabeth Stravenue\\nDanieltown, WI 06482...</td>\n",
       "    </tr>\n",
       "    <tr>\n",
       "      <th>3</th>\n",
       "      <td>63345.240046</td>\n",
       "      <td>7.188236</td>\n",
       "      <td>5.586729</td>\n",
       "      <td>3.26</td>\n",
       "      <td>34310.242831</td>\n",
       "      <td>1.260617e+06</td>\n",
       "      <td>USS Barnett\\nFPO AP 44820</td>\n",
       "    </tr>\n",
       "    <tr>\n",
       "      <th>4</th>\n",
       "      <td>59982.197226</td>\n",
       "      <td>5.040555</td>\n",
       "      <td>7.839388</td>\n",
       "      <td>4.23</td>\n",
       "      <td>26354.109472</td>\n",
       "      <td>6.309435e+05</td>\n",
       "      <td>USNS Raymond\\nFPO AE 09386</td>\n",
       "    </tr>\n",
       "  </tbody>\n",
       "</table>\n",
       "</div>"
      ],
      "text/plain": [
       "   Avg. Area Income  Avg. Area House Age  Avg. Area Number of Rooms  \\\n",
       "0      79545.458574             5.682861                   7.009188   \n",
       "1      79248.642455             6.002900                   6.730821   \n",
       "2      61287.067179             5.865890                   8.512727   \n",
       "3      63345.240046             7.188236                   5.586729   \n",
       "4      59982.197226             5.040555                   7.839388   \n",
       "\n",
       "   Avg. Area Number of Bedrooms  Area Population         Price  \\\n",
       "0                          4.09     23086.800503  1.059034e+06   \n",
       "1                          3.09     40173.072174  1.505891e+06   \n",
       "2                          5.13     36882.159400  1.058988e+06   \n",
       "3                          3.26     34310.242831  1.260617e+06   \n",
       "4                          4.23     26354.109472  6.309435e+05   \n",
       "\n",
       "                                             Address  \n",
       "0  208 Michael Ferry Apt. 674\\nLaurabury, NE 3701...  \n",
       "1  188 Johnson Views Suite 079\\nLake Kathleen, CA...  \n",
       "2  9127 Elizabeth Stravenue\\nDanieltown, WI 06482...  \n",
       "3                          USS Barnett\\nFPO AP 44820  \n",
       "4                         USNS Raymond\\nFPO AE 09386  "
      ]
     },
     "execution_count": 27,
     "metadata": {},
     "output_type": "execute_result"
    }
   ],
   "source": [
    "df.head()\n"
   ]
  },
  {
   "cell_type": "code",
   "execution_count": 28,
   "id": "1cbc6fb9-5f89-478c-9d2a-4adadfac3711",
   "metadata": {},
   "outputs": [
    {
     "data": {
      "text/plain": [
       "Avg. Area Income                0\n",
       "Avg. Area House Age             0\n",
       "Avg. Area Number of Rooms       0\n",
       "Avg. Area Number of Bedrooms    0\n",
       "Area Population                 0\n",
       "Price                           0\n",
       "Address                         0\n",
       "dtype: int64"
      ]
     },
     "execution_count": 28,
     "metadata": {},
     "output_type": "execute_result"
    }
   ],
   "source": [
    "df.isna().sum()\n"
   ]
  },
  {
   "cell_type": "markdown",
   "id": "d9a8bbbc-1d53-40d1-99ac-7471853c2615",
   "metadata": {},
   "source": [
    "Ta nhận thấy dataframe này không bị khuyết dữ liệu"
   ]
  },
  {
   "cell_type": "markdown",
   "id": "36c2a1ef-d2ec-4580-8f42-5eb6e5e775ff",
   "metadata": {},
   "source": [
    "Ta sẽ bỏ đi cột `Address` vì trong khuôn khổ bài này ta sẽ không cần gian tâm đến các giá trị đó"
   ]
  },
  {
   "cell_type": "code",
   "execution_count": 29,
   "id": "d5797bdd-2f21-450b-9ea8-ed6a072827fc",
   "metadata": {},
   "outputs": [],
   "source": [
    "### BEGIN SOLUTION\n",
    "df = df.drop(columns=['Address'])\n",
    "### END SOLUTION\n"
   ]
  },
  {
   "cell_type": "code",
   "execution_count": 30,
   "id": "38639224-71c8-4934-9bac-3f8ef899539d",
   "metadata": {},
   "outputs": [],
   "source": [
    "assert df.shape == (5000, 6)\n"
   ]
  },
  {
   "cell_type": "markdown",
   "id": "2f788257-9ba1-4e0a-a980-0b4ad3f517fd",
   "metadata": {},
   "source": [
    "Ở đây ta sẽ dùng `MinMaxScaler` để scale cột `Avg. Area Income` và `Area Population`"
   ]
  },
  {
   "cell_type": "code",
   "execution_count": 31,
   "id": "606565e4-1dc8-43f1-81f8-22e4cd1bb9dd",
   "metadata": {},
   "outputs": [
    {
     "data": {
      "application/vnd.microsoft.datawrangler.viewer.v0+json": {
       "columns": [
        {
         "name": "index",
         "rawType": "int64",
         "type": "integer"
        },
        {
         "name": "Avg. Area Income",
         "rawType": "float64",
         "type": "float"
        },
        {
         "name": "Avg. Area House Age",
         "rawType": "float64",
         "type": "float"
        },
        {
         "name": "Avg. Area Number of Rooms",
         "rawType": "float64",
         "type": "float"
        },
        {
         "name": "Avg. Area Number of Bedrooms",
         "rawType": "float64",
         "type": "float"
        },
        {
         "name": "Area Population",
         "rawType": "float64",
         "type": "float"
        },
        {
         "name": "Price",
         "rawType": "float64",
         "type": "float"
        }
       ],
       "conversionMethod": "pd.DataFrame",
       "ref": "354f4024-7c0b-4af2-88cd-fb3b47e2dfcb",
       "rows": [
        [
         "0",
         "0.6868221667025349",
         "5.682861321615587",
         "7.009188142792237",
         "4.09",
         "0.3299422012433329",
         "1059033.5578701235"
        ],
        [
         "1",
         "0.683520729267443",
         "6.0028998082752425",
         "6.730821019094919",
         "3.09",
         "0.5759680101994691",
         "1505890.91484695"
        ],
        [
         "2",
         "0.4837370480050029",
         "5.865889840310001",
         "8.512727430375099",
         "5.13",
         "0.5285820448464251",
         "1058987.9878760849"
        ],
        [
         "3",
         "0.5066297701541234",
         "7.1882360945186425",
         "5.586728664827653",
         "3.26",
         "0.49154893039105785",
         "1260616.8066294468"
        ],
        [
         "4",
         "0.4692231916889185",
         "5.040554523106283",
         "7.839387785120487",
         "4.23",
         "0.37698829460942845",
         "630943.4893385402"
        ],
        [
         "5",
         "0.6938328420109252",
         "4.9884077575337145",
         "6.104512439428879",
         "4.04",
         "0.38266610666609496",
         "1068138.0743935304"
        ],
        [
         "6",
         "0.5216814537955403",
         "6.025335906887153",
         "8.147759585023431",
         "3.41",
         "0.8733826075270911",
         "1502055.8173744078"
        ],
        [
         "7",
         "0.674018453935245",
         "6.9897797477182815",
         "6.620477995185026",
         "2.42",
         "0.5233148720100017",
         "1573936.5644777217"
        ],
        [
         "8",
         "0.46861659204182277",
         "5.36212556960358",
         "6.3931209805509015",
         "2.3",
         "0.42066469089328123",
         "798869.5328331633"
        ],
        [
         "9",
         "0.7128548184912229",
         "4.423671789897876",
         "8.167688003472351",
         "6.1",
         "0.5756353000054427",
         "1545154.8126419624"
        ],
        [
         "10",
         "0.6977449432843346",
         "8.09351268063935",
         "5.042746799645982",
         "4.1",
         "0.677499741975729",
         "1707045.722158058"
        ],
        [
         "11",
         "0.36479641352207665",
         "4.496512793097035",
         "7.467627404008019",
         "4.49",
         "0.4920348841811544",
         "663732.3968963273"
        ],
        [
         "12",
         "0.23621767827750423",
         "7.671755372854428",
         "7.250029317273495",
         "3.1",
         "0.5622498962231927",
         "1042814.0978200928"
        ],
        [
         "13",
         "0.6158384971087525",
         "6.919534825456555",
         "5.9931879009455695",
         "2.27",
         "0.4629795232349694",
         "1291331.5184858206"
        ],
        [
         "14",
         "0.5738800038141731",
         "5.344776176735725",
         "8.406417714534253",
         "4.37",
         "0.5089868979864852",
         "1402818.2101658515"
        ],
        [
         "15",
         "0.6150399141418534",
         "5.443156466535474",
         "8.517512711137975",
         "4.01",
         "0.3420766064108806",
         "1306674.6599511993"
        ],
        [
         "16",
         "0.6886185548102637",
         "5.067889591058972",
         "8.219771123286257",
         "3.12",
         "0.5694127261181543",
         "1556786.6001947748"
        ],
        [
         "17",
         "0.4908780190588449",
         "4.788550241805888",
         "5.0970095543775615",
         "4.3",
         "0.3516717979789413",
         "528485.2467305964"
        ],
        [
         "18",
         "0.5084422838162885",
         "5.947165139552473",
         "7.187773835329727",
         "5.12",
         "0.5118430762691435",
         "1019425.9367578316"
        ],
        [
         "19",
         "0.49261539942384497",
         "5.739410843630574",
         "7.09180810424997",
         "5.49",
         "0.6443495204652352",
         "1030591.4292116084"
        ],
        [
         "20",
         "0.761896208375521",
         "6.627456939781737",
         "8.011897853150563",
         "4.07",
         "0.682343800185777",
         "2146925.339888662"
        ],
        [
         "21",
         "0.4787097791026423",
         "5.551221591990328",
         "6.517175038094777",
         "2.1",
         "0.653746833528642",
         "929247.5995364"
        ],
        [
         "22",
         "0.5193699817944764",
         "4.210322870054841",
         "5.478087730769143",
         "4.31",
         "0.5786446168764254",
         "718887.2315009277"
        ],
        [
         "23",
         "0.4771777368372672",
         "6.1704840908385",
         "7.150536572335959",
         "6.34",
         "0.40271731840342273",
         "743999.8191601974"
        ],
        [
         "24",
         "0.46662776947011847",
         "5.3393398807459",
         "7.7486816056065955",
         "4.23",
         "0.3979515182542686",
         "895737.1333835076"
        ],
        [
         "25",
         "0.43576880354081154",
         "8.287562193759008",
         "7.312879971463007",
         "4.33",
         "0.5834813878984618",
         "1453974.505950872"
        ],
        [
         "26",
         "0.7160548464846068",
         "4.018524684942813",
         "6.992698756791841",
         "2.03",
         "0.5569734651868052",
         "1125692.507295288"
        ],
        [
         "27",
         "0.5208852538461817",
         "5.443359590192101",
         "6.98875353866204",
         "4.0",
         "0.39758802524147696",
         "975429.4927929222"
        ],
        [
         "28",
         "0.808657265967397",
         "6.3843589207152025",
         "4.242191301572632",
         "3.04",
         "0.48665213795809614",
         "1240763.765571478"
        ],
        [
         "29",
         "0.46189985852835785",
         "6.9778279401788375",
         "8.273697077776598",
         "4.07",
         "0.5377758041320022",
         "1577017.7600015546"
        ],
        [
         "30",
         "0.6675358725073488",
         "5.31446021480662",
         "6.686686133004718",
         "3.24",
         "0.4835501945630384",
         "1246830.1884286287"
        ],
        [
         "31",
         "0.5656627743998632",
         "6.124342100310332",
         "6.290820166996657",
         "4.42",
         "0.5641975709498002",
         "1170720.893654292"
        ],
        [
         "32",
         "0.4142669689854675",
         "7.127128552732308",
         "8.591923294114",
         "5.36",
         "0.4312490966271782",
         "1071279.210244544"
        ],
        [
         "33",
         "0.3606254937149476",
         "6.118808130610341",
         "7.333554072097737",
         "6.29",
         "0.23957361549924278",
         "534305.1323349292"
        ],
        [
         "34",
         "0.42392126608179886",
         "5.419562910682705",
         "9.28985437225882",
         "6.0",
         "0.3194083704569678",
         "936368.9634048606"
        ],
        [
         "35",
         "0.6292876400043532",
         "5.500128572841659",
         "6.593045603910363",
         "2.07",
         "0.564766699294545",
         "1199193.8313295112"
        ],
        [
         "36",
         "0.6770612765094504",
         "5.470652206754396",
         "7.780836692853298",
         "4.1",
         "0.39547013276675025",
         "1233220.009477811"
        ],
        [
         "37",
         "0.6774128750196535",
         "5.6527836365363004",
         "6.756453856250772",
         "3.01",
         "0.3263396646590021",
         "1081150.1254838074"
        ],
        [
         "38",
         "0.39298713315118367",
         "5.180664124823801",
         "5.4269028586106165",
         "2.39",
         "0.47192980180576466",
         "524712.7660674525"
        ],
        [
         "39",
         "0.0",
         "4.9495570055571125",
         "6.713905444702088",
         "2.5",
         "0.6766044647925717",
         "302355.83597895555"
        ],
        [
         "40",
         "0.4534805075508586",
         "6.5796914528777375",
         "5.034525351903061",
         "2.17",
         "0.5692349179611798",
         "1026817.399788458"
        ],
        [
         "41",
         "0.6422455709573589",
         "7.8452159144441715",
         "7.555660720822218",
         "6.3",
         "0.4694889263068599",
         "1762214.6795818857"
        ],
        [
         "42",
         "0.3153371326738426",
         "6.623332829320711",
         "7.606831549667412",
         "4.43",
         "0.3886085906905416",
         "882057.1705928424"
        ],
        [
         "43",
         "0.5853375975025388",
         "6.9070829699853125",
         "7.634318731446652",
         "4.44",
         "0.6193214330307185",
         "1744932.210990927"
        ],
        [
         "44",
         "0.49850098449699926",
         "5.499309697116084",
         "7.440505217892156",
         "6.32",
         "0.3846841476892011",
         "1153871.4695016337"
        ],
        [
         "45",
         "0.5405503259022459",
         "7.069512153837191",
         "7.204639709248285",
         "3.18",
         "0.5697477042852207",
         "1499988.8795226102"
        ],
        [
         "46",
         "0.6245497658043144",
         "4.863154306054972",
         "7.537182365353192",
         "6.35",
         "0.5052407442606419",
         "1109588.380162506"
        ],
        [
         "47",
         "0.5711367286298947",
         "7.296224496862651",
         "5.928223472951472",
         "3.22",
         "0.2715370547588805",
         "980177.3051371255"
        ],
        [
         "48",
         "0.6616093465981154",
         "6.238891014754013",
         "6.919204136372873",
         "2.13",
         "0.31034733017499866",
         "1323952.027425176"
        ],
        [
         "49",
         "0.7670037879467795",
         "6.604439818568124",
         "6.252454805349369",
         "4.02",
         "0.6169241705136359",
         "1662494.7355443896"
        ]
       ],
       "shape": {
        "columns": 6,
        "rows": 5000
       }
      },
      "text/html": [
       "<div>\n",
       "<style scoped>\n",
       "    .dataframe tbody tr th:only-of-type {\n",
       "        vertical-align: middle;\n",
       "    }\n",
       "\n",
       "    .dataframe tbody tr th {\n",
       "        vertical-align: top;\n",
       "    }\n",
       "\n",
       "    .dataframe thead th {\n",
       "        text-align: right;\n",
       "    }\n",
       "</style>\n",
       "<table border=\"1\" class=\"dataframe\">\n",
       "  <thead>\n",
       "    <tr style=\"text-align: right;\">\n",
       "      <th></th>\n",
       "      <th>Avg. Area Income</th>\n",
       "      <th>Avg. Area House Age</th>\n",
       "      <th>Avg. Area Number of Rooms</th>\n",
       "      <th>Avg. Area Number of Bedrooms</th>\n",
       "      <th>Area Population</th>\n",
       "      <th>Price</th>\n",
       "    </tr>\n",
       "  </thead>\n",
       "  <tbody>\n",
       "    <tr>\n",
       "      <th>0</th>\n",
       "      <td>0.686822</td>\n",
       "      <td>5.682861</td>\n",
       "      <td>7.009188</td>\n",
       "      <td>4.09</td>\n",
       "      <td>0.329942</td>\n",
       "      <td>1.059034e+06</td>\n",
       "    </tr>\n",
       "    <tr>\n",
       "      <th>1</th>\n",
       "      <td>0.683521</td>\n",
       "      <td>6.002900</td>\n",
       "      <td>6.730821</td>\n",
       "      <td>3.09</td>\n",
       "      <td>0.575968</td>\n",
       "      <td>1.505891e+06</td>\n",
       "    </tr>\n",
       "    <tr>\n",
       "      <th>2</th>\n",
       "      <td>0.483737</td>\n",
       "      <td>5.865890</td>\n",
       "      <td>8.512727</td>\n",
       "      <td>5.13</td>\n",
       "      <td>0.528582</td>\n",
       "      <td>1.058988e+06</td>\n",
       "    </tr>\n",
       "    <tr>\n",
       "      <th>3</th>\n",
       "      <td>0.506630</td>\n",
       "      <td>7.188236</td>\n",
       "      <td>5.586729</td>\n",
       "      <td>3.26</td>\n",
       "      <td>0.491549</td>\n",
       "      <td>1.260617e+06</td>\n",
       "    </tr>\n",
       "    <tr>\n",
       "      <th>4</th>\n",
       "      <td>0.469223</td>\n",
       "      <td>5.040555</td>\n",
       "      <td>7.839388</td>\n",
       "      <td>4.23</td>\n",
       "      <td>0.376988</td>\n",
       "      <td>6.309435e+05</td>\n",
       "    </tr>\n",
       "    <tr>\n",
       "      <th>...</th>\n",
       "      <td>...</td>\n",
       "      <td>...</td>\n",
       "      <td>...</td>\n",
       "      <td>...</td>\n",
       "      <td>...</td>\n",
       "      <td>...</td>\n",
       "    </tr>\n",
       "    <tr>\n",
       "      <th>4995</th>\n",
       "      <td>0.475738</td>\n",
       "      <td>7.830362</td>\n",
       "      <td>6.137356</td>\n",
       "      <td>3.46</td>\n",
       "      <td>0.326351</td>\n",
       "      <td>1.060194e+06</td>\n",
       "    </tr>\n",
       "    <tr>\n",
       "      <th>4996</th>\n",
       "      <td>0.675097</td>\n",
       "      <td>6.999135</td>\n",
       "      <td>6.576763</td>\n",
       "      <td>4.02</td>\n",
       "      <td>0.366362</td>\n",
       "      <td>1.482618e+06</td>\n",
       "    </tr>\n",
       "    <tr>\n",
       "      <th>4997</th>\n",
       "      <td>0.507135</td>\n",
       "      <td>7.250591</td>\n",
       "      <td>4.805081</td>\n",
       "      <td>2.13</td>\n",
       "      <td>0.476515</td>\n",
       "      <td>1.030730e+06</td>\n",
       "    </tr>\n",
       "    <tr>\n",
       "      <th>4998</th>\n",
       "      <td>0.558419</td>\n",
       "      <td>5.534388</td>\n",
       "      <td>7.130144</td>\n",
       "      <td>5.44</td>\n",
       "      <td>0.611282</td>\n",
       "      <td>1.198657e+06</td>\n",
       "    </tr>\n",
       "    <tr>\n",
       "      <th>4999</th>\n",
       "      <td>0.530715</td>\n",
       "      <td>5.992305</td>\n",
       "      <td>6.792336</td>\n",
       "      <td>4.07</td>\n",
       "      <td>0.667088</td>\n",
       "      <td>1.298950e+06</td>\n",
       "    </tr>\n",
       "  </tbody>\n",
       "</table>\n",
       "<p>5000 rows × 6 columns</p>\n",
       "</div>"
      ],
      "text/plain": [
       "      Avg. Area Income  Avg. Area House Age  Avg. Area Number of Rooms  \\\n",
       "0             0.686822             5.682861                   7.009188   \n",
       "1             0.683521             6.002900                   6.730821   \n",
       "2             0.483737             5.865890                   8.512727   \n",
       "3             0.506630             7.188236                   5.586729   \n",
       "4             0.469223             5.040555                   7.839388   \n",
       "...                ...                  ...                        ...   \n",
       "4995          0.475738             7.830362                   6.137356   \n",
       "4996          0.675097             6.999135                   6.576763   \n",
       "4997          0.507135             7.250591                   4.805081   \n",
       "4998          0.558419             5.534388                   7.130144   \n",
       "4999          0.530715             5.992305                   6.792336   \n",
       "\n",
       "      Avg. Area Number of Bedrooms  Area Population         Price  \n",
       "0                             4.09         0.329942  1.059034e+06  \n",
       "1                             3.09         0.575968  1.505891e+06  \n",
       "2                             5.13         0.528582  1.058988e+06  \n",
       "3                             3.26         0.491549  1.260617e+06  \n",
       "4                             4.23         0.376988  6.309435e+05  \n",
       "...                            ...              ...           ...  \n",
       "4995                          3.46         0.326351  1.060194e+06  \n",
       "4996                          4.02         0.366362  1.482618e+06  \n",
       "4997                          2.13         0.476515  1.030730e+06  \n",
       "4998                          5.44         0.611282  1.198657e+06  \n",
       "4999                          4.07         0.667088  1.298950e+06  \n",
       "\n",
       "[5000 rows x 6 columns]"
      ]
     },
     "execution_count": 31,
     "metadata": {},
     "output_type": "execute_result"
    }
   ],
   "source": [
    "from sklearn.model_selection import train_test_split\n",
    "from sklearn.preprocessing import MinMaxScaler\n",
    "\n",
    "scale = MinMaxScaler()\n",
    "df['Avg. Area Income'] = scale.fit_transform(np.array(df['Avg. Area Income']).reshape(-1, 1))\n",
    "df['Area Population'] = scale.fit_transform(np.array(df['Area Population']).reshape(-1, 1))\n",
    "df\n"
   ]
  },
  {
   "cell_type": "markdown",
   "id": "e1bfeb80-4521-48d5-98a4-5450edd41565",
   "metadata": {},
   "source": [
    "Tiếp đến ta sẽ chia dữ liệu thành tập train và test bằng `train_test_split`\n",
    "* Ta gán biến `y` bằng dữ liệu ở cột `Price`\n",
    "* Ta gán biến `x` là dữ liệu ở tất cả các cột còn lại\n",
    "* Sau đó dùng `train_test_split` để chia **x_train, x_test, y_train, y_test = .......** với `random_state=42, test_size=0.01 (điều này có nghĩa 99% dữ liệu ban đầu sẽ dành để huấn luyện và phần còn lại sẽ dùng để kiểm tra)`"
   ]
  },
  {
   "cell_type": "code",
   "execution_count": 39,
   "id": "deb38dd3-14a4-4c3d-8a9a-f15ba1bbaadc",
   "metadata": {},
   "outputs": [],
   "source": [
    "### BEGIN SOLUTION\n",
    "y = df['Price']\n",
    "x = df.drop(columns=['Price'])\n",
    "x_train, x_test, y_train, y_test = train_test_split(x, y, test_size=0.01, random_state=42)\n",
    "\n",
    "\n",
    "### END SOLUTION\n"
   ]
  },
  {
   "cell_type": "markdown",
   "id": "ed780bec-8b9d-442c-b530-f2a3f22380f7",
   "metadata": {},
   "source": [
    "### 2. Huấn luyện và đánh giá mô hình"
   ]
  },
  {
   "cell_type": "markdown",
   "id": "19000ca1-7b5e-412e-92ae-08ea96bdf367",
   "metadata": {},
   "source": [
    "#### 2.1 Mô hình Linear Regression"
   ]
  },
  {
   "cell_type": "markdown",
   "id": "6add45ac-3f31-4c90-9e18-d0b2fc1e0a49",
   "metadata": {},
   "source": [
    "Để dùng mô hình Linear Regression ta cần\n",
    "* Khởi tạo một đối tượng mô hình `LinearRegression` và gán nó cho biến `li_r = ......`\n",
    "* Sau đó huấn luyện mô hình khởi tạo trước đó sử dụng dữ liệu `x_train`, `y_train`\n",
    "* Predict ra kết quả của `x_test` và gán vào biến `pred_li = .......`"
   ]
  },
  {
   "cell_type": "code",
   "execution_count": 40,
   "id": "d7c409ab-71b2-4bfd-93b8-4f6d61f2dcf7",
   "metadata": {},
   "outputs": [
    {
     "data": {
      "text/plain": [
       "<matplotlib.legend.Legend at 0x22f75fec040>"
      ]
     },
     "execution_count": 40,
     "metadata": {},
     "output_type": "execute_result"
    },
    {
     "data": {
      "image/png": "[encoded data removed]",
      "text/plain": [
       "<Figure size 640x480 with 1 Axes>"
      ]
     },
     "metadata": {},
     "output_type": "display_data"
    }
   ],
   "source": [
    "### BEGIN SOLUTION\n",
    "li_r = LinearRegression()\n",
    "li_r.fit(x_train, y_train)\n",
    "\n",
    "pred_li = li_r.predict(x_test)\n",
    "\n",
    "\n",
    "### END SOLUTION\n",
    "\n",
    "import matplotlib.pyplot as plt\n",
    "\n",
    "plt.scatter(y_test, pred_li, c='blue', label='Dữ liệu thực tế')\n",
    "plt.scatter(pred_li, y_test, c='red', label='Dự đoán')\n",
    "\n",
    "plt.plot([min(y_test), max(y_test)], [min(y_test), max(y_test)], linestyle='-')\n",
    "plt.plot([min(pred_li), max(pred_li)], [min(pred_li), max(pred_li)], linestyle='-')\n",
    "plt.title(\"So sánh Dự đoán và Thực tế\")\n",
    "plt.legend()\n"
   ]
  },
  {
   "cell_type": "markdown",
   "id": "699e480c-f50d-4873-9768-8bc98609b977",
   "metadata": {},
   "source": [
    "Đây là phân bố của dữ liệu đã dự đoán và thực tế\n",
    "\n",
    "Quá trình so sánh giữa `predict` và `thực tế` gọi là validation"
   ]
  },
  {
   "cell_type": "markdown",
   "id": "49aaa0d5-3da4-4c30-ab1a-51366cac688f",
   "metadata": {},
   "source": [
    "Ở bước này, ta cần tính độ đo `MSE` bằng hàm `mean_squared_error` và gán vào biến `mse_li`"
   ]
  },
  {
   "cell_type": "code",
   "execution_count": 41,
   "id": "16a8dae4-6576-4475-8fa5-3bc24410579d",
   "metadata": {},
   "outputs": [
    {
     "data": {
      "text/plain": [
       "9405950502.281235"
      ]
     },
     "execution_count": 41,
     "metadata": {},
     "output_type": "execute_result"
    }
   ],
   "source": [
    "### BEGIN SOLUTION\n",
    "mse_li = mean_squared_error(pred_li, y_test)\n",
    "### END SOLUTION\n",
    "mse_li\n"
   ]
  },
  {
   "cell_type": "markdown",
   "id": "05084419-3c3a-4b3d-9c0b-c4921d783574",
   "metadata": {},
   "source": [
    "Và ta cũng có thể tính độ đo `MAE` bằng hàm `mean_absolute_error` và gán vào biến `mae_li`"
   ]
  },
  {
   "cell_type": "code",
   "execution_count": 42,
   "id": "0ca02b4d-3a5f-49f9-98f9-f2c3b88eb65d",
   "metadata": {},
   "outputs": [],
   "source": [
    "### BEGIN SOLUTION\n",
    "mae_li = mean_absolute_error(pred_li, y_test)\n",
    "### END SOLUTION\n"
   ]
  },
  {
   "cell_type": "markdown",
   "id": "d826ff9d-3fbc-4f55-9d34-d2473bc9e039",
   "metadata": {},
   "source": [
    "#### 2.2 Mô hình Decision Tree Regressor"
   ]
  },
  {
   "cell_type": "markdown",
   "id": "73e470f1-4a87-4591-8c2f-3426bd533d6c",
   "metadata": {},
   "source": [
    "Tiếp đến là một mô hình regression khác đó là `DecisionTreeRegressor`\n",
    "* Cũng giống mô hình Linear Regression, đầu tiên ta cần khởi tạo đối tượng `DecisionTreeRegressor` và gán vào biến `de_r`\n",
    "* Tiếp đến ta `fit` `x_train và y_train` ở trên vào mô hình\n",
    "* Ta dùng phương thức `predict` của mô hình để predict `x_test` và gán vào biến `pred_tree`"
   ]
  },
  {
   "cell_type": "code",
   "execution_count": 43,
   "id": "e56262b9-2008-481c-84c7-00f42eb14ece",
   "metadata": {},
   "outputs": [
    {
     "data": {
      "text/plain": [
       "<matplotlib.legend.Legend at 0x22f78f6f5e0>"
      ]
     },
     "execution_count": 43,
     "metadata": {},
     "output_type": "execute_result"
    },
    {
     "data": {
      "image/png": "[encoded data removed]",
      "text/plain": [
       "<Figure size 640x480 with 1 Axes>"
      ]
     },
     "metadata": {},
     "output_type": "display_data"
    }
   ],
   "source": [
    "### BEGIN SOLUTION\n",
    "de_r = DecisionTreeRegressor()\n",
    "de_r.fit(x_train, y_train)\n",
    "pred_tree = de_r.predict(x_test)\n",
    "\n",
    "\n",
    "### END SOLUTION\n",
    "import matplotlib.pyplot as plt\n",
    "\n",
    "plt.scatter(y_test, pred_tree, c='blue', label='Dữ liệu thực tế')\n",
    "plt.scatter(pred_tree, y_test, c='red', label='Dự đoán')\n",
    "\n",
    "plt.plot([min(y_test), max(y_test)], [min(y_test), max(y_test)], linestyle='-', color ='red')\n",
    "plt.plot([min(pred_tree), max(pred_tree)], [min(pred_tree), max(pred_tree)], linestyle='-', color ='blue')\n",
    "plt.title(\"So sánh Dự đoán và Thực tế\")\n",
    "plt.legend()\n"
   ]
  },
  {
   "cell_type": "markdown",
   "id": "ef5f64ce-6d7a-4b84-970b-75bfd6708a84",
   "metadata": {},
   "source": [
    "Tương tự như trên, ta tính độ đo `MSE` và gán vào biến `mse_tree`"
   ]
  },
  {
   "cell_type": "code",
   "execution_count": 44,
   "id": "99a7519f-1b80-404d-9ea5-1130825f546c",
   "metadata": {},
   "outputs": [
    {
     "data": {
      "text/plain": [
       "34201780085.58606"
      ]
     },
     "execution_count": 44,
     "metadata": {},
     "output_type": "execute_result"
    }
   ],
   "source": [
    "### BEGIN SOLUTION\n",
    "mse_tree = mean_squared_error(pred_tree, y_test)\n",
    "### END SOLUTION\n",
    "mse_tree\n"
   ]
  },
  {
   "cell_type": "markdown",
   "id": "913e9200-94eb-4ae0-a99c-3f87cec3b99a",
   "metadata": {},
   "source": [
    "Tương tự như trên, ta tính độ đo `MAE` và gán vào biến `mae_tree`"
   ]
  },
  {
   "cell_type": "code",
   "execution_count": 45,
   "id": "aefae6d1-5389-4098-86ab-6272381a3191",
   "metadata": {},
   "outputs": [
    {
     "data": {
      "text/plain": [
       "147530.89203945897"
      ]
     },
     "execution_count": 45,
     "metadata": {},
     "output_type": "execute_result"
    }
   ],
   "source": [
    "### BEGIN SOLUTION\n",
    "mae_tree = mean_absolute_error(pred_tree, y_test)\n",
    "### END SOLUTION\n",
    "mae_tree\n"
   ]
  },
  {
   "cell_type": "markdown",
   "id": "5f80bd93-976d-4756-bd98-99daaa30dc27",
   "metadata": {},
   "source": [
    "#### 2.3 Mô hình Support Vector Regression (SVR)"
   ]
  },
  {
   "cell_type": "markdown",
   "id": "262e03e8-f8e8-4bb7-bbfc-ce0dfce96c13",
   "metadata": {},
   "source": [
    "Tiếp đến là một mô hình regression khác đó là `SVR`\n",
    "* Cũng giống các mô hình trên, đầu tiên ta cần khởi tạo đối tượng `SVR` và gán vào biến `svr`\n",
    "* Tiếp đến ta `fit` `x_train và y_train` ở trên vào mô hình\n",
    "* Ta dùng phương thức `predict` của mô hình để predict `x_test` và gán vào biến `pred_svr`"
   ]
  },
  {
   "cell_type": "code",
   "execution_count": 46,
   "id": "f2105b8d-99f7-49e4-949f-4a61f6b579f6",
   "metadata": {},
   "outputs": [
    {
     "data": {
      "text/plain": [
       "<matplotlib.legend.Legend at 0x22f7ad60ca0>"
      ]
     },
     "execution_count": 46,
     "metadata": {},
     "output_type": "execute_result"
    },
    {
     "data": {
      "image/png": "[encoded data removed]",
      "text/plain": [
       "<Figure size 640x480 with 1 Axes>"
      ]
     },
     "metadata": {},
     "output_type": "display_data"
    }
   ],
   "source": [
    "### BEGIN SOLUTION\n",
    "svr = SVR()\n",
    "svr.fit(x_train, y_train)\n",
    "pred_svr = svr.predict(x_test)\n",
    "\n",
    "\n",
    "### END SOLUTION\n",
    "import matplotlib.pyplot as plt\n",
    "\n",
    "plt.scatter(y_test, pred_svr, c='blue', label='Dữ liệu thực tế')\n",
    "plt.scatter(pred_svr, y_test, c='red', label='Dự đoán')\n",
    "\n",
    "plt.plot([min(y_test), max(y_test)], [min(y_test), max(y_test)], linestyle='-', color ='red')\n",
    "plt.plot([min(pred_svr), max(pred_svr)], [min(pred_svr), max(pred_svr)], linestyle='-', color ='blue')\n",
    "plt.title(\"So sánh Dự đoán và Thực tế\")\n",
    "plt.legend()\n"
   ]
  },
  {
   "cell_type": "markdown",
   "id": "b43d7881-5a9a-4d54-9356-0b7b881d67d7",
   "metadata": {},
   "source": [
    "Tương tự ở đây ta sẽ tính độ đo `MSE` và gán vào biến `mse_svr`"
   ]
  },
  {
   "cell_type": "code",
   "execution_count": 47,
   "id": "44afac81-0aa4-48b7-b48c-b77f6f83f707",
   "metadata": {},
   "outputs": [
    {
     "data": {
      "text/plain": [
       "93305056656.22443"
      ]
     },
     "execution_count": 47,
     "metadata": {},
     "output_type": "execute_result"
    }
   ],
   "source": [
    "### BEGIN SOLUTION\n",
    "mse_svr = mean_squared_error(pred_svr, y_test)\n",
    "### END SOLUTION\n",
    "mse_svr\n"
   ]
  },
  {
   "cell_type": "markdown",
   "id": "89e94585-f5f8-4407-abac-2879212035e2",
   "metadata": {},
   "source": [
    "Và độ đo `MAE` và gán vào biến `mae_svr`"
   ]
  },
  {
   "cell_type": "code",
   "execution_count": 48,
   "id": "a9d5eea4-da10-40e0-9888-c98c67e927a4",
   "metadata": {},
   "outputs": [
    {
     "data": {
      "text/plain": [
       "256152.25430667962"
      ]
     },
     "execution_count": 48,
     "metadata": {},
     "output_type": "execute_result"
    }
   ],
   "source": [
    "### BEGIN SOLUTION\n",
    "mae_svr = mean_absolute_error(pred_svr, y_test)\n",
    "### END SOLUTION\n",
    "mae_svr\n"
   ]
  },
  {
   "cell_type": "markdown",
   "id": "16e8135c-0760-421e-ac8a-b0c7259f57e7",
   "metadata": {},
   "source": [
    "#### 2.4 Mô hình K-Neighbors Regressor"
   ]
  },
  {
   "cell_type": "markdown",
   "id": "c103b58f-f6c0-45aa-b48f-5176f1c12e03",
   "metadata": {},
   "source": [
    "Mô hình cuối cùng ta tìm hiểu trong bài này đó là `KNRegressor`\n",
    "* Đầu tiên ta cần khởi tạo đối tượng mô hình `KNeighborsRegressor` với tham số `n_neighbors=5` và gán vào biến `knr`\n",
    "* Sau đó ta `fit` và `predict` như ở trên và gán vào biến `pred_knr`"
   ]
  },
  {
   "cell_type": "code",
   "execution_count": 50,
   "id": "bdb3c637-cfae-4d58-b8b8-5109a5d11441",
   "metadata": {},
   "outputs": [
    {
     "data": {
      "text/plain": [
       "<matplotlib.legend.Legend at 0x22f7af27e80>"
      ]
     },
     "execution_count": 50,
     "metadata": {},
     "output_type": "execute_result"
    },
    {
     "data": {
      "image/png": "[encoded data removed]",
      "text/plain": [
       "<Figure size 640x480 with 1 Axes>"
      ]
     },
     "metadata": {},
     "output_type": "display_data"
    }
   ],
   "source": [
    "### BEGIN SOLUTION\n",
    "knr = KNeighborsRegressor(n_neighbors=5)\n",
    "knr.fit(x_train, y_train)\n",
    "pred_knr = knr.predict(x_test)\n",
    "\n",
    "\n",
    "### END SOLUTION\n",
    "\n",
    "plt.scatter(y_test, pred_knr, c='blue', label='Dữ liệu thực tế')\n",
    "plt.scatter(pred_knr, y_test, c='red', label='Dự đoán')\n",
    "plt.plot([min(y_test), max(y_test)], [min(y_test), max(y_test)], linestyle='-', color ='red')\n",
    "plt.plot([min(pred_knr), max(pred_knr)], [min(pred_knr), max(pred_knr)], linestyle='-', color ='blue')\n",
    "plt.title(\"So sánh Dự đoán và Thực tế\")\n",
    "plt.legend()\n"
   ]
  },
  {
   "cell_type": "markdown",
   "id": "c38a73f2-fd6c-4a4b-bae3-f446c8af1a51",
   "metadata": {},
   "source": [
    "Ta tiếp tục tính 2 độ đo `MSE` và `MAE` và lần lượt gán vào 2 biến `mse_knn` và `mae_knn`"
   ]
  },
  {
   "cell_type": "code",
   "execution_count": 51,
   "id": "cf58f50c-7f27-4051-8406-7171d9ba44be",
   "metadata": {},
   "outputs": [
    {
     "data": {
      "text/plain": [
       "34373343769.55536"
      ]
     },
     "execution_count": 51,
     "metadata": {},
     "output_type": "execute_result"
    }
   ],
   "source": [
    "### BEGIN SOLUTION\n",
    "mse_knr = mean_squared_error(pred_knr, y_test)\n",
    "### END SOLUTION\n",
    "mse_knr\n"
   ]
  },
  {
   "cell_type": "code",
   "execution_count": 52,
   "id": "7bd74d90-6aee-4210-b17e-dcba635a0604",
   "metadata": {},
   "outputs": [
    {
     "data": {
      "text/plain": [
       "143461.55096352854"
      ]
     },
     "execution_count": 52,
     "metadata": {},
     "output_type": "execute_result"
    }
   ],
   "source": [
    "### BEGIN SOLUTION\n",
    "mae_knr = mean_absolute_error(pred_knr, y_test)\n",
    "### END SOLUTION\n",
    "mae_knr\n"
   ]
  },
  {
   "cell_type": "markdown",
   "id": "fbaf34e0-2ec2-4d0c-ab0f-5e312a30ecb6",
   "metadata": {},
   "source": [
    "### 3. So sánh kết quả các mô hình"
   ]
  },
  {
   "cell_type": "code",
   "execution_count": 53,
   "id": "a305102e-01e4-4cd9-87fb-798d8346b241",
   "metadata": {},
   "outputs": [
    {
     "data": {
      "image/png": "[encoded data removed]",
      "text/plain": [
       "<Figure size 1200x1200 with 2 Axes>"
      ]
     },
     "metadata": {},
     "output_type": "display_data"
    }
   ],
   "source": [
    "import seaborn as sns\n",
    "mse = [mse_li, mse_tree, mse_svr, mse_knr]\n",
    "mae = [mae_li, mae_tree, mae_svr, mae_knr]\n",
    "label = ['Linear Regression', 'Decision Tree Regressor', 'SVR', 'KNeighbors Regressor']\n",
    "fig, ax = plt.subplots(1, 2, figsize=(12, 12))\n",
    "sns.barplot(x=label, y=mse, ax=ax[0])\n",
    "ax[0].set_title('MSE')\n",
    "sns.barplot(x=label, y=mae, ax=ax[-1])\n",
    "ax[1].set_title('MAE')\n",
    "plt.tight_layout()\n"
   ]
  },
  {
   "cell_type": "markdown",
   "id": "4628cccd-583e-4f78-bf3d-45f55a95391b",
   "metadata": {},
   "source": [
    "Qua biểu đồ trên, ta có thể thấy được với dữ liệu này thì mô hình `Linear Regression` sẽ cho kết quả tốt nhất trong 4 mô hình"
   ]
  }
 ],
 "metadata": {
  "colab": {
   "provenance": []
  },
  "kernelspec": {
   "display_name": "ML_env",
   "language": "python",
   "name": "python3"
  },
  "language_info": {
   "codemirror_mode": {
    "name": "ipython",
    "version": 3
   },
   "file_extension": ".py",
   "mimetype": "text/x-python",
   "name": "python",
   "nbconvert_exporter": "python",
   "pygments_lexer": "ipython3",
   "version": "3.10.16"
  }
 },
 "nbformat": 4,
 "nbformat_minor": 5
}
